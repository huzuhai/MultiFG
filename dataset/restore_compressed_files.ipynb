{
 "cells": [
  {
   "cell_type": "code",
   "execution_count": 31,
   "metadata": {},
   "outputs": [],
   "source": [
    "import pandas as pd\n",
    "import numpy as np\n",
    "import sys"
   ]
  },
  {
   "cell_type": "code",
   "execution_count": 32,
   "metadata": {},
   "outputs": [],
   "source": [
    "# load compressed file\n",
    "data6_id = pd.read_csv('data6_id.csv.gz', compression='gzip')\n",
    "drug = pd.read_csv('drug.csv.gz', compression='gzip')\n",
    "adr = pd.read_csv('adr.csv.gz', compression='gzip')"
   ]
  },
  {
   "cell_type": "code",
   "execution_count": 33,
   "metadata": {},
   "outputs": [],
   "source": [
    "data6_reconstruct = data6_id.merge(drug.loc[:,['GenericName', 'dg_smile_unif', 'Macc', 'pubchem', 'Morgan', 'Rtoplo', 'pharmfp']])\n",
    "data6_reconstruct = data6_reconstruct.merge(adr, on = 'SideeffectTerm')\n",
    "data6_reconstruct = data6_reconstruct.loc[:, ['GenericName', 'SideeffectTerm', 'FrequencyRatingValue',\n",
    "       'dg_smile_unif', 'adr_similar', 'Macc', 'pubchem', 'Morgan', 'Rtoplo',\n",
    "       'pharmfp']]"
   ]
  },
  {
   "cell_type": "markdown",
   "metadata": {},
   "source": [
    "Get the analysis dataset"
   ]
  },
  {
   "cell_type": "code",
   "execution_count": 34,
   "metadata": {},
   "outputs": [],
   "source": [
    "data6_reconstruct.to_csv('./analysis_data.csv', index=False)"
   ]
  }
 ],
 "metadata": {
  "kernelspec": {
   "display_name": "drug_ade_37",
   "language": "python",
   "name": "python3"
  },
  "language_info": {
   "codemirror_mode": {
    "name": "ipython",
    "version": 3
   },
   "file_extension": ".py",
   "mimetype": "text/x-python",
   "name": "python",
   "nbconvert_exporter": "python",
   "pygments_lexer": "ipython3",
   "version": "3.7.1"
  }
 },
 "nbformat": 4,
 "nbformat_minor": 2
}
