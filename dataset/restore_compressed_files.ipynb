{
 "cells": [
  {
   "cell_type": "markdown",
   "metadata": {},
   "source": [
    "### 拆分data6和pps后进行合并并验证"
   ]
  },
  {
   "cell_type": "code",
   "execution_count": 2,
   "metadata": {},
   "outputs": [],
   "source": [
    "import pandas as pd\n",
    "import numpy as np\n",
    "import sys"
   ]
  },
  {
   "cell_type": "code",
   "execution_count": 2,
   "metadata": {},
   "outputs": [],
   "source": [
    "# 读取压缩的 CSV 文件\n",
    "pps_id = pd.read_csv('pps_id.csv.gz', compression='gzip')\n",
    "data6_id = pd.read_csv('data6_id.csv.gz', compression='gzip')\n",
    "drug = pd.read_csv('drug.csv.gz', compression='gzip')\n",
    "adr = pd.read_csv('adr.csv.gz', compression='gzip')\n",
    "nns_re = pd.read_csv('./NNS_all.csv.gz', compression='gzip')"
   ]
  },
  {
   "cell_type": "code",
   "execution_count": 3,
   "metadata": {},
   "outputs": [],
   "source": [
    "data6_reconstruct = data6_id.merge(drug.loc[:,['GenericName', 'dg_smile_unif', 'Macc', 'pubchem', 'Morgan', 'Rtoplo', 'pharmfp']])\n",
    "data6_reconstruct = data6_reconstruct.merge(adr, on = 'SideeffectTerm')\n",
    "data6_reconstruct = data6_reconstruct.loc[:, ['GenericName', 'SideeffectTerm', 'FrequencyRatingValue',\n",
    "       'dg_smile_unif', 'adr_similar', 'Macc', 'pubchem', 'Morgan', 'Rtoplo',\n",
    "       'pharmfp']]"
   ]
  },
  {
   "cell_type": "code",
   "execution_count": 4,
   "metadata": {},
   "outputs": [],
   "source": [
    "pps_reconstruct = pps_id.merge(drug.loc[:, ['GenericName', 'dg_smile_unif', 'Macc', 'pubchem', 'Morgan', 'Rtoplo', 'macc_simi', 'morgan_simi', 'rtoplo_simi', 'com_simi']], on='GenericName')\n",
    "pps_reconstruct = pps_reconstruct.merge(adr, on = 'SideeffectTerm')\n",
    "pps_reconstruct = pps_reconstruct.loc[:, ['GenericName', 'SideeffectTerm', 'FrequencyRatingValue',\n",
    "       'dg_smile_unif', 'adr_similar', 'Macc', 'pubchem', 'Morgan', 'Rtoplo',\n",
    "       'macc_simi', 'morgan_simi', 'rtoplo_simi', 'com_simi', 'association']]"
   ]
  },
  {
   "cell_type": "code",
   "execution_count": 6,
   "metadata": {},
   "outputs": [],
   "source": [
    "data6_reconstruct.to_csv('./data6.csv', index=False)\n",
    "pps_reconstruct.to_csv('./PPS.csv', index=False)\n",
    "nns_re.to_csv('./NNS_all.csv', index=False)"
   ]
  }
 ],
 "metadata": {
  "language_info": {
   "name": "python"
  }
 },
 "nbformat": 4,
 "nbformat_minor": 2
}
