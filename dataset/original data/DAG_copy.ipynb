{
 "cells": [
  {
   "cell_type": "code",
   "execution_count": 25,
   "metadata": {},
   "outputs": [],
   "source": [
    "import numpy as np\n",
    "import csv\n",
    "import math\n",
    "import xlrd\n",
    "import pandas as pd\n",
    "from tqdm import tqdm\n"
   ]
  },
  {
   "cell_type": "code",
   "execution_count": 2,
   "metadata": {},
   "outputs": [],
   "source": [
    "def ReadMyCsv(SaveList, fileName):\n",
    "    csv_reader = csv.reader(open(fileName))\n",
    "    for row in csv_reader:\n",
    "        SaveList.append(row)\n",
    "    return\n",
    "\n",
    "def StorFile(data, fileName):\n",
    "    with open(fileName, \"w\", newline='') as csvfile:\n",
    "        writer = csv.writer(csvfile)\n",
    "        writer.writerows(data)\n",
    "    return"
   ]
  },
  {
   "cell_type": "code",
   "execution_count": 3,
   "metadata": {},
   "outputs": [
    {
     "name": "stdout",
     "output_type": "stream",
     "text": [
      "994\n",
      "abdominal distension\n"
     ]
    },
    {
     "data": {
      "text/plain": [
       "4"
      ]
     },
     "execution_count": 3,
     "metadata": {},
     "output_type": "execute_result"
    }
   ],
   "source": [
    "# load files\n",
    "FinalAllDisease = []\n",
    "ReadMyCsv(FinalAllDisease, \"side_effect.csv\")#将adr添加到FinalAllDisease中\n",
    "\n",
    "len(FinalAllDisease)#994个adr\n",
    "FinalAllDisease[0]\n",
    "\n",
    "# ReadMyCsv(FinalAllDisease, \"disease.csv\")\n",
    "FinalAllDisease = np.array(FinalAllDisease)[:, 0]\n",
    "print(len(FinalAllDisease))\n",
    "print(FinalAllDisease[1])\n",
    "# FinalAllDisease = FinalAllDisease[0:100]\n",
    "\n",
    "\n",
    "DiseaseMeSHTreeStructure = []\n",
    "# ReadMyCsv(DiseaseMeSHTreeStructure, \"MeSHTreeStructureLow.csv\")\n",
    "# print(len(DiseaseMeSHTreeStructure))\n",
    "# print(DiseaseMeSHTreeStructure[0])\n",
    "\n",
    "data1 = xlrd.open_workbook('ADR_Drug.xlsx')\n",
    "\n",
    "table1 = data1.sheet_by_name('Sheet 1')\n",
    "table1.nrows\n",
    "table1.ncols\n",
    "#table1的变量名\n",
    "#第三类是ADReCS的id，第四列是小写的adr"
   ]
  },
  {
   "cell_type": "code",
   "execution_count": 4,
   "metadata": {},
   "outputs": [],
   "source": [
    "for i in range(table1.nrows):\n",
    "    x = table1.cell(i, 3).value\n",
    "    y = table1.cell(i, 2).value\n",
    "    y = y.split('.')\n",
    "    if len(y) == 4:\n",
    "        y1 = 'a'+y[0]\n",
    "        y2 = '0'+y[1]\n",
    "        y3 = '0'+y[2]\n",
    "        y = y1+'.' + y2 + '.' + y3 + '.' + y[3]\n",
    "    if len(y) == 3:\n",
    "        y1 = 'a' + y[0]\n",
    "        y2 = '0' + y[1]\n",
    "        y3 = '0' + y[2]\n",
    "        y = y1 + '.' + y2 + '.' + y3\n",
    "    if len(y) == 2:\n",
    "        y1 = 'a' + y[0]\n",
    "        y2 = '0' + y[1]\n",
    "        y = y1 + '.' + y2\n",
    "    if len(y) == 1:\n",
    "        y = 'a' + y[0]\n",
    "    DiseaseMeSHTreeStructure.append([x, y])\n",
    "DiseaseMeSHTreeStructure[0]\n",
    "\n",
    "AllDisease = FinalAllDisease\n",
    "mesh = DiseaseMeSHTreeStructure"
   ]
  },
  {
   "cell_type": "code",
   "execution_count": 5,
   "metadata": {},
   "outputs": [
    {
     "name": "stdout",
     "output_type": "stream",
     "text": [
      "DiseaseAndMeshID\n",
      "994\n"
     ]
    }
   ],
   "source": [
    "DiseaseAndMeshID = []\n",
    "counter1 = 0\n",
    "while counter1 < len(AllDisease):\n",
    "    DiseaseAndMeshPair = []\n",
    "    DiseaseAndMeshID.append(DiseaseAndMeshPair)\n",
    "    DiseaseAndMeshID[counter1].append(AllDisease[counter1])\n",
    "    counter2 = 0\n",
    "    flag = 0\n",
    "    while counter2 < len(mesh):\n",
    "        if (mesh[counter2][0] == DiseaseAndMeshID[counter1][0]) & (flag == 1):\n",
    "            DiseaseAndMeshID[counter1][1].append(mesh[counter2][1]) #将疾病对应的mesh id添加到DiseaseAndMeshID中\n",
    "        if (mesh[counter2][0] == DiseaseAndMeshID[counter1][0]) & (flag == 0):\n",
    "            MeshID = []\n",
    "            MeshID.append(mesh[counter2][1])\n",
    "            DiseaseAndMeshID[counter1].append(MeshID)\n",
    "            flag = 1\n",
    "        if (counter2 == len(mesh) - 1) & (len(DiseaseAndMeshID[counter1]) == 1):\n",
    "            DiseaseAndMeshID[counter1].append(0)\n",
    "        counter2 = counter2 + 1\n",
    "    counter1 = counter1 + 1\n",
    "print('DiseaseAndMeshID')\n",
    "print(len(DiseaseAndMeshID))\n"
   ]
  },
  {
   "cell_type": "code",
   "execution_count": 6,
   "metadata": {},
   "outputs": [
    {
     "name": "stdout",
     "output_type": "stream",
     "text": [
      "len(DAGs) 994\n"
     ]
    },
    {
     "data": {
      "text/plain": [
       "[['abdominal discomfort', ['a07.001.006.001'], 0]]"
      ]
     },
     "execution_count": 6,
     "metadata": {},
     "output_type": "execute_result"
    }
   ],
   "source": [
    "DAGs = []\n",
    "counter1 = 0\n",
    "while counter1 < len(AllDisease):\n",
    "    group = []\n",
    "    group.extend(DiseaseAndMeshID[counter1])\n",
    "    group.append(0)\n",
    "    group1 = []\n",
    "    group1.append(group)\n",
    "    DAGs.append(group1)\n",
    "    counter1 = counter1 + 1\n",
    "print('len(DAGs)', len(DAGs))\n",
    "\n",
    "DAGs[0]"
   ]
  },
  {
   "cell_type": "code",
   "execution_count": 7,
   "metadata": {},
   "outputs": [
    {
     "name": "stderr",
     "output_type": "stream",
     "text": [
      "100%|██████████| 994/994 [00:10<00:00, 93.19it/s] \n"
     ]
    }
   ],
   "source": [
    "for counter in tqdm(range(len(DAGs))):\n",
    "    #print(DAGs[counter][0][1])\n",
    "    #print(len(DAGs[counter]))\n",
    "\n",
    "    if DAGs[counter][0][1] == 0:\n",
    "        counter = counter + 1\n",
    "        continue\n",
    "    counter1 = 0\n",
    "    while counter1 < len(DAGs[counter]):  #################\n",
    "        counter2 = 0\n",
    "        while counter2 < len(DAGs[counter][counter1][1]):\n",
    "            layer = DAGs[counter][counter1][2]  #######################\n",
    "            # if len(DAGs[0][counter1][1][counter2]) <= 3:\n",
    "            #     break\n",
    "            #print(len(DAGs[counter][counter1][1]))\n",
    "            #print(layer)\n",
    "            #print(len(DAGs[counter][counter1][1][counter2]))\n",
    "            if len(DAGs[counter][counter1][1][counter2]) > 3:  ####################\n",
    "                NID = DAGs[counter][counter1][1][counter2]  #####################\n",
    "                #print(NID)\n",
    "                L = len(NID)\n",
    "                NID = NID[0:L - 4]\n",
    "                #print(NID)\n",
    "                counter3 = 0\n",
    "                flag = 1\n",
    "                while counter3 < len(mesh):\n",
    "                    #print(len(mesh))\n",
    "                    #print(mesh[counter3][1])\n",
    "                    #print(mesh[counter3][0])\n",
    "                    if NID == mesh[counter3][1]:\n",
    "                        flag = 0\n",
    "                        num = counter3\n",
    "                        DiseaseName = mesh[counter3][0]\n",
    "                        break\n",
    "                    counter3 = counter3 + 1\n",
    "\n",
    "                flag2 = 0\n",
    "                counter5 = 0\n",
    "                while counter5 < len(DAGs[counter]):\n",
    "                    if DAGs[counter][counter5][0] == DiseaseName:\n",
    "                        flag2 = 1\n",
    "                        break\n",
    "                    counter5 = counter5 + 1\n",
    "\n",
    "                if flag == 0:\n",
    "                    if flag2 == 0:\n",
    "                        counter6 = 0\n",
    "                        IDGroup = []\n",
    "                        while counter6 < len(mesh):\n",
    "                            if DiseaseName == mesh[counter6][0]:\n",
    "                                IDGroup.append(mesh[counter6][1])\n",
    "                            counter6 = counter6 + 1\n",
    "                        DiseasePoint = []\n",
    "                        layer = layer + 1\n",
    "                        DiseasePoint.append(DiseaseName)\n",
    "                        DiseasePoint.append(IDGroup)\n",
    "                        DiseasePoint.append(layer)\n",
    "                        DAGs[counter].append(DiseasePoint)\n",
    "\n",
    "            counter2 = counter2 + 1\n",
    "        counter1 = counter1 + 1"
   ]
  },
  {
   "cell_type": "code",
   "execution_count": 8,
   "metadata": {},
   "outputs": [
    {
     "name": "stdout",
     "output_type": "stream",
     "text": [
      "len(DiseaseValue) 994\n"
     ]
    },
    {
     "data": {
      "text/plain": [
       "['abdominal discomfort', 1.875]"
      ]
     },
     "execution_count": 8,
     "metadata": {},
     "output_type": "execute_result"
    }
   ],
   "source": [
    "DiseaseValue = []\n",
    "counter = 0\n",
    "while counter < len(AllDisease):\n",
    "    if DAGs[counter][0][1] == 0:\n",
    "        DiseaseValuePair = []\n",
    "        DiseaseValuePair.append(AllDisease[counter])\n",
    "        DiseaseValuePair.append(0)\n",
    "        DiseaseValue.append(DiseaseValuePair)\n",
    "        counter = counter + 1\n",
    "        continue\n",
    "    counter1 = 0\n",
    "    DV = 0\n",
    "    while counter1 < len(DAGs[counter]):\n",
    "        DV = DV + math.pow(0.5, DAGs[counter][counter1][2])\n",
    "        counter1 = counter1 + 1\n",
    "    DiseaseValuePair = []\n",
    "    DiseaseValuePair.append(AllDisease[counter])\n",
    "    DiseaseValuePair.append(DV)\n",
    "    DiseaseValue.append(DiseaseValuePair)\n",
    "    counter = counter + 1\n",
    "print('len(DiseaseValue)', len(DiseaseValue))\n",
    "DiseaseValue[0]"
   ]
  },
  {
   "cell_type": "code",
   "execution_count": 9,
   "metadata": {},
   "outputs": [
    {
     "name": "stderr",
     "output_type": "stream",
     "text": [
      "100%|██████████| 994/994 [00:08<00:00, 122.39it/s]"
     ]
    },
    {
     "name": "stdout",
     "output_type": "stream",
     "text": [
      "SameValue1\n"
     ]
    },
    {
     "name": "stderr",
     "output_type": "stream",
     "text": [
      "\n"
     ]
    },
    {
     "data": {
      "text/plain": [
       "994"
      ]
     },
     "execution_count": 9,
     "metadata": {},
     "output_type": "execute_result"
    }
   ],
   "source": [
    "SameValue1 = []\n",
    "for counter in tqdm(range(len(AllDisease))):\n",
    "    RowValue = []\n",
    "    if DiseaseValue[counter][1] == 0:\n",
    "        counter1 = 0\n",
    "        while counter1 < len(AllDisease):\n",
    "            RowValue.append(0)\n",
    "            counter1 = counter1 + 1\n",
    "        SameValue1.append(RowValue)\n",
    "        counter = counter + 1\n",
    "        continue\n",
    "    counter1 = 0\n",
    "    while counter1 < len(AllDisease):\n",
    "        if DiseaseValue[counter1][1] == 0:\n",
    "            RowValue.append(0)\n",
    "            counter1 = counter1 + 1\n",
    "            continue\n",
    "        DiseaseAndDiseaseSimilarityValue = 0\n",
    "        counter2 = 0\n",
    "        while counter2 < len(DAGs[counter]):\n",
    "            counter3 = 0\n",
    "            while counter3 < len(DAGs[counter1]):\n",
    "                if DAGs[counter][counter2][0] == DAGs[counter1][counter3][0]:\n",
    "                    DiseaseAndDiseaseSimilarityValue = DiseaseAndDiseaseSimilarityValue + math.pow(0.5, DAGs[counter][counter2][2]) + math.pow(0.5, DAGs[counter1][counter3][2]) #自己和自己的全部节点相同，对角线即DiseaseValue的两倍\n",
    "                counter3 = counter3 + 1\n",
    "            counter2 = counter2 + 1\n",
    "        RowValue.append(DiseaseAndDiseaseSimilarityValue)\n",
    "        counter1 = counter1 + 1\n",
    "    SameValue1.append(RowValue)\n",
    "print('SameValue1')\n",
    "len(SameValue1)"
   ]
  },
  {
   "cell_type": "code",
   "execution_count": 10,
   "metadata": {},
   "outputs": [
    {
     "name": "stderr",
     "output_type": "stream",
     "text": [
      "100%|██████████| 994/994 [00:00<00:00, 2326.63it/s]"
     ]
    },
    {
     "name": "stdout",
     "output_type": "stream",
     "text": [
      "DiseaseSimilarityModel1， 994\n",
      "DiseaseSimilarityModel1[0] 994\n"
     ]
    },
    {
     "name": "stderr",
     "output_type": "stream",
     "text": [
      "\n"
     ]
    },
    {
     "data": {
      "text/plain": [
       "[1.0, 0.2, 0.2, 0.2, 0.2, 0.0, 0.0, 0.2, 0.0, 0.0]"
      ]
     },
     "execution_count": 10,
     "metadata": {},
     "output_type": "execute_result"
    }
   ],
   "source": [
    "DiseaseSimilarityModel1 = []\n",
    "for counter in tqdm(range(len(AllDisease))):\n",
    "    RowValue = []\n",
    "    if DiseaseValue[counter][1] == 0:\n",
    "        counter1 = 0\n",
    "        while counter1 < len(AllDisease):\n",
    "            RowValue.append(0)\n",
    "            counter1 = counter1 + 1\n",
    "        DiseaseSimilarityModel1.append(RowValue)\n",
    "        counter = counter + 1\n",
    "        continue\n",
    "    counter1 = 0\n",
    "    while counter1 < len(AllDisease):\n",
    "        if DiseaseValue[counter1][1] == 0:\n",
    "            RowValue.append(0)\n",
    "            counter1 = counter1 + 1\n",
    "            continue\n",
    "        value = SameValue1[counter][counter1] / (DiseaseValue[counter][1] + DiseaseValue[counter1][1])\n",
    "        RowValue.append(value)\n",
    "        counter1 = counter1 + 1\n",
    "    DiseaseSimilarityModel1.append(RowValue)\n",
    "\n",
    "print('DiseaseSimilarityModel1，', len(DiseaseSimilarityModel1))\n",
    "print('DiseaseSimilarityModel1[0]', len(DiseaseSimilarityModel1[0]))\n",
    "DiseaseSimilarityModel1[0][0:10]"
   ]
  },
  {
   "cell_type": "code",
   "execution_count": 11,
   "metadata": {},
   "outputs": [],
   "source": [
    "counter = 0\n",
    "while counter < len(DiseaseSimilarityModel1):\n",
    "    Row = []\n",
    "    Row.append(AllDisease[counter])\n",
    "    Row.extend(DiseaseSimilarityModel1[counter])\n",
    "    DiseaseSimilarityModel1[counter] = Row\n",
    "    counter = counter + 1"
   ]
  },
  {
   "cell_type": "code",
   "execution_count": 22,
   "metadata": {},
   "outputs": [],
   "source": [
    "adr_similar=[[i[0],i[1:]] for i in DiseaseSimilarityModel1]"
   ]
  },
  {
   "cell_type": "code",
   "execution_count": 26,
   "metadata": {},
   "outputs": [],
   "source": [
    "adr_similar_df=pd.DataFrame(adr_similar,columns=['adr_name','adr_similar'])"
   ]
  },
  {
   "cell_type": "code",
   "execution_count": 28,
   "metadata": {},
   "outputs": [
    {
     "data": {
      "text/plain": [
       "<bound method NDFrame.head of                  adr_name                                        adr_similar\n",
       "0    abdominal discomfort  [1.0, 0.2, 0.2, 0.2, 0.2, 0.0, 0.0, 0.2, 0.0, ...\n",
       "1    abdominal distension  [0.2, 1.0, 0.2, 0.2, 0.2, 0.0, 0.0, 0.2, 0.0, ...\n",
       "2          abdominal pain  [0.2, 0.2, 1.0, 0.4666666666666667, 0.46666666...\n",
       "3    abdominal pain lower  [0.2, 0.2, 0.4666666666666667, 1.0, 0.46666666...\n",
       "4    abdominal pain upper  [0.2, 0.2, 0.4666666666666667, 0.4666666666666...\n",
       "..                    ...                                                ...\n",
       "989   withdrawal syndrome  [0.0, 0.0, 0.0, 0.0, 0.0, 0.05405405405405406,...\n",
       "990       wound infection  [0.0, 0.0, 0.0, 0.0, 0.0, 0.0, 0.0, 0.0, 0.378...\n",
       "991       wound secretion  [0.0, 0.0, 0.0, 0.0, 0.0, 0.0, 0.0, 0.0, 0.0, ...\n",
       "992         xerophthalmia  [0.0, 0.0, 0.0, 0.0, 0.0, 0.0, 0.0, 0.0, 0.0, ...\n",
       "993               yawning  [0.0, 0.0, 0.0, 0.0, 0.0, 0.0, 0.0, 0.0, 0.0, ...\n",
       "\n",
       "[994 rows x 2 columns]>"
      ]
     },
     "execution_count": 28,
     "metadata": {},
     "output_type": "execute_result"
    }
   ],
   "source": [
    "adr_similar_df.head"
   ]
  },
  {
   "cell_type": "code",
   "execution_count": 30,
   "metadata": {},
   "outputs": [],
   "source": [
    "adr_similar_df.to_csv('adr_similar_df.csv')"
   ]
  },
  {
   "cell_type": "markdown",
   "metadata": {},
   "source": [
    "利用本文件产生了adr的语义相似特征，储存为csv然后通过G，Z等人的研究里面的其他数据集进行拼接"
   ]
  }
 ],
 "metadata": {
  "kernelspec": {
   "display_name": "drug_ade_37",
   "language": "python",
   "name": "python3"
  },
  "language_info": {
   "codemirror_mode": {
    "name": "ipython",
    "version": 3
   },
   "file_extension": ".py",
   "mimetype": "text/x-python",
   "name": "python",
   "nbconvert_exporter": "python",
   "pygments_lexer": "ipython3",
   "version": "3.7.1"
  }
 },
 "nbformat": 4,
 "nbformat_minor": 2
}
