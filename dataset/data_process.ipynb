{
 "cells": [
  {
   "cell_type": "code",
   "execution_count": 3,
   "metadata": {},
   "outputs": [],
   "source": [
    "import os\n",
    "import time\n",
    "import re\n",
    "import dgl\n",
    "import torch\n",
    "import xml.etree.ElementTree as ET\n",
    "import pandas as pd\n",
    "import numpy as np\n",
    "import pubchempy\n",
    "import itertools\n",
    "\n",
    "# from multiprocessing import Pool\n",
    "from rdkit import Chem, DataStructs, RDConfig\n",
    "from rdkit.Chem.Pharm2D import Gobbi_Pharm2D, Generate\n",
    "from rdkit.Chem import Draw, AllChem\n",
    "from dgl.nn.pytorch.glob import AvgPooling\n",
    "from dgllife.model import load_pretrained\n",
    "from dgllife.utils import mol_to_bigraph, PretrainAtomFeaturizer, PretrainBondFeaturizer\n",
    "from rdkit import Chem\n",
    "from torch.utils.data import DataLoader\n",
    "from rdkit.Chem import MACCSkeys\n",
    "from pubchempy import get_compounds\n",
    "from tqdm import tqdm"
   ]
  },
  {
   "cell_type": "code",
   "execution_count": 3,
   "metadata": {},
   "outputs": [],
   "source": [
    "#数据来自Galeano等人的研究；drug;adr;freq\n",
    "drug_adr = pd.read_csv('original data/Supplementary Data 1.txt', \\\n",
    "                   sep='\\t', header=0)\n",
    "drug_adr = drug_adr.drop(drug_adr.columns[-1], axis=1)\n",
    "drug_atc = pd.read_csv(\"original data/Supplementary Data 4.txt\",sep='\\t',header=0)"
   ]
  },
  {
   "cell_type": "code",
   "execution_count": 4,
   "metadata": {},
   "outputs": [
    {
     "name": "stdout",
     "output_type": "stream",
     "text": [
      "Index(['GenericName', 'SideeffectTerm', 'FrequencyRatingValue'], dtype='object')\n"
     ]
    },
    {
     "data": {
      "text/plain": [
       "Index(['CID', 'GenericName', 'ATC'], dtype='object')"
      ]
     },
     "execution_count": 4,
     "metadata": {},
     "output_type": "execute_result"
    }
   ],
   "source": [
    "print(drug_adr.columns)\n",
    "drug_atc.columns"
   ]
  },
  {
   "cell_type": "code",
   "execution_count": 5,
   "metadata": {},
   "outputs": [],
   "source": [
    "drug1 = drug_adr['GenericName'].drop_duplicates().to_list()\n",
    "drug2 = drug_atc.GenericName.to_list()"
   ]
  },
  {
   "cell_type": "code",
   "execution_count": 7,
   "metadata": {},
   "outputs": [
    {
     "data": {
      "text/plain": [
       "True"
      ]
     },
     "execution_count": 7,
     "metadata": {},
     "output_type": "execute_result"
    }
   ],
   "source": [
    "drug2 == drug1"
   ]
  },
  {
   "cell_type": "code",
   "execution_count": 8,
   "metadata": {},
   "outputs": [
    {
     "data": {
      "text/html": [
       "<div>\n",
       "<style scoped>\n",
       "    .dataframe tbody tr th:only-of-type {\n",
       "        vertical-align: middle;\n",
       "    }\n",
       "\n",
       "    .dataframe tbody tr th {\n",
       "        vertical-align: top;\n",
       "    }\n",
       "\n",
       "    .dataframe thead th {\n",
       "        text-align: right;\n",
       "    }\n",
       "</style>\n",
       "<table border=\"1\" class=\"dataframe\">\n",
       "  <thead>\n",
       "    <tr style=\"text-align: right;\">\n",
       "      <th></th>\n",
       "      <th>GenericName</th>\n",
       "      <th>SideeffectTerm</th>\n",
       "      <th>FrequencyRatingValue</th>\n",
       "      <th>CID</th>\n",
       "      <th>ATC</th>\n",
       "    </tr>\n",
       "  </thead>\n",
       "  <tbody>\n",
       "    <tr>\n",
       "      <th>0</th>\n",
       "      <td>alfentanil</td>\n",
       "      <td>asthenia</td>\n",
       "      <td>4</td>\n",
       "      <td>51263</td>\n",
       "      <td>N01AH02</td>\n",
       "    </tr>\n",
       "    <tr>\n",
       "      <th>1</th>\n",
       "      <td>alfentanil</td>\n",
       "      <td>movement disorder</td>\n",
       "      <td>4</td>\n",
       "      <td>51263</td>\n",
       "      <td>N01AH02</td>\n",
       "    </tr>\n",
       "    <tr>\n",
       "      <th>2</th>\n",
       "      <td>alfentanil</td>\n",
       "      <td>dyskinesia</td>\n",
       "      <td>4</td>\n",
       "      <td>51263</td>\n",
       "      <td>N01AH02</td>\n",
       "    </tr>\n",
       "    <tr>\n",
       "      <th>3</th>\n",
       "      <td>alfentanil</td>\n",
       "      <td>tachycardia</td>\n",
       "      <td>5</td>\n",
       "      <td>51263</td>\n",
       "      <td>N01AH02</td>\n",
       "    </tr>\n",
       "    <tr>\n",
       "      <th>4</th>\n",
       "      <td>alfentanil</td>\n",
       "      <td>hypertension</td>\n",
       "      <td>5</td>\n",
       "      <td>51263</td>\n",
       "      <td>N01AH02</td>\n",
       "    </tr>\n",
       "  </tbody>\n",
       "</table>\n",
       "</div>"
      ],
      "text/plain": [
       "  GenericName     SideeffectTerm  FrequencyRatingValue    CID      ATC\n",
       "0  alfentanil           asthenia                     4  51263  N01AH02\n",
       "1  alfentanil  movement disorder                     4  51263  N01AH02\n",
       "2  alfentanil         dyskinesia                     4  51263  N01AH02\n",
       "3  alfentanil        tachycardia                     5  51263  N01AH02\n",
       "4  alfentanil       hypertension                     5  51263  N01AH02"
      ]
     },
     "execution_count": 8,
     "metadata": {},
     "output_type": "execute_result"
    }
   ],
   "source": [
    "data1 = pd.merge(drug_adr,drug_atc,how='left',on='GenericName')\n",
    "data1.head()"
   ]
  },
  {
   "cell_type": "code",
   "execution_count": 23,
   "metadata": {},
   "outputs": [],
   "source": [
    "#数据来自ZHAO等人的研究\n",
    "adr_similar_df = pd.read_csv('adr_similar_df.csv')"
   ]
  },
  {
   "cell_type": "code",
   "execution_count": 24,
   "metadata": {},
   "outputs": [],
   "source": [
    "data1['GenericName'] = data1['GenericName'].str.lower()"
   ]
  },
  {
   "cell_type": "code",
   "execution_count": 25,
   "metadata": {},
   "outputs": [
    {
     "name": "stderr",
     "output_type": "stream",
     "text": [
      "d:\\Sorftware\\Anaconda\\envs\\drug_ade_37\\lib\\site-packages\\ipykernel_launcher.py:1: FutureWarning: The default value of regex will change from True to False in a future version. In addition, single character regular expressions will *not* be treated as literal strings when regex=True.\n",
      "  \"\"\"Entry point for launching an IPython kernel.\n"
     ]
    }
   ],
   "source": [
    "data1['GenericName'] = data1['GenericName'].str.replace('.',' ')"
   ]
  },
  {
   "cell_type": "code",
   "execution_count": 26,
   "metadata": {},
   "outputs": [],
   "source": [
    "drug3 = data1[['GenericName']].drop_duplicates()"
   ]
  },
  {
   "cell_type": "markdown",
   "metadata": {},
   "source": [
    "# 解析drugbank"
   ]
  },
  {
   "cell_type": "code",
   "execution_count": 2,
   "metadata": {},
   "outputs": [],
   "source": [
    "tree = ET.parse(\"original data/full database.xml\") # 读取xml文件\n",
    "root = tree.getroot() # 获取根节点"
   ]
  },
  {
   "cell_type": "code",
   "execution_count": 3,
   "metadata": {},
   "outputs": [],
   "source": [
    "drug_dict = {\"dg_id\": \"\",\n",
    "             \"dg_name\": \"\",\n",
    "             \"dg_smile\": \"\",\n",
    "             \"dg_ATC\": \"\",\n",
    "             \"dg_synonyms\": \"\"\n",
    "             }"
   ]
  },
  {
   "cell_type": "code",
   "execution_count": 27,
   "metadata": {},
   "outputs": [
    {
     "name": "stderr",
     "output_type": "stream",
     "text": [
      "100%|██████████| 15235/15235 [00:01<00:00, 11047.39it/s]\n"
     ]
    }
   ],
   "source": [
    "with open('pareGrug_drugbank.txt', 'w', encoding='utf-8') as writer:\n",
    "\twriter.write('|'.join(e for e in drug_dict) + '\\n') #写入字典的键\n",
    "\n",
    "\txmlns = '{http://www.drugbank.ca}'\n",
    "\tfor drug in tqdm(root):\n",
    "\t\t# 解析 dg_id\n",
    "\t\tdrug_bank_iter = xmlns + 'drugbank-id'\n",
    "\t\tdg_id = drug.find(drug_bank_iter)\n",
    "\t\tdrug_dict['dg_id'] = dg_id.text\n",
    "\n",
    "\t\t# 解析 dg_name\n",
    "\t\tdrug_name_iter = xmlns + 'name'\n",
    "\t\tdg_name = drug.find(drug_name_iter)\n",
    "\t\tdrug_dict['dg_name'] = dg_name.text\n",
    "\n",
    "\t\t# 解析 SMILES\n",
    "\t\tsmiles_property = drug.find(\".//{http://www.drugbank.ca}property[{http://www.drugbank.ca}kind='SMILES']\")\n",
    "\t\tif smiles_property is not None:\n",
    "\t\t\tdg_smile = smiles_property.find(\"{http://www.drugbank.ca}value\").text\n",
    "\t\t\tdrug_dict['dg_smile'] = dg_smile\n",
    "\n",
    "\t\t# 解析 ATC\n",
    "\t\tatc_iter = xmlns + 'atc-codes'\n",
    "\t\tdg_atcs = drug.find(\".//\" + atc_iter).findall(\"{http://www.drugbank.ca}atc-code\")\n",
    "\t\tif dg_atcs is not None:\n",
    "\t\t\tdg_atc_tem=[i.attrib['code'] for i in dg_atcs]\n",
    "\n",
    "\t\tdrug_dict['dg_ATC'] = \";\".join(dg_atc_tem)\n",
    "\n",
    "\n",
    "\t\t# 解析 同义名\n",
    "\t\tdrug_synms_iter = xmlns + 'synonyms'\n",
    "\t\tdg_synms = drug.find(drug_synms_iter)\n",
    "\t\tdg_synm_ = dg_synms.findall(xmlns + 'synonym')\n",
    "\t\tdg_synm = ','.join(e.text for e in dg_synm_)\n",
    "\t\tdrug_dict['dg_synonyms'] = dg_synm\n",
    "\n",
    "\n",
    "\t\twriter.write('|'.join(drug_dict[tt] for tt in drug_dict) + '\\n') #写入键对应的值\n",
    "\t\t#重置字典\n",
    "\t\tdrug_dict = {\"dg_id\": \"\",\n",
    "             \"dg_name\": \"\",\n",
    "             \"dg_smile\": \"\",\n",
    "             \"dg_ATC\": \"\",\n",
    "             \"dg_synonyms\": \"\"\n",
    "             }"
   ]
  },
  {
   "cell_type": "markdown",
   "metadata": {},
   "source": [
    "# 匹配出smiles\n",
    "\n",
    "## drugbank database"
   ]
  },
  {
   "cell_type": "code",
   "execution_count": 28,
   "metadata": {},
   "outputs": [],
   "source": [
    "drug_smiles_drugbank = pd.read_csv(\"pareGrug_drugbank.txt\",sep='|',header=0)\n",
    "drug_smiles_drugbank.rename(columns={'dg_name':'GenericName'},inplace=True)\n",
    "drug_smiles_drugbank['GenericName'] = drug_smiles_drugbank['GenericName'].str.lower()\n",
    "drug_smiles_drugbank['dg_synonyms'] = drug_smiles_drugbank['dg_synonyms'].str.lower()"
   ]
  },
  {
   "cell_type": "code",
   "execution_count": 29,
   "metadata": {},
   "outputs": [
    {
     "data": {
      "text/html": [
       "<div>\n",
       "<style scoped>\n",
       "    .dataframe tbody tr th:only-of-type {\n",
       "        vertical-align: middle;\n",
       "    }\n",
       "\n",
       "    .dataframe tbody tr th {\n",
       "        vertical-align: top;\n",
       "    }\n",
       "\n",
       "    .dataframe thead th {\n",
       "        text-align: right;\n",
       "    }\n",
       "</style>\n",
       "<table border=\"1\" class=\"dataframe\">\n",
       "  <thead>\n",
       "    <tr style=\"text-align: right;\">\n",
       "      <th></th>\n",
       "      <th>dg_id</th>\n",
       "      <th>GenericName</th>\n",
       "      <th>dg_smile</th>\n",
       "      <th>dg_ATC</th>\n",
       "      <th>dg_synonyms</th>\n",
       "    </tr>\n",
       "  </thead>\n",
       "  <tbody>\n",
       "    <tr>\n",
       "      <th>0</th>\n",
       "      <td>DB00001</td>\n",
       "      <td>lepirudin</td>\n",
       "      <td>NaN</td>\n",
       "      <td>B01AE02</td>\n",
       "      <td>[leu1, thr2]-63-desulfohirudin,desulfatohirudi...</td>\n",
       "    </tr>\n",
       "    <tr>\n",
       "      <th>1</th>\n",
       "      <td>DB00002</td>\n",
       "      <td>cetuximab</td>\n",
       "      <td>NaN</td>\n",
       "      <td>L01FE01</td>\n",
       "      <td>cetuximab,cétuximab,cetuximabum</td>\n",
       "    </tr>\n",
       "    <tr>\n",
       "      <th>2</th>\n",
       "      <td>DB00003</td>\n",
       "      <td>dornase alfa</td>\n",
       "      <td>NaN</td>\n",
       "      <td>R05CB13</td>\n",
       "      <td>deoxyribonuclease (human clone 18-1 protein mo...</td>\n",
       "    </tr>\n",
       "  </tbody>\n",
       "</table>\n",
       "</div>"
      ],
      "text/plain": [
       "     dg_id   GenericName dg_smile   dg_ATC  \\\n",
       "0  DB00001     lepirudin      NaN  B01AE02   \n",
       "1  DB00002     cetuximab      NaN  L01FE01   \n",
       "2  DB00003  dornase alfa      NaN  R05CB13   \n",
       "\n",
       "                                         dg_synonyms  \n",
       "0  [leu1, thr2]-63-desulfohirudin,desulfatohirudi...  \n",
       "1                    cetuximab,cétuximab,cetuximabum  \n",
       "2  deoxyribonuclease (human clone 18-1 protein mo...  "
      ]
     },
     "execution_count": 29,
     "metadata": {},
     "output_type": "execute_result"
    }
   ],
   "source": [
    "drug_smiles_drugbank.head(3)"
   ]
  },
  {
   "cell_type": "code",
   "execution_count": 30,
   "metadata": {},
   "outputs": [
    {
     "data": {
      "text/html": [
       "<div>\n",
       "<style scoped>\n",
       "    .dataframe tbody tr th:only-of-type {\n",
       "        vertical-align: middle;\n",
       "    }\n",
       "\n",
       "    .dataframe tbody tr th {\n",
       "        vertical-align: top;\n",
       "    }\n",
       "\n",
       "    .dataframe thead th {\n",
       "        text-align: right;\n",
       "    }\n",
       "</style>\n",
       "<table border=\"1\" class=\"dataframe\">\n",
       "  <thead>\n",
       "    <tr style=\"text-align: right;\">\n",
       "      <th></th>\n",
       "      <th>dg_id</th>\n",
       "      <th>GenericName</th>\n",
       "      <th>dg_smile</th>\n",
       "      <th>dg_ATC</th>\n",
       "      <th>dg_synonyms</th>\n",
       "    </tr>\n",
       "  </thead>\n",
       "  <tbody>\n",
       "    <tr>\n",
       "      <th>447</th>\n",
       "      <td>DB00460</td>\n",
       "      <td>verteporfin</td>\n",
       "      <td>COC(=O)CCC1=C2NC(\\C=C3/N=C(/C=C4\\N\\C(=C/C5=N/C...</td>\n",
       "      <td>S01LA01</td>\n",
       "      <td>verteporfin,verteporfina,vertéporfine,vertepor...</td>\n",
       "    </tr>\n",
       "  </tbody>\n",
       "</table>\n",
       "</div>"
      ],
      "text/plain": [
       "       dg_id  GenericName                                           dg_smile  \\\n",
       "447  DB00460  verteporfin  COC(=O)CCC1=C2NC(\\C=C3/N=C(/C=C4\\N\\C(=C/C5=N/C...   \n",
       "\n",
       "      dg_ATC                                        dg_synonyms  \n",
       "447  S01LA01  verteporfin,verteporfina,vertéporfine,vertepor...  "
      ]
     },
     "execution_count": 30,
     "metadata": {},
     "output_type": "execute_result"
    }
   ],
   "source": [
    "drug_smiles_drugbank[drug_smiles_drugbank['GenericName']== 'verteporfin']"
   ]
  },
  {
   "cell_type": "code",
   "execution_count": 31,
   "metadata": {},
   "outputs": [
    {
     "data": {
      "text/html": [
       "<div>\n",
       "<style scoped>\n",
       "    .dataframe tbody tr th:only-of-type {\n",
       "        vertical-align: middle;\n",
       "    }\n",
       "\n",
       "    .dataframe tbody tr th {\n",
       "        vertical-align: top;\n",
       "    }\n",
       "\n",
       "    .dataframe thead th {\n",
       "        text-align: right;\n",
       "    }\n",
       "</style>\n",
       "<table border=\"1\" class=\"dataframe\">\n",
       "  <thead>\n",
       "    <tr style=\"text-align: right;\">\n",
       "      <th></th>\n",
       "      <th>GenericName</th>\n",
       "      <th>dg_smile</th>\n",
       "      <th>dg_ATC</th>\n",
       "    </tr>\n",
       "  </thead>\n",
       "  <tbody>\n",
       "    <tr>\n",
       "      <th>0</th>\n",
       "      <td>alfentanil</td>\n",
       "      <td>CCN1N=NN(CCN2CCC(COC)(CC2)N(C(=O)CC)C2=CC=CC=C...</td>\n",
       "      <td>N01AH02</td>\n",
       "    </tr>\n",
       "    <tr>\n",
       "      <th>1</th>\n",
       "      <td>telithromycin</td>\n",
       "      <td>[H][C@@]12[C@@H](C)C(=O)[C@H](C)C[C@@](C)(OC)[...</td>\n",
       "      <td>J01FA15</td>\n",
       "    </tr>\n",
       "    <tr>\n",
       "      <th>2</th>\n",
       "      <td>simeprevir</td>\n",
       "      <td>[H][C@]12C[C@]1(NC(=O)[C@]1([H])C[C@H](C[C@@]1...</td>\n",
       "      <td>G01AE10;J05AP05</td>\n",
       "    </tr>\n",
       "    <tr>\n",
       "      <th>3</th>\n",
       "      <td>pentamidine isethionate</td>\n",
       "      <td>NaN</td>\n",
       "      <td>NaN</td>\n",
       "    </tr>\n",
       "  </tbody>\n",
       "</table>\n",
       "</div>"
      ],
      "text/plain": [
       "               GenericName                                           dg_smile  \\\n",
       "0               alfentanil  CCN1N=NN(CCN2CCC(COC)(CC2)N(C(=O)CC)C2=CC=CC=C...   \n",
       "1            telithromycin  [H][C@@]12[C@@H](C)C(=O)[C@H](C)C[C@@](C)(OC)[...   \n",
       "2               simeprevir  [H][C@]12C[C@]1(NC(=O)[C@]1([H])C[C@H](C[C@@]1...   \n",
       "3  pentamidine isethionate                                                NaN   \n",
       "\n",
       "            dg_ATC  \n",
       "0          N01AH02  \n",
       "1          J01FA15  \n",
       "2  G01AE10;J05AP05  \n",
       "3              NaN  "
      ]
     },
     "execution_count": 31,
     "metadata": {},
     "output_type": "execute_result"
    }
   ],
   "source": [
    "drug31 = pd.merge(drug3,drug_smiles_drugbank[['GenericName','dg_smile','dg_ATC']],how='left' ,on='GenericName')\n",
    "drug31.head(4)"
   ]
  },
  {
   "cell_type": "code",
   "execution_count": 32,
   "metadata": {},
   "outputs": [
    {
     "name": "stdout",
     "output_type": "stream",
     "text": [
      "               GenericName dg_smile dg_ATC\n",
      "3  pentamidine isethionate      NaN    NaN\n",
      "7               retigabine      NaN    NaN\n",
      "(81, 3)\n"
     ]
    }
   ],
   "source": [
    "miss_drug = drug31[drug31['dg_smile'].isna()]\n",
    "# text = drug_smiles_drugbank[drug_smiles_drugbank.dg_id == 'DB04953'].dg_synonyms\n",
    "print(miss_drug.head(2))\n",
    "print(miss_drug.shape)\n",
    "# miss_drug[miss_drug['GenericName'].isin(error_drug)] #这里的missdrug是合理的"
   ]
  },
  {
   "cell_type": "code",
   "execution_count": 224,
   "metadata": {},
   "outputs": [
    {
     "data": {
      "text/plain": [
       "False"
      ]
     },
     "execution_count": 224,
     "metadata": {},
     "output_type": "execute_result"
    }
   ],
   "source": [
    "# pd.isna(drug_smiles_drugbank['dg_smile'][96]) == False"
   ]
  },
  {
   "cell_type": "code",
   "execution_count": 225,
   "metadata": {},
   "outputs": [
    {
     "name": "stderr",
     "output_type": "stream",
     "text": [
      "100%|██████████| 81/81 [00:00<00:00, 346.76it/s]"
     ]
    },
    {
     "name": "stdout",
     "output_type": "stream",
     "text": [
      "{'retigabine': 4658, 'medroxyprogesterone': 588, 'octreotide': 15008, 'chlormethine': 870, 'beclometasone': 381, 'iodine ioflupane (123i)': 7859, 'chlortalidone': 299, 'corticotropin': 1262, 'glyceryl trinitrate': 711, 'indometacin': 317, 'sodium phosphate': 8367, 'hydroxycarbamide': 987, 'fampridine': 5776, 'ibandronic acid': 694, 'cyproterone': 4554, 'saccharated iron oxide': 8157, 'glutamine': 120, 'aciclovir': 562, 'heparin': 554, 'atracurium': 550, 'mercaptamine': 829, 'dicycloverine': 786, 'leuprorelin': 6, 'oxytocin': 1260, 'technetium (99mtc) tetrofosmin': 8169, 'megestrol': 339, 'podophyllotoxin': 431, 'paracetamol': 305, 'ciclosporin': 84}\n"
     ]
    },
    {
     "name": "stderr",
     "output_type": "stream",
     "text": [
      "\n"
     ]
    },
    {
     "data": {
      "text/html": [
       "<div>\n",
       "<style scoped>\n",
       "    .dataframe tbody tr th:only-of-type {\n",
       "        vertical-align: middle;\n",
       "    }\n",
       "\n",
       "    .dataframe tbody tr th {\n",
       "        vertical-align: top;\n",
       "    }\n",
       "\n",
       "    .dataframe thead th {\n",
       "        text-align: right;\n",
       "    }\n",
       "</style>\n",
       "<table border=\"1\" class=\"dataframe\">\n",
       "  <thead>\n",
       "    <tr style=\"text-align: right;\">\n",
       "      <th></th>\n",
       "      <th>GenericName</th>\n",
       "      <th>dg_smile</th>\n",
       "      <th>dg_ATC</th>\n",
       "    </tr>\n",
       "  </thead>\n",
       "  <tbody>\n",
       "    <tr>\n",
       "      <th>3</th>\n",
       "      <td>pentamidine isethionate</td>\n",
       "      <td>NaN</td>\n",
       "      <td>NaN</td>\n",
       "    </tr>\n",
       "    <tr>\n",
       "      <th>7</th>\n",
       "      <td>retigabine</td>\n",
       "      <td>NaN</td>\n",
       "      <td>NaN</td>\n",
       "    </tr>\n",
       "    <tr>\n",
       "      <th>14</th>\n",
       "      <td>medroxyprogesterone</td>\n",
       "      <td>NaN</td>\n",
       "      <td>NaN</td>\n",
       "    </tr>\n",
       "    <tr>\n",
       "      <th>26</th>\n",
       "      <td>octreotide</td>\n",
       "      <td>NaN</td>\n",
       "      <td>H01CB02</td>\n",
       "    </tr>\n",
       "  </tbody>\n",
       "</table>\n",
       "</div>"
      ],
      "text/plain": [
       "                GenericName dg_smile   dg_ATC\n",
       "3   pentamidine isethionate      NaN      NaN\n",
       "7                retigabine      NaN      NaN\n",
       "14      medroxyprogesterone      NaN      NaN\n",
       "26               octreotide      NaN  H01CB02"
      ]
     },
     "execution_count": 225,
     "metadata": {},
     "output_type": "execute_result"
    }
   ],
   "source": [
    "# index1_dicit = {}\n",
    "# for i in tqdm(miss_drug.GenericName):\n",
    "#     for index,j in enumerate(drug_smiles_drugbank.dg_synonyms):\n",
    "#         if type(j)==str:\n",
    "#             if i in j:\n",
    "#                 if pd.isna(drug_smiles_drugbank['dg_smile'][index]) == False:\n",
    "#                     index1_dicit[i] = index\n",
    "#                     break\n",
    "# print(index1_dicit)\n",
    "# miss_drug.head(4)"
   ]
  },
  {
   "cell_type": "code",
   "execution_count": 234,
   "metadata": {},
   "outputs": [
    {
     "data": {
      "text/plain": [
       "29"
      ]
     },
     "execution_count": 234,
     "metadata": {},
     "output_type": "execute_result"
    }
   ],
   "source": [
    "# len(index1_dicit.keys())"
   ]
  },
  {
   "cell_type": "code",
   "execution_count": 235,
   "metadata": {},
   "outputs": [],
   "source": [
    "# #里面得到的27个药物的smiles需要人工核对是否是真的是同义名\n",
    "# # pd.set_option('display.max_columns',None)\n",
    "# # index1_dicit.values()\n",
    "# # for key,value in index1_dicit.items():\n",
    "# #     print(f\"缺失的药物名{key},用以获取同义词的药物名{drug_smiles_drugbank['GenericName'][value]}\")\n",
    "# #将需要人工核对的药物名存入txt文件\n",
    "# with open('synonyms.txt',mode='+w') as t:\n",
    "#     t.write('key\\t\\tvalue\\n')\n",
    "#     for key,value in index1_dicit.items():\n",
    "#         t.write(f\"缺失的药物名{key}\\t\\t用以获取同义词的药物名{drug_smiles_drugbank['GenericName'][value]}\\n\")\n",
    "# drug_smiles_drugbank['GenericName'][index1_dicit.values()]"
   ]
  },
  {
   "cell_type": "code",
   "execution_count": 236,
   "metadata": {},
   "outputs": [
    {
     "name": "stderr",
     "output_type": "stream",
     "text": [
      "d:\\Sorftware\\Anaconda\\envs\\drug_ade_37\\lib\\site-packages\\ipykernel_launcher.py:1: SettingWithCopyWarning: \n",
      "A value is trying to be set on a copy of a slice from a DataFrame.\n",
      "Try using .loc[row_indexer,col_indexer] = value instead\n",
      "\n",
      "See the caveats in the documentation: https://pandas.pydata.org/pandas-docs/stable/user_guide/indexing.html#returning-a-view-versus-a-copy\n",
      "  \"\"\"Entry point for launching an IPython kernel.\n",
      "d:\\Sorftware\\Anaconda\\envs\\drug_ade_37\\lib\\site-packages\\ipykernel_launcher.py:2: SettingWithCopyWarning: \n",
      "A value is trying to be set on a copy of a slice from a DataFrame.\n",
      "Try using .loc[row_indexer,col_indexer] = value instead\n",
      "\n",
      "See the caveats in the documentation: https://pandas.pydata.org/pandas-docs/stable/user_guide/indexing.html#returning-a-view-versus-a-copy\n",
      "  \n"
     ]
    },
    {
     "data": {
      "text/html": [
       "<div>\n",
       "<style scoped>\n",
       "    .dataframe tbody tr th:only-of-type {\n",
       "        vertical-align: middle;\n",
       "    }\n",
       "\n",
       "    .dataframe tbody tr th {\n",
       "        vertical-align: top;\n",
       "    }\n",
       "\n",
       "    .dataframe thead th {\n",
       "        text-align: right;\n",
       "    }\n",
       "</style>\n",
       "<table border=\"1\" class=\"dataframe\">\n",
       "  <thead>\n",
       "    <tr style=\"text-align: right;\">\n",
       "      <th></th>\n",
       "      <th>GenericName</th>\n",
       "      <th>dg_smile</th>\n",
       "      <th>dg_ATC</th>\n",
       "    </tr>\n",
       "  </thead>\n",
       "  <tbody>\n",
       "    <tr>\n",
       "      <th>3</th>\n",
       "      <td>pentamidine isethionate</td>\n",
       "      <td>NaN</td>\n",
       "      <td>NaN</td>\n",
       "    </tr>\n",
       "    <tr>\n",
       "      <th>7</th>\n",
       "      <td>retigabine</td>\n",
       "      <td>CCOC(=O)NC1=C(N)C=C(NCC2=CC=C(F)C=C2)C=C1</td>\n",
       "      <td>N03AX21</td>\n",
       "    </tr>\n",
       "    <tr>\n",
       "      <th>14</th>\n",
       "      <td>medroxyprogesterone</td>\n",
       "      <td>[H][C@@]12CC[C@](OC(C)=O)(C(C)=O)[C@@]1(C)CC[C...</td>\n",
       "      <td>G03AA08;G03DA02;G03FB06;G03FA12;L02AB02;G03AA1...</td>\n",
       "    </tr>\n",
       "    <tr>\n",
       "      <th>26</th>\n",
       "      <td>octreotide</td>\n",
       "      <td>[90Y+3].C[C@@H](O)[C@@H](CO)NC(=O)[C@@H]1CSSC[...</td>\n",
       "      <td>H01CB02</td>\n",
       "    </tr>\n",
       "  </tbody>\n",
       "</table>\n",
       "</div>"
      ],
      "text/plain": [
       "                GenericName  \\\n",
       "3   pentamidine isethionate   \n",
       "7                retigabine   \n",
       "14      medroxyprogesterone   \n",
       "26               octreotide   \n",
       "\n",
       "                                             dg_smile  \\\n",
       "3                                                 NaN   \n",
       "7           CCOC(=O)NC1=C(N)C=C(NCC2=CC=C(F)C=C2)C=C1   \n",
       "14  [H][C@@]12CC[C@](OC(C)=O)(C(C)=O)[C@@]1(C)CC[C...   \n",
       "26  [90Y+3].C[C@@H](O)[C@@H](CO)NC(=O)[C@@H]1CSSC[...   \n",
       "\n",
       "                                               dg_ATC  \n",
       "3                                                 NaN  \n",
       "7                                             N03AX21  \n",
       "14  G03AA08;G03DA02;G03FB06;G03FA12;L02AB02;G03AA1...  \n",
       "26                                            H01CB02  "
      ]
     },
     "execution_count": 236,
     "metadata": {},
     "output_type": "execute_result"
    }
   ],
   "source": [
    "# miss_drug['dg_smile'] = miss_drug[\"GenericName\"].map(index1_dicit).map(drug_smiles_drugbank['dg_smile']).fillna(miss_drug['dg_smile'])\n",
    "# miss_drug['dg_ATC'] = miss_drug[\"GenericName\"].map(index1_dicit).map(drug_smiles_drugbank['dg_ATC']).fillna(miss_drug['dg_ATC'])\n",
    "# miss_drug.head(4)"
   ]
  },
  {
   "cell_type": "code",
   "execution_count": 35,
   "metadata": {},
   "outputs": [
    {
     "name": "stdout",
     "output_type": "stream",
     "text": [
      "False\n"
     ]
    },
    {
     "data": {
      "text/html": [
       "<div>\n",
       "<style scoped>\n",
       "    .dataframe tbody tr th:only-of-type {\n",
       "        vertical-align: middle;\n",
       "    }\n",
       "\n",
       "    .dataframe tbody tr th {\n",
       "        vertical-align: top;\n",
       "    }\n",
       "\n",
       "    .dataframe thead th {\n",
       "        text-align: right;\n",
       "    }\n",
       "</style>\n",
       "<table border=\"1\" class=\"dataframe\">\n",
       "  <thead>\n",
       "    <tr style=\"text-align: right;\">\n",
       "      <th></th>\n",
       "      <th>GenericName</th>\n",
       "      <th>dg_smile</th>\n",
       "      <th>dg_ATC</th>\n",
       "    </tr>\n",
       "  </thead>\n",
       "  <tbody>\n",
       "    <tr>\n",
       "      <th>0</th>\n",
       "      <td>alfentanil</td>\n",
       "      <td>CCN1N=NN(CCN2CCC(COC)(CC2)N(C(=O)CC)C2=CC=CC=C...</td>\n",
       "      <td>N01AH02</td>\n",
       "    </tr>\n",
       "    <tr>\n",
       "      <th>1</th>\n",
       "      <td>telithromycin</td>\n",
       "      <td>[H][C@@]12[C@@H](C)C(=O)[C@H](C)C[C@@](C)(OC)[...</td>\n",
       "      <td>J01FA15</td>\n",
       "    </tr>\n",
       "    <tr>\n",
       "      <th>2</th>\n",
       "      <td>simeprevir</td>\n",
       "      <td>[H][C@]12C[C@]1(NC(=O)[C@]1([H])C[C@H](C[C@@]1...</td>\n",
       "      <td>G01AE10;J05AP05</td>\n",
       "    </tr>\n",
       "    <tr>\n",
       "      <th>3</th>\n",
       "      <td>pentamidine isethionate</td>\n",
       "      <td>NaN</td>\n",
       "      <td>NaN</td>\n",
       "    </tr>\n",
       "  </tbody>\n",
       "</table>\n",
       "</div>"
      ],
      "text/plain": [
       "               GenericName                                           dg_smile  \\\n",
       "0               alfentanil  CCN1N=NN(CCN2CCC(COC)(CC2)N(C(=O)CC)C2=CC=CC=C...   \n",
       "1            telithromycin  [H][C@@]12[C@@H](C)C(=O)[C@H](C)C[C@@](C)(OC)[...   \n",
       "2               simeprevir  [H][C@]12C[C@]1(NC(=O)[C@]1([H])C[C@H](C[C@@]1...   \n",
       "3  pentamidine isethionate                                                NaN   \n",
       "\n",
       "            dg_ATC  \n",
       "0          N01AH02  \n",
       "1          J01FA15  \n",
       "2  G01AE10;J05AP05  \n",
       "3              NaN  "
      ]
     },
     "execution_count": 35,
     "metadata": {},
     "output_type": "execute_result"
    }
   ],
   "source": [
    "drug32 = drug31.copy()\n",
    "print(drug32 is drug31)\n",
    "drug32.head(4)"
   ]
  },
  {
   "cell_type": "code",
   "execution_count": 36,
   "metadata": {},
   "outputs": [
    {
     "name": "stdout",
     "output_type": "stream",
     "text": [
      "(81, 3)\n"
     ]
    },
    {
     "data": {
      "text/html": [
       "<div>\n",
       "<style scoped>\n",
       "    .dataframe tbody tr th:only-of-type {\n",
       "        vertical-align: middle;\n",
       "    }\n",
       "\n",
       "    .dataframe tbody tr th {\n",
       "        vertical-align: top;\n",
       "    }\n",
       "\n",
       "    .dataframe thead th {\n",
       "        text-align: right;\n",
       "    }\n",
       "</style>\n",
       "<table border=\"1\" class=\"dataframe\">\n",
       "  <thead>\n",
       "    <tr style=\"text-align: right;\">\n",
       "      <th></th>\n",
       "      <th>GenericName</th>\n",
       "      <th>dg_smile</th>\n",
       "      <th>dg_ATC</th>\n",
       "    </tr>\n",
       "  </thead>\n",
       "  <tbody>\n",
       "    <tr>\n",
       "      <th>3</th>\n",
       "      <td>pentamidine isethionate</td>\n",
       "      <td>NaN</td>\n",
       "      <td>NaN</td>\n",
       "    </tr>\n",
       "    <tr>\n",
       "      <th>7</th>\n",
       "      <td>retigabine</td>\n",
       "      <td>NaN</td>\n",
       "      <td>NaN</td>\n",
       "    </tr>\n",
       "    <tr>\n",
       "      <th>14</th>\n",
       "      <td>medroxyprogesterone</td>\n",
       "      <td>NaN</td>\n",
       "      <td>NaN</td>\n",
       "    </tr>\n",
       "    <tr>\n",
       "      <th>26</th>\n",
       "      <td>octreotide</td>\n",
       "      <td>NaN</td>\n",
       "      <td>H01CB02</td>\n",
       "    </tr>\n",
       "    <tr>\n",
       "      <th>29</th>\n",
       "      <td>rasburicase</td>\n",
       "      <td>NaN</td>\n",
       "      <td>V03AF07;M04AX01</td>\n",
       "    </tr>\n",
       "    <tr>\n",
       "      <th>...</th>\n",
       "      <td>...</td>\n",
       "      <td>...</td>\n",
       "      <td>...</td>\n",
       "    </tr>\n",
       "    <tr>\n",
       "      <th>730</th>\n",
       "      <td>podophyllotoxin</td>\n",
       "      <td>NaN</td>\n",
       "      <td>NaN</td>\n",
       "    </tr>\n",
       "    <tr>\n",
       "      <th>742</th>\n",
       "      <td>paracetamol</td>\n",
       "      <td>NaN</td>\n",
       "      <td>NaN</td>\n",
       "    </tr>\n",
       "    <tr>\n",
       "      <th>745</th>\n",
       "      <td>conjugated estrogens</td>\n",
       "      <td>NaN</td>\n",
       "      <td>G03CA57;G03CC07</td>\n",
       "    </tr>\n",
       "    <tr>\n",
       "      <th>757</th>\n",
       "      <td>aclidinium bromide</td>\n",
       "      <td>NaN</td>\n",
       "      <td>NaN</td>\n",
       "    </tr>\n",
       "    <tr>\n",
       "      <th>758</th>\n",
       "      <td>ciclosporin</td>\n",
       "      <td>NaN</td>\n",
       "      <td>NaN</td>\n",
       "    </tr>\n",
       "  </tbody>\n",
       "</table>\n",
       "<p>81 rows × 3 columns</p>\n",
       "</div>"
      ],
      "text/plain": [
       "                 GenericName dg_smile           dg_ATC\n",
       "3    pentamidine isethionate      NaN              NaN\n",
       "7                 retigabine      NaN              NaN\n",
       "14       medroxyprogesterone      NaN              NaN\n",
       "26                octreotide      NaN          H01CB02\n",
       "29               rasburicase      NaN  V03AF07;M04AX01\n",
       "..                       ...      ...              ...\n",
       "730          podophyllotoxin      NaN              NaN\n",
       "742              paracetamol      NaN              NaN\n",
       "745     conjugated estrogens      NaN  G03CA57;G03CC07\n",
       "757       aclidinium bromide      NaN              NaN\n",
       "758              ciclosporin      NaN              NaN\n",
       "\n",
       "[81 rows x 3 columns]"
      ]
     },
     "execution_count": 36,
     "metadata": {},
     "output_type": "execute_result"
    }
   ],
   "source": [
    "print(drug32[drug32['dg_smile'].isna()].shape)\n",
    "drug32[drug31['dg_smile'].isna()]\n",
    "# drug32[drug31['dg_smile'].isna()].shape"
   ]
  },
  {
   "cell_type": "markdown",
   "metadata": {},
   "source": [
    "### 从pubchem查找缺失的smiles"
   ]
  },
  {
   "cell_type": "code",
   "execution_count": 21,
   "metadata": {},
   "outputs": [
    {
     "name": "stderr",
     "output_type": "stream",
     "text": [
      "100%|██████████| 81/81 [05:08<00:00,  3.81s/it]\n"
     ]
    }
   ],
   "source": [
    "#用以从pubchem找寻smiles的函数\n",
    "# \treturn maccs_str\n",
    "def search_from_Pubchem(name):\n",
    "    time.sleep(2)\n",
    "    if name == None:\n",
    "        pass\n",
    "    else:\n",
    "        try:\n",
    "            pubresu = get_compounds(name, 'name')[0]\n",
    "        except:\n",
    "            # row['activesubstancename'] = drug\n",
    "            smiles=None\n",
    "        else:\n",
    "            # row['activesubstancename'] = drug\n",
    "            if pubresu.isomeric_smiles is not None:\n",
    "                smiles = pubresu.isomeric_smiles\n",
    "            elif pubresu.canonical_smiles is not None:\n",
    "                smiles = pubresu.canonical_smiles\n",
    "            else:\n",
    "                smiles=None\n",
    "        return smiles\n",
    "\n",
    "miss_smile={}\n",
    "for i in tqdm(miss_drug['GenericName']):\n",
    "\tmiss_smile[i]=search_from_Pubchem(i)"
   ]
  },
  {
   "cell_type": "code",
   "execution_count": 22,
   "metadata": {},
   "outputs": [
    {
     "name": "stdout",
     "output_type": "stream",
     "text": [
      "81\n"
     ]
    },
    {
     "data": {
      "text/plain": [
       "{'pentamidine isethionate': 'C1=CC(=CC=C1C(=N)N)OCCCCCOC2=CC=C(C=C2)C(=N)N.C(CS(=O)(=O)O)O.C(CS(=O)(=O)O)O',\n",
       " 'retigabine': 'CCOC(=O)NC1=C(C=C(C=C1)NCC2=CC=C(C=C2)F)N',\n",
       " 'medroxyprogesterone': 'C[C@H]1C[C@@H]2[C@H](CC[C@]3([C@H]2CC[C@@]3(C(=O)C)O)C)[C@@]4(C1=CC(=O)CC4)C',\n",
       " 'octreotide': 'C[C@H]([C@H]1C(=O)N[C@@H](CSSC[C@@H](C(=O)N[C@H](C(=O)N[C@@H](C(=O)N[C@H](C(=O)N1)CCCCN)CC2=CNC3=CC=CC=C32)CC4=CC=CC=C4)NC(=O)[C@@H](CC5=CC=CC=C5)N)C(=O)N[C@H](CO)[C@@H](C)O)O',\n",
       " 'rasburicase': None,\n",
       " 'insulin glargine': 'CC[C@H](C)[C@H]1C(=O)N[C@H]2CSSC[C@@H](C(=O)N[C@@H](CSSC[C@@H](C(=O)NCC(=O)N[C@H](C(=O)N[C@H](C(=O)N[C@H](C(=O)N[C@H](C(=O)N[C@H](C(=O)N[C@H](C(=O)N[C@H](C(=O)N[C@H](C(=O)N[C@H](C(=O)N[C@H](C(=O)N[C@@H](CSSC[C@H](NC(=O)[C@@H](NC(=O)[C@@H](NC(=O)[C@@H](NC(=O)[C@@H](NC(=O)[C@@H](NC(=O)[C@@H](NC(=O)[C@@H](NC(=O)[C@@H](NC2=O)CO)CC(C)C)CC3=CC=C(C=C3)O)CCC(=O)N)CC(C)C)CCC(=O)O)CC(=O)N)CC4=CC=C(C=C4)O)C(=O)NCC(=O)O)C(=O)NCC(=O)N[C@@H](CCC(=O)O)C(=O)N[C@@H](CCCNC(=N)N)C(=O)NCC(=O)N[C@@H](CC5=CC=CC=C5)C(=O)N[C@@H](CC6=CC=CC=C6)C(=O)N[C@@H](CC7=CC=C(C=C7)O)C(=O)N[C@@H]([C@@H](C)O)C(=O)N8CCC[C@H]8C(=O)N[C@@H](CCCCN)C(=O)N[C@@H]([C@@H](C)O)C(=O)N[C@@H](CCCNC(=N)N)C(=O)N[C@@H](CCCNC(=N)N)C(=O)O)C(C)C)CC(C)C)CC9=CC=C(C=C9)O)CC(C)C)C)CCC(=O)O)C(C)C)CC(C)C)CC2=CNC=N2)CO)NC(=O)[C@H](CC(C)C)NC(=O)[C@H](CC2=CNC=N2)NC(=O)[C@H](CCC(=O)N)NC(=O)[C@H](CC(=O)N)NC(=O)[C@H](C(C)C)NC(=O)[C@H](CC2=CC=CC=C2)N)C(=O)N[C@H](C(=O)N[C@H](C(=O)N1)CO)[C@@H](C)O)NC(=O)[C@H](CCC(=O)N)NC(=O)[C@H](CCC(=O)O)NC(=O)[C@H](C(C)C)NC(=O)[C@H]([C@@H](C)CC)NC(=O)CN',\n",
       " 'chlormethine': 'CN(CCCl)CCCl',\n",
       " 'tiotropium bromide': 'C[N+]1([C@@H]2CC(C[C@H]1[C@H]3[C@@H]2O3)OC(=O)C(C4=CC=CS4)(C5=CC=CS5)O)C.[Br-]',\n",
       " 'ipratropium bromide': 'CC(C)[N+]1([C@@H]2CC[C@H]1CC(C2)OC(=O)C(CO)C3=CC=CC=C3)C.[Br-]',\n",
       " 'eptifibatide': None,\n",
       " 'beclometasone': 'C[C@H]1C[C@H]2[C@@H]3CCC4=CC(=O)C=C[C@@]4([C@]3([C@H](C[C@@]2([C@]1(C(=O)CO)O)C)O)Cl)C',\n",
       " 'exenatide': 'CC[C@H](C)[C@@H](C(=O)N[C@@H](CCC(=O)O)C(=O)N[C@@H](CC1=CNC2=CC=CC=C21)C(=O)N[C@@H](CC(C)C)C(=O)N[C@@H](CCCCN)C(=O)N[C@@H](CC(=O)N)C(=O)NCC(=O)NCC(=O)N3CCC[C@H]3C(=O)N[C@@H](CO)C(=O)N[C@@H](CO)C(=O)NCC(=O)N[C@@H](C)C(=O)N4CCC[C@H]4C(=O)N5CCC[C@H]5C(=O)N6CCC[C@H]6C(=O)N[C@@H](CO)C(=O)N)NC(=O)[C@H](CC7=CC=CC=C7)NC(=O)[C@H](CC(C)C)NC(=O)[C@H](CCCNC(=N)N)NC(=O)[C@H](C(C)C)NC(=O)[C@H](C)NC(=O)[C@H](CCC(=O)O)NC(=O)[C@H](CCC(=O)O)NC(=O)[C@H](CCC(=O)O)NC(=O)[C@H](CCSC)NC(=O)[C@H](CCC(=O)N)NC(=O)[C@H](CCCCN)NC(=O)[C@H](CO)NC(=O)[C@H](CC(C)C)NC(=O)[C@H](CC(=O)O)NC(=O)[C@H](CO)NC(=O)[C@H]([C@@H](C)O)NC(=O)[C@H](CC8=CC=CC=C8)NC(=O)[C@H]([C@@H](C)O)NC(=O)CNC(=O)[C@H](CCC(=O)O)NC(=O)CNC(=O)[C@H](CC9=CNC=N9)N',\n",
       " 'porfimer sodium': None,\n",
       " 'iodine ioflupane (123i)': 'COC(=O)[C@@H]1[C@H]2CC[C@H](N2CCCF)C[C@@H]1C3=CC=C(C=C3)[123I]',\n",
       " 'chlortalidone': 'C1=CC=C2C(=C1)C(=O)NC2(C3=CC(=C(C=C3)Cl)S(=O)(=O)N)O',\n",
       " 'erythropoietin': 'CCCCC1=NC(=C(N1CC2=CC=C(C=C2)C3=CC=CC=C3C4=NN=N[N-]4)CO)Cl.[K+]',\n",
       " 'corticotropin': 'C[C@@H](C(=O)N[C@@H](CCC(=O)O)C(=O)N[C@@H](CC(=O)O)C(=O)N[C@@H](CCC(=O)O)C(=O)N[C@@H](CO)C(=O)N[C@@H](C)C(=O)N[C@@H](CCC(=O)O)C(=O)N[C@@H](C)C(=O)N[C@@H](CC1=CC=CC=C1)C(=O)N2CCC[C@H]2C(=O)N[C@@H](CC(C)C)C(=O)N[C@@H](CCC(=O)O)C(=O)N[C@@H](CC3=CC=CC=C3)C(=O)O)NC(=O)CNC(=O)[C@H](CC(=O)N)NC(=O)[C@@H]4CCCN4C(=O)[C@H](CC5=CC=C(C=C5)O)NC(=O)[C@H](C(C)C)NC(=O)[C@H](CCCCN)NC(=O)[C@H](C(C)C)NC(=O)[C@@H]6CCCN6C(=O)[C@H](CCCNC(=N)N)NC(=O)[C@H](CCCNC(=N)N)NC(=O)[C@H](CCCCN)NC(=O)[C@H](CCCCN)NC(=O)CNC(=O)[C@H](C(C)C)NC(=O)[C@@H]7CCCN7C(=O)[C@H](CCCCN)NC(=O)CNC(=O)[C@H](CC8=CNC9=CC=CC=C98)NC(=O)[C@H](CCCNC(=N)N)NC(=O)[C@H](CC1=CC=CC=C1)NC(=O)[C@H](CC1=CN=CN1)NC(=O)[C@H](CCC(=O)O)NC(=O)[C@H](CCSC)NC(=O)[C@H](CO)NC(=O)[C@H](CC1=CC=C(C=C1)O)NC(=O)[C@H](CO)N',\n",
       " 'colesevelam': 'CCCCCCCCCCNCC=C.C[N+](C)(C)CCCCCCNCC=C.C=CCN.C1C(O1)CCl.Cl.[Cl-]',\n",
       " 'colestyramine': 'CCC(C)C.CCC(CC(C)C1=CC=CC=C1)C2=CC=C(C=C2)C[N+](C)(C)C.N.[Cl-]',\n",
       " 'ofatumumab': None,\n",
       " 'colestilan': 'CC1=NC=CN1.C1C(O1)CCl',\n",
       " 'glyceryl trinitrate': 'C(C(CO[N+](=O)[O-])O[N+](=O)[O-])O[N+](=O)[O-]',\n",
       " 'indometacin': 'CC1=C(C2=C(N1C(=O)C3=CC=C(C=C3)Cl)C=CC(=C2)OC)CC(=O)O',\n",
       " 'liraglutide': 'CCCCCCCCCCCCCCCC(=O)N[C@@H](CCC(=O)NCCCC[C@@H](C(=O)N[C@@H](CCC(=O)O)C(=O)N[C@@H](CC1=CC=CC=C1)C(=O)N[C@@H]([C@@H](C)CC)C(=O)N[C@@H](C)C(=O)N[C@@H](CC2=CNC3=CC=CC=C32)C(=O)N[C@@H](CC(C)C)C(=O)N[C@@H](C(C)C)C(=O)N[C@@H](CCCNC(=N)N)C(=O)NCC(=O)N[C@@H](CCCNC(=N)N)C(=O)NCC(=O)O)NC(=O)[C@H](C)NC(=O)[C@H](C)NC(=O)[C@H](CCC(=O)N)NC(=O)CNC(=O)[C@H](CCC(=O)O)NC(=O)[C@H](CC(C)C)NC(=O)[C@H](CC4=CC=C(C=C4)O)NC(=O)[C@H](CO)NC(=O)[C@H](CO)NC(=O)[C@H](C(C)C)NC(=O)[C@H](CC(=O)O)NC(=O)[C@H](CO)NC(=O)[C@H]([C@@H](C)O)NC(=O)[C@H](CC5=CC=CC=C5)NC(=O)[C@H]([C@@H](C)O)NC(=O)CNC(=O)[C@H](CCC(=O)O)NC(=O)[C@H](C)NC(=O)[C@H](CC6=CN=CN6)N)C(=O)O',\n",
       " 'desirudin': 'CC[C@H](C)[C@H]1C(=O)N[C@H](C(=O)NCC(=O)N[C@H](C(=O)N[C@H](C(=O)NCC(=O)N[C@H](C(=O)N[C@H](C(=O)N[C@H](C(=O)N[C@H](C(=O)N[C@@H](CSSC[C@H]2C(=O)NCC(=O)N[C@H](C(=O)NCC(=O)N[C@H](C(=O)N[C@H](C(=O)N[C@@H](CSSC[C@@H](C(=O)N[C@H](C(=O)NCC(=O)N[C@H](C(=O)N[C@H](C(=O)N[C@H](C(=O)N2)C(C)C)CC(=O)N)CO)CCC(=O)O)NC(=O)[C@H](CC(C)C)NC(=O)[C@@H]3CSSC[C@@H](C(=O)N[C@H](C(=O)N[C@H](C(=O)N[C@H](C(=O)NCC(=O)N[C@H](C(=O)N[C@H](C(=O)N[C@H](C(=O)N3)CC(C)C)CC(=O)N)CCC(=O)N)CO)CCC(=O)O)[C@@H](C)O)NC(=O)[C@H](CC(=O)O)NC(=O)[C@H]([C@@H](C)O)NC(=O)[C@H](CC4=CC=C(C=C4)O)NC(=O)[C@H](C(C)C)NC(=O)[C@H](C(C)C)N)C(=O)N1)CCCCN)CC(=O)N)CCC(=O)N)C(=O)N[C@@H](C(C)C)C(=O)N[C@@H]([C@@H](C)O)C(=O)NCC(=O)N[C@@H](CCC(=O)O)C(=O)NCC(=O)N[C@@H]([C@@H](C)O)C(=O)N5CCC[C@H]5C(=O)N[C@@H](CCCCN)C(=O)N6CCC[C@H]6C(=O)N[C@@H](CCC(=O)N)C(=O)N[C@@H](CO)C(=O)N[C@@H](CC7=CN=CN7)C(=O)N[C@@H](CC(=O)N)C(=O)N[C@@H](CC(=O)O)C(=O)NCC(=O)N[C@@H](CC(=O)O)C(=O)N[C@@H](CC8=CC=CC=C8)C(=O)N[C@@H](CCC(=O)O)C(=O)N[C@@H](CCC(=O)O)C(=O)N[C@@H]([C@@H](C)CC)C(=O)N9CCC[C@H]9C(=O)N[C@@H](CCC(=O)O)C(=O)N[C@@H](CCC(=O)O)C(=O)N[C@@H](CC1=CC=C(C=C1)O)C(=O)N[C@@H](CC(C)C)C(=O)N[C@@H](CCC(=O)N)C(=O)O)CCC(=O)N)CC(=O)N)CCCCN)CCC(=O)O)CC(=O)O)CO)CC(C)C',\n",
       " 'calcium folinate': 'C1C(N(C2=C(N1)N=C(NC2=O)N)C=O)CNC3=CC=C(C=C3)C(=O)N[C@@H](CCC(=O)[O-])C(=O)[O-].[Ca+2]',\n",
       " 'enfuvirtide': 'CC[C@H](C)[C@@H](C(=O)N[C@@H](CCC(=O)O)C(=O)N[C@@H](CCC(=O)O)C(=O)N[C@@H](CO)C(=O)N[C@@H](CCC(=O)N)C(=O)N[C@@H](CC(=O)N)C(=O)N[C@@H](CCC(=O)N)C(=O)N[C@@H](CCC(=O)N)C(=O)N[C@@H](CCC(=O)O)C(=O)N[C@@H](CCCCN)C(=O)N[C@@H](CC(=O)N)C(=O)N[C@@H](CCC(=O)O)C(=O)N[C@@H](CCC(=O)N)C(=O)N[C@@H](CCC(=O)O)C(=O)N[C@@H](CC(C)C)C(=O)N[C@@H](CC(C)C)C(=O)N[C@@H](CCC(=O)O)C(=O)N[C@@H](CC(C)C)C(=O)N[C@@H](CC(=O)O)C(=O)N[C@@H](CCCCN)C(=O)N[C@@H](CC1=CNC2=CC=CC=C21)C(=O)N[C@@H](C)C(=O)N[C@@H](CO)C(=O)N[C@@H](CC(C)C)C(=O)N[C@@H](CC3=CNC4=CC=CC=C43)C(=O)N[C@@H](CC(=O)N)C(=O)N[C@@H](CC5=CNC6=CC=CC=C65)C(=O)N[C@@H](CC7=CC=CC=C7)C(=O)N)NC(=O)[C@H](CC(C)C)NC(=O)[C@H](CO)NC(=O)[C@H](CC8=CN=CN8)NC(=O)[C@H]([C@@H](C)CC)NC(=O)[C@H](CC(C)C)NC(=O)[C@H](CO)NC(=O)[C@H]([C@@H](C)O)NC(=O)[C@H](CC9=CC=C(C=C9)O)NC(=O)C',\n",
       " 'sodium phenylbutyrate': 'C1=CC=C(C=C1)CCCC(=O)[O-].[Na+]',\n",
       " 'insulin aspart': None,\n",
       " 'glatiramer acetate': 'C[C@@H](C(=O)O)N.CC(=O)O.C1=CC(=CC=C1C[C@@H](C(=O)O)N)O.C(CCN)C[C@@H](C(=O)O)N.C(CC(=O)O)[C@@H](C(=O)O)N',\n",
       " 'dalteparin': 'CC(=O)NC1C(C(C(OC1O)COS(=O)(=O)O)OC2C(C(C(C(O2)C(=O)O)OC3C(C(C(C(O3)CO)OC4C(C(C(C(O4)C(=O)O)O)O)OS(=O)(=O)O)OS(=O)(=O)O)NS(=O)(=O)O)O)OS(=O)(=O)O)O',\n",
       " 'tesamorelin': 'CC/C=C/CC(=O)N[C@@H](CC1=CC=C(C=C1)O)C(=O)N[C@@H](C)C(=O)N[C@@H](CC(=O)O)C(=O)N[C@@H](C)C(=O)N[C@@H]([C@@H](C)CC)C(=O)N[C@@H](CC2=CC=CC=C2)C(=O)N[C@@H]([C@@H](C)O)C(=O)N[C@@H](CC(=O)N)C(=O)N[C@@H](CO)C(=O)N[C@@H](CC3=CC=C(C=C3)O)C(=O)N[C@@H](CCCNC(=N)N)C(=O)N[C@@H](CCCCN)C(=O)N[C@@H](C(C)C)C(=O)N[C@@H](CC(C)C)C(=O)NCC(=O)N[C@@H](CCC(=O)N)C(=O)N[C@@H](CC(C)C)C(=O)N[C@@H](CO)C(=O)N[C@@H](C)C(=O)N[C@@H](CCCNC(=N)N)C(=O)N[C@@H](CCCCN)C(=O)N[C@@H](CC(C)C)C(=O)N[C@@H](CC(C)C)C(=O)N[C@@H](CCC(=O)N)C(=O)N[C@@H](CC(=O)O)C(=O)N[C@@H]([C@@H](C)CC)C(=O)N[C@@H](CCSC)C(=O)N[C@@H](CO)C(=O)N[C@@H](CCCNC(=N)N)C(=O)N[C@@H](CCC(=O)N)C(=O)N[C@@H](CCC(=O)N)C(=O)NCC(=O)N[C@@H](CCC(=O)O)C(=O)N[C@@H](CO)C(=O)N[C@@H](CC(=O)N)C(=O)N[C@@H](CCC(=O)N)C(=O)N[C@@H](CCC(=O)O)C(=O)N[C@@H](CCCNC(=N)N)C(=O)NCC(=O)N[C@@H](C)C(=O)N[C@@H](CCCNC(=N)N)C(=O)N[C@@H](C)C(=O)N[C@@H](CCCNC(=N)N)C(=O)N[C@@H](CC(C)C)C(=O)N',\n",
       " 'ustekinumab': None,\n",
       " 'sodium phosphate': '[O-]P(=O)([O-])[O-].[Na+].[Na+].[Na+]',\n",
       " 'glycopyrronium bromide': 'C[N+]1(CCC(C1)OC(=O)C(C2CCCC2)(C3=CC=CC=C3)O)C.[Br-]',\n",
       " 'hydroxycarbamide': 'C(=O)(N)NO',\n",
       " 'lepirudin': 'CC[C@H](C)[C@H]1C(=O)N[C@H](C(=O)NCC(=O)N[C@H](C(=O)N[C@H](C(=O)NCC(=O)N[C@H](C(=O)N[C@H](C(=O)N[C@H](C(=O)N[C@H](C(=O)N[C@@H](CSSC[C@H]2C(=O)NCC(=O)N[C@H](C(=O)NCC(=O)N[C@H](C(=O)N[C@H](C(=O)N[C@@H](CSSC[C@@H](C(=O)N[C@H](C(=O)NCC(=O)N[C@H](C(=O)N[C@H](C(=O)N[C@H](C(=O)N2)C(C)C)CC(=O)N)CO)CCC(=O)O)NC(=O)[C@H](CC(C)C)NC(=O)[C@@H]3CSSC[C@@H](C(=O)N[C@H](C(=O)N[C@H](C(=O)N[C@H](C(=O)NCC(=O)N[C@H](C(=O)N[C@H](C(=O)N[C@H](C(=O)N3)CC(C)C)CC(=O)N)CCC(=O)N)CO)CCC(=O)O)[C@@H](C)O)NC(=O)[C@H](CC(=O)O)NC(=O)[C@H]([C@@H](C)O)NC(=O)[C@H](CC4=CC=C(C=C4)O)NC(=O)[C@H]([C@@H](C)O)NC(=O)[C@H](CC(C)C)N)C(=O)N1)CCCCN)CC(=O)N)CCC(=O)N)C(=O)N[C@@H](C(C)C)C(=O)N[C@@H]([C@@H](C)O)C(=O)NCC(=O)N[C@@H](CCC(=O)O)C(=O)NCC(=O)N[C@@H]([C@@H](C)O)C(=O)N5CCC[C@H]5C(=O)N[C@@H](CCCCN)C(=O)N6CCC[C@H]6C(=O)N[C@@H](CCC(=O)N)C(=O)N[C@@H](CO)C(=O)N[C@@H](CC7=CNC=N7)C(=O)N[C@@H](CC(=O)N)C(=O)N[C@@H](CC(=O)O)C(=O)NCC(=O)N[C@@H](CC(=O)O)C(=O)N[C@@H](CC8=CC=CC=C8)C(=O)N[C@@H](CCC(=O)O)C(=O)N[C@@H](CCC(=O)O)C(=O)N[C@@H]([C@@H](C)CC)C(=O)N9CCC[C@H]9C(=O)N[C@@H](CCC(=O)O)C(=O)N[C@@H](CCC(=O)O)C(=O)N[C@@H](CC1=CC=C(C=C1)O)C(=O)N[C@@H](CC(C)C)C(=O)N[C@@H](CCC(=O)N)C(=O)O)CCC(=O)N)CC(=O)N)CCCCN)CCC(=O)O)CC(=O)O)CO)CC(C)C',\n",
       " 'fampridine': 'C1=CN=CC=C1N',\n",
       " 'pentosan polysulfate sodium': None,\n",
       " 'interferon alfa-2b': 'CCCN(CCOC1=C(C=C(C=C1Cl)Cl)Cl)C(=O)N2C=CN=C2.C(S(=O)(=O)[O-])(I)I.[Na+]',\n",
       " 'insulin detemir': 'CCCCCCCCCCCCCC(=O)NCCCC[C@@H](C(=O)O)NC(=O)[C@@H]1CCCN1C(=O)[C@H]([C@@H](C)O)NC(=O)[C@H](CC2=CC=C(C=C2)O)NC(=O)[C@H](CC3=CC=CC=C3)NC(=O)[C@H](CC4=CC=CC=C4)NC(=O)CNC(=O)[C@H](CCCNC(=N)N)NC(=O)[C@H](CCC(=O)O)NC(=O)CNC(=O)[C@@H]5CSSC[C@H](NC(=O)[C@@H](NC(=O)[C@@H](NC(=O)[C@@H](NC(=O)[C@@H](NC(=O)[C@@H](NC(=O)[C@@H](NC(=O)[C@@H](NC(=O)[C@@H](NC(=O)[C@@H]6CSSC[C@@H](C(=O)N[C@@H](CSSC[C@@H](C(=O)NCC(=O)N[C@H](C(=O)N[C@H](C(=O)N[C@H](C(=O)N[C@H](C(=O)N[C@H](C(=O)N[C@H](C(=O)N[C@H](C(=O)N[C@H](C(=O)N[C@H](C(=O)N[C@H](C(=O)N5)C(C)C)CC(C)C)CC7=CC=C(C=C7)O)CC(C)C)C)CCC(=O)O)C(C)C)CC(C)C)CC8=CNC=N8)CO)NC(=O)[C@H](CC(C)C)NC(=O)[C@H](CC9=CNC=N9)NC(=O)[C@H](CCC(=O)N)NC(=O)[C@H](CC(=O)N)NC(=O)[C@H](C(C)C)NC(=O)[C@H](CC1=CC=CC=C1)N)C(=O)N[C@H](C(=O)N[C@H](C(=O)N[C@H](C(=O)N6)[C@@H](C)CC)CO)[C@@H](C)O)NC(=O)[C@H](CCC(=O)N)NC(=O)[C@H](CCC(=O)O)NC(=O)[C@H](C(C)C)NC(=O)[C@H]([C@@H](C)CC)NC(=O)CN)CO)CC(C)C)CC1=CC=C(C=C1)O)CCC(=O)N)CC(C)C)CCC(=O)O)CC(=O)N)CC1=CC=C(C=C1)O)C(=O)N[C@@H](CC(=O)N)C(=O)O',\n",
       " 'insulin lispro': 'CC[C@H](C)[C@@H](C(=O)N[C@@H](C(C)C)C(=O)N[C@@H](CCC(=O)O)C(=O)N[C@@H](CCC(=O)N)C(=O)N[C@@H](CS)C(=O)N[C@@H](CS)C(=O)N[C@@H]([C@@H](C)O)C(=O)N[C@@H](CO)C(=O)N[C@@H]([C@@H](C)CC)C(=O)N[C@@H](CS)C(=O)N[C@@H](CO)C(=O)N[C@@H](CC(C)C)C(=O)N[C@@H](CC1=CC=C(C=C1)O)C(=O)N[C@@H](CCC(=O)N)C(=O)N[C@@H](CC(C)C)C(=O)N[C@@H](CCC(=O)O)C(=O)N[C@@H](CC(=O)N)C(=O)N[C@@H](CC2=CC=C(C=C2)O)C(=O)N[C@@H](CS)C(=O)N[C@@H](CC(=O)N)C(=O)O)NC(=O)CN.C[C@H]([C@@H](C(=O)N[C@@H](CCCCN)C(=O)N1CCC[C@H]1C(=O)N[C@@H]([C@@H](C)O)C(=O)O)NC(=O)[C@H](CC2=CC=C(C=C2)O)NC(=O)[C@H](CC3=CC=CC=C3)NC(=O)[C@H](CC4=CC=CC=C4)NC(=O)CNC(=O)[C@H](CCCNC(=N)N)NC(=O)[C@H](CCC(=O)O)NC(=O)CNC(=O)[C@H](CS)NC(=O)[C@H](C(C)C)NC(=O)[C@H](CC(C)C)NC(=O)[C@H](CC5=CC=C(C=C5)O)NC(=O)[C@H](CC(C)C)NC(=O)[C@H](C)NC(=O)[C@H](CCC(=O)O)NC(=O)[C@H](C(C)C)NC(=O)[C@H](CC(C)C)NC(=O)[C@H](CC6=CN=CN6)NC(=O)[C@H](CO)NC(=O)CNC(=O)[C@H](CS)NC(=O)[C@H](CC(C)C)NC(=O)[C@H](CC7=CN=CN7)NC(=O)[C@H](CCC(=O)N)NC(=O)[C@H](CC(=O)N)NC(=O)[C@H](C(C)C)NC(=O)[C@H](CC8=CC=CC=C8)N)O',\n",
       " 'lamivudine and abacavir': None,\n",
       " 'ibandronic acid': 'CCCCCN(C)CCC(O)(P(=O)(O)O)P(=O)(O)O',\n",
       " 'cyproterone': 'CC(=O)[C@]1(CC[C@@H]2[C@@]1(CC[C@H]3[C@H]2C=C(C4=CC(=O)[C@@H]5C[C@@H]5[C@]34C)Cl)C)O',\n",
       " 'umeclidinium bromide': 'C1C[N+]2(CCC1(CC2)C(C3=CC=CC=C3)(C4=CC=CC=C4)O)CCOCC5=CC=CC=C5.[Br-]',\n",
       " 'olmesartan medoxomil': 'CCCC1=NC(=C(N1CC2=CC=C(C=C2)C3=CC=CC=C3C4=NNN=N4)C(=O)OCC5=C(OC(=O)O5)C)C(C)(C)O',\n",
       " 'saccharated iron oxide': 'C([C@@H]1[C@H]([C@@H]([C@H]([C@H](O1)O[C@]2([C@H]([C@@H]([C@H](O2)CO)O)O)CO)O)O)O)O.O.O.O.[OH-].[O-2].[O-2].[O-2].[O-2].[O-2].[O-2].[O-2].[O-2].[Na+].[Na+].[Fe+3].[Fe+3].[Fe+3].[Fe+3].[Fe+3]',\n",
       " 'radium (223ra) dichloride': None,\n",
       " 'teduglutide': None,\n",
       " 'ecallantide': 'CC[C@H](C)[C@H]1C(=O)N[C@H](C(=O)NCC(=O)NCC(=O)N[C@H]2CSSC[C@H]3C(=O)N[C@H](C(=O)N[C@H](C(=O)N[C@H](C(=O)N[C@H](C(=O)N4CCC[C@H]4C(=O)N[C@H](C(=O)N[C@H](C(=O)N[C@H](C(=O)N[C@H](C(=O)N[C@H](C(=O)N[C@H](C(=O)N[C@H](C(=O)N[C@H](C(=O)N[C@H](C(=O)N[C@H](C(=O)N[C@@H](CSSC[C@@H](C(=O)N[C@H](C(=O)N[C@H](C(=O)N[C@H](C(=O)N[C@@H](CSSC[C@@H](C(=O)N[C@H](C(=O)N[C@H](C(=O)N[C@H](C(=O)N[C@H](C(=O)N[C@H](C(=O)N[C@H](C(=O)NCC(=O)N5CCC[C@H]5C(=O)N3)CC(=O)O)CC(=O)O)C)CCCCN)CC6=CC=CC=C6)C)NC(=O)[C@H](CC7=CC=CC=C7)NC(=O)[C@H](CO)NC(=O)[C@H](CC8=CN=CN8)NC(=O)[C@H](CCSC)NC(=O)[C@H](C)NC(=O)[C@H](CCC(=O)O)N)C(=O)N[C@@H]([C@H](C)O)C(=O)N[C@@H](CCCNC(=N)N)C(=O)N[C@@H](CC(=O)O)C(=O)O)CCSC)CCCCN)CCCCN)NC(=O)[C@@H](NC(=O)[C@@H](NC(=O)[C@@H](NC(=O)[C@@H](NC(=O)[C@@H](NC(=O)[C@@H](NC(=O)[C@@H](NC(=O)[C@@H](NC(=O)[C@@H](NC(=O)[C@@H](NC(=O)CNC(=O)[C@@H](NC2=O)CCC(=O)O)CC(=O)N)CCC(=O)N)CC(=O)N)CCCNC(=N)N)CC9=CC=CC=C9)CCC(=O)O)CO)CC(C)C)CCC(=O)O)CCC(=O)O)C(=O)N[C@H](C(=O)N[C@H](C(=O)N[C@H](C(=O)N1)CC1=CC=CC=C1)CCC(=O)O)CCC(=O)O)CCC(=O)N)CCCNC(=N)N)[C@H](C)O)CC1=CC=CC=C1)[C@@H](C)CC)CC(=O)N)CC1=CC=CC=C1)CC1=CC=CC=C1)CC1=CNC2=CC=CC=C21)CCCNC(=N)N)CC1=CN=CN1)C)C)CCCNC(=N)N)CC1=CC=C(C=C1)O',\n",
       " 'glutamine': 'C(CC(=O)N)[C@@H](C(=O)O)N',\n",
       " 'aciclovir': 'C1=NC2=C(N1COCCO)N=C(NC2=O)N',\n",
       " 'heparin': None,\n",
       " 'teriparatide': 'CC[C@H](C)[C@@H](C(=O)N[C@@H](CCC(=O)N)C(=O)N[C@@H](CC(C)C)C(=O)N[C@@H](CCSC)C(=O)N[C@@H](CC1=CNC=N1)C(=O)N[C@@H](CC(=O)N)C(=O)N[C@@H](CC(C)C)C(=O)NCC(=O)N[C@@H](CCCCN)C(=O)N[C@@H](CC2=CNC=N2)C(=O)N[C@@H](CC(C)C)C(=O)N[C@@H](CC(=O)N)C(=O)N[C@@H](CO)C(=O)N[C@@H](CCSC)C(=O)N[C@@H](CCC(=O)O)C(=O)N[C@@H](CCCNC(=N)N)C(=O)N[C@@H](C(C)C)C(=O)N[C@@H](CCC(=O)O)C(=O)N[C@@H](CC3=CNC4=CC=CC=C43)C(=O)N[C@@H](CC(C)C)C(=O)N[C@@H](CCCNC(=N)N)C(=O)N[C@@H](CCCCN)C(=O)N[C@@H](CCCCN)C(=O)N[C@@H](CC(C)C)C(=O)N[C@@H](CCC(=O)N)C(=O)N[C@@H](CC(=O)O)C(=O)N[C@@H](C(C)C)C(=O)N[C@@H](CC5=CNC=N5)C(=O)N[C@@H](CC(=O)N)C(=O)N[C@@H](CC6=CC=CC=C6)C(=O)O)NC(=O)[C@H](CCC(=O)O)NC(=O)[C@H](CO)NC(=O)[C@H](C(C)C)NC(=O)[C@H](CO)N',\n",
       " 'muromonab-cd3': None,\n",
       " 'atracurium': 'C[N+]1(CCC2=CC(=C(C=C2C1CC3=CC(=C(C=C3)OC)OC)OC)OC)CCC(=O)OCCCCCOC(=O)CC[N+]4(CCC5=CC(=C(C=C5C4CC6=CC(=C(C=C6)OC)OC)OC)OC)C',\n",
       " 'sulfamethoxazole and trimethoprim': 'CC1=CC(=NO1)NS(=O)(=O)C2=CC=C(C=C2)N.COC1=CC(=CC(=C1OC)OC)CC2=CN=C(N=C2N)N',\n",
       " 'mercaptamine': 'C(CS)N',\n",
       " 'urofollitropin': 'CCC(C)C1C(=O)NC(C(=O)NC(C(=O)NC(CSSCC(C(=O)NC(C(=O)N1)CC2=CC=C(C=C2)O)N)C(=O)N3CCCC3C(=O)NC(CC(C)C)C(=O)NCC(=O)N)CC(=O)N)C(C)O',\n",
       " 'pegvisomant': None,\n",
       " 'nesiritide': 'CCC(C)C1C(=O)NC(C(=O)NC(C(=O)NC(C(=O)NC(C(=O)NCC(=O)NC(C(=O)NCC(=O)NC(CSSCC(C(=O)NC(C(=O)NCC(=O)NC(C(=O)NC(C(=O)NC(C(=O)NC(C(=O)NC(C(=O)N1)CCCNC(=N)N)CC(=O)O)CCSC)CCCCN)CCCNC(=N)N)CC2=CC=CC=C2)NC(=O)CNC(=O)C(CO)NC(=O)CNC(=O)C(CCC(=O)N)NC(=O)C(C(C)C)NC(=O)C(CCSC)NC(=O)C(CCCCN)NC(=O)C3CCCN3C(=O)C(CO)N)C(=O)NC(CCCCN)C(=O)NC(C(C)C)C(=O)NC(CC(C)C)C(=O)NC(CCCNC(=N)N)C(=O)NC(CCCNC(=N)N)C(=O)NC(CC4=CNC=N4)C(=O)O)CC(C)C)CO)CO)CO)CO',\n",
       " 'dicycloverine': 'CCN(CC)CCOC(=O)C1(CCCCC1)C2CCCCC2',\n",
       " 'albumin': None,\n",
       " 'technetium (99mtc) exametazime': None,\n",
       " 'leuprorelin': 'CCNC(=O)[C@@H]1CCCN1C(=O)[C@H](CCCN=C(N)N)NC(=O)[C@H](CC(C)C)NC(=O)[C@@H](CC(C)C)NC(=O)[C@H](CC2=CC=C(C=C2)O)NC(=O)[C@H](CO)NC(=O)[C@H](CC3=CNC4=CC=CC=C43)NC(=O)[C@H](CC5=CN=CN5)NC(=O)[C@@H]6CCC(=O)N6',\n",
       " 'salmeterol and fluticasone': None,\n",
       " 'romiplostim': None,\n",
       " 'secretin': None,\n",
       " 'mesna': None,\n",
       " 'oxytocin': 'CC[C@H](C)[C@H]1C(=O)N[C@H](C(=O)N[C@H](C(=O)N[C@@H](CSSC[C@@H](C(=O)N[C@H](C(=O)N1)CC2=CC=C(C=C2)O)N)C(=O)N3CCC[C@H]3C(=O)N[C@@H](CC(C)C)C(=O)NCC(=O)N)CC(=O)N)CCC(=O)N',\n",
       " 'mipomersen': 'CC1=CN(C(=O)NC1=O)[C@H]2C[C@@H]([C@H](O2)COP(=O)([O-])S[C@H]3C[C@@H](O[C@@H]3COP(=O)([O-])S[C@H]4C[C@@H](O[C@@H]4COP(=O)([O-])S[C@H]5C[C@@H](O[C@@H]5COP(=O)([O-])S[C@H]6C[C@@H](O[C@@H]6COP(=O)([O-])S[C@H]7C[C@@H](O[C@@H]7COP(=O)([O-])S[C@H]8C[C@@H](O[C@@H]8COP(=O)([O-])S[C@H]9C[C@@H](O[C@@H]9COP(=O)([O-])S[C@@H]1[C@H](O[C@H]([C@@H]1OCCOC)N1C=C(C(=NC1=O)N)C)COP(=O)([O-])S[C@@H]1[C@H](O[C@H]([C@@H]1OCCOC)N1C=C(C(=O)NC1=O)C)COP(=O)([O-])S[C@@H]1[C@H](O[C@H]([C@@H]1OCCOC)N1C=C(C(=NC1=O)N)C)COP(=O)([O-])S[C@@H]1[C@H](O[C@H]([C@@H]1OCCOC)N1C=C(C(=NC1=O)N)C)COP(=O)([O-])S[C@@H]1[C@H](O[C@H]([C@@H]1OCCOC)N1C=NC2=C1N=C(NC2=O)N)CO)N1C=NC2=C(N=CN=C21)N)N1C=NC2=C1N=C(NC2=O)N)N1C=C(C(=O)NC1=O)C)N1C=C(C(=NC1=O)N)C)N1C=C(C(=O)NC1=O)C)N1C=NC2=C1N=C(NC2=O)N)N1C=C(C(=NC1=O)N)C)SP(=O)([O-])OC[C@@H]1[C@H](C[C@@H](O1)N1C=C(C(=O)NC1=O)C)SP(=O)([O-])OC[C@@H]1[C@H](C[C@@H](O1)N1C=C(C(=NC1=O)N)C)SP(=O)([O-])OC[C@@H]1[C@H]([C@H]([C@@H](O1)N1C=NC2=C1N=C(NC2=O)N)OCCOC)SP(=O)([O-])OC[C@H]1[C@@H]([C@@H]([C@H](O1)N1C=C(C(=NC1=O)N)C)OCCOC)SP(=O)([O-])OC[C@H]1[C@@H]([C@@H]([C@H](O1)N1C=NC2=C(N=CN=C21)N)OCCOC)SP(=O)([O-])OC[C@H]1[C@@H]([C@@H]([C@H](O1)N1C=C(C(=NC1=O)N)C)OCCOC)SP(=O)([O-])OC[C@H]1[C@@H]([C@@H]([C@H](O1)N1C=C(C(=NC1=O)N)C)OCCOC)O',\n",
       " 'dalbavancin': 'CC(C)CCCCCCCCC(=O)N[C@@H]1[C@H]([C@@H]([C@H](O[C@H]1OC2=C3C=C4C=C2OC5=C(C=C(C=C5)[C@H]([C@H]6C(=O)N[C@@H](C7=C(C(=CC(=C7)O)O[C@@H]8[C@H]([C@H]([C@@H]([C@H](O8)CO)O)O)O)C9=C(C=CC(=C9)[C@H](C(=O)N6)NC(=O)[C@@H]4NC(=O)[C@@H]1C2=C(C(=CC(=C2)OC2=C(C=CC(=C2)[C@H](C(=O)N[C@H](CC2=CC=C(O3)C=C2)C(=O)N1)NC)O)O)Cl)O)C(=O)NCCCN(C)C)O)Cl)C(=O)O)O)O',\n",
       " 'technetium (99mtc) tetrofosmin': 'CCOCCP(CCOCC)CCP(CCOCC)CCOCC.CCOCCP(CCOCC)CCP(CCOCC)CCOCC.O.O.[98Tc]',\n",
       " 'methylnaltrexone bromide': 'C[N+]1(CC[C@]23[C@@H]4C(=O)CC[C@]2([C@H]1CC5=C3C(=C(C=C5)O)O4)O)CC6CC6.[Br-]',\n",
       " 'megestrol': 'CC1=C[C@@H]2[C@H](CC[C@]3([C@H]2CC[C@@]3(C(=O)C)O)C)[C@@]4(C1=CC(=O)CC4)C',\n",
       " 'podophyllotoxin': 'COC1=CC(=CC(=C1OC)OC)[C@H]2[C@@H]3[C@H](COC3=O)[C@H](C4=CC5=C(C=C24)OCO5)O',\n",
       " 'paracetamol': None,\n",
       " 'conjugated estrogens': 'C[C@]12CCC3C(C1CCC2=O)CCC4=C3C=CC(=C4)OS(=O)(=O)[O-].[Na+]',\n",
       " 'aclidinium bromide': 'C1C[N+]2(CCC1[C@H](C2)OC(=O)C(C3=CC=CS3)(C4=CC=CS4)O)CCCOC5=CC=CC=C5.[Br-]',\n",
       " 'ciclosporin': 'CC[C@H]1C(=O)N(CC(=O)N([C@H](C(=O)N[C@H](C(=O)N([C@H](C(=O)N[C@H](C(=O)N[C@@H](C(=O)N([C@H](C(=O)N([C@H](C(=O)N([C@H](C(=O)N([C@H](C(=O)N1)[C@@H]([C@H](C)C/C=C/C)O)C)C(C)C)C)CC(C)C)C)CC(C)C)C)C)C)CC(C)C)C)C(C)C)CC(C)C)C)C'}"
      ]
     },
     "execution_count": 22,
     "metadata": {},
     "output_type": "execute_result"
    }
   ],
   "source": [
    "print(len(miss_smile.values()))\n",
    "miss_smile"
   ]
  },
  {
   "cell_type": "code",
   "execution_count": 23,
   "metadata": {},
   "outputs": [
    {
     "data": {
      "text/plain": [
       "(20, 3)"
      ]
     },
     "execution_count": 23,
     "metadata": {},
     "output_type": "execute_result"
    }
   ],
   "source": [
    "#将更新的smiles合并到之前归一化失败的里面\n",
    "for i in range(drug32.shape[0]):\n",
    "    if pd.isna(drug32.iloc[i,1])== True:\n",
    "        drug32.iloc[i,1] = miss_smile[drug32.iloc[i,0]]\n",
    "drug32[drug32['dg_smile'].isna()].shape"
   ]
  },
  {
   "cell_type": "markdown",
   "metadata": {},
   "source": [
    "### 对smiles进行规范"
   ]
  },
  {
   "cell_type": "markdown",
   "metadata": {},
   "source": [
    "drug32里面有缺失的smiles55"
   ]
  },
  {
   "cell_type": "code",
   "execution_count": 37,
   "metadata": {},
   "outputs": [],
   "source": [
    "def unify_smiles(smiles):\n",
    "    # 将 SMILES 字符串转换为分子对象\n",
    "    if type(smiles) == str:\n",
    "        mol = Chem.MolFromSmiles(smiles)\n",
    "    else:\n",
    "        mol = None\n",
    "    if mol is None:\n",
    "        return None  # 如果无法转换为分子对象，则返回 None\n",
    "    # 将分子对象转换回标准化的 SMILES 格式\n",
    "    standardized_smiles = Chem.MolToSmiles(mol, isomericSmiles=True)\n",
    "    return standardized_smiles\n",
    "drug32['dg_smile_unif'] = drug32['dg_smile'].map(unify_smiles)\n",
    "# miss_simle_drug=drug32[drug32['dg_smile'].isnull()]['GenericName'].unique()"
   ]
  },
  {
   "cell_type": "code",
   "execution_count": 38,
   "metadata": {},
   "outputs": [
    {
     "name": "stdout",
     "output_type": "stream",
     "text": [
      "(81, 4)\n"
     ]
    },
    {
     "data": {
      "text/plain": [
       "(84, 4)"
      ]
     },
     "execution_count": 38,
     "metadata": {},
     "output_type": "execute_result"
    }
   ],
   "source": [
    "print(drug32[drug32['dg_smile'].isna()].shape)\n",
    "drug32[drug32['dg_smile_unif'].isna()].shape #有三个药物从drugbank中导入的无法进行mol转换"
   ]
  },
  {
   "cell_type": "code",
   "execution_count": 39,
   "metadata": {},
   "outputs": [
    {
     "data": {
      "text/html": [
       "<div>\n",
       "<style scoped>\n",
       "    .dataframe tbody tr th:only-of-type {\n",
       "        vertical-align: middle;\n",
       "    }\n",
       "\n",
       "    .dataframe tbody tr th {\n",
       "        vertical-align: top;\n",
       "    }\n",
       "\n",
       "    .dataframe thead th {\n",
       "        text-align: right;\n",
       "    }\n",
       "</style>\n",
       "<table border=\"1\" class=\"dataframe\">\n",
       "  <thead>\n",
       "    <tr style=\"text-align: right;\">\n",
       "      <th></th>\n",
       "      <th>GenericName</th>\n",
       "      <th>dg_smile</th>\n",
       "      <th>dg_ATC</th>\n",
       "      <th>dg_smile_unif</th>\n",
       "    </tr>\n",
       "  </thead>\n",
       "  <tbody>\n",
       "    <tr>\n",
       "      <th>153</th>\n",
       "      <td>oxaliplatin</td>\n",
       "      <td>[H][N]1([H])[C@@H]2CCCC[C@H]2[N]([H])([H])[Pt]...</td>\n",
       "      <td>L01XA03</td>\n",
       "      <td>None</td>\n",
       "    </tr>\n",
       "    <tr>\n",
       "      <th>549</th>\n",
       "      <td>carboplatin</td>\n",
       "      <td>[H][N]([H])([H])[Pt]1(OC(=O)C2(CCC2)C(=O)O1)[N...</td>\n",
       "      <td>L01XA02</td>\n",
       "      <td>None</td>\n",
       "    </tr>\n",
       "    <tr>\n",
       "      <th>672</th>\n",
       "      <td>temoporfin</td>\n",
       "      <td>OC1=CC=CC(=C1)C-1=C2\\CCC(=N2)\\C(=C2/N\\C(\\C=C2)...</td>\n",
       "      <td>L01XD05</td>\n",
       "      <td>None</td>\n",
       "    </tr>\n",
       "  </tbody>\n",
       "</table>\n",
       "</div>"
      ],
      "text/plain": [
       "     GenericName                                           dg_smile   dg_ATC  \\\n",
       "153  oxaliplatin  [H][N]1([H])[C@@H]2CCCC[C@H]2[N]([H])([H])[Pt]...  L01XA03   \n",
       "549  carboplatin  [H][N]([H])([H])[Pt]1(OC(=O)C2(CCC2)C(=O)O1)[N...  L01XA02   \n",
       "672   temoporfin  OC1=CC=CC(=C1)C-1=C2\\CCC(=N2)\\C(=C2/N\\C(\\C=C2)...  L01XD05   \n",
       "\n",
       "    dg_smile_unif  \n",
       "153          None  \n",
       "549          None  \n",
       "672          None  "
      ]
     },
     "execution_count": 39,
     "metadata": {},
     "output_type": "execute_result"
    }
   ],
   "source": []
  },
  {
   "cell_type": "code",
   "execution_count": 26,
   "metadata": {},
   "outputs": [
    {
     "data": {
      "text/plain": [
       "29                        rasburicase\n",
       "61                       eptifibatide\n",
       "96                    porfimer sodium\n",
       "141                        ofatumumab\n",
       "153                       oxaliplatin\n",
       "202                    insulin aspart\n",
       "225                       ustekinumab\n",
       "298       pentosan polysulfate sodium\n",
       "338           lamivudine and abacavir\n",
       "400         radium (223ra) dichloride\n",
       "415                       teduglutide\n",
       "455                           heparin\n",
       "464                     muromonab-cd3\n",
       "521                       pegvisomant\n",
       "540                           albumin\n",
       "549                       carboplatin\n",
       "552    technetium (99mtc) exametazime\n",
       "556        salmeterol and fluticasone\n",
       "564                       romiplostim\n",
       "577                          secretin\n",
       "580                             mesna\n",
       "672                        temoporfin\n",
       "742                       paracetamol\n",
       "Name: GenericName, dtype: object"
      ]
     },
     "execution_count": 26,
     "metadata": {},
     "output_type": "execute_result"
    }
   ],
   "source": [
    "drug32[drug32['dg_smile_unif'].isna()]['GenericName']"
   ]
  },
  {
   "cell_type": "markdown",
   "metadata": {},
   "source": [
    "对规范化里面的smiles再进行一次pubchem搜索"
   ]
  },
  {
   "cell_type": "code",
   "execution_count": 27,
   "metadata": {},
   "outputs": [
    {
     "name": "stderr",
     "output_type": "stream",
     "text": [
      "100%|██████████| 23/23 [01:24<00:00,  3.67s/it]\n"
     ]
    }
   ],
   "source": [
    "miss_smile={}\n",
    "for i in tqdm(drug32[drug32['dg_smile_unif'].isna()]['GenericName']):\n",
    "\tmiss_smile[i]=search_from_Pubchem(i)"
   ]
  },
  {
   "cell_type": "code",
   "execution_count": 28,
   "metadata": {},
   "outputs": [
    {
     "name": "stdout",
     "output_type": "stream",
     "text": [
      "23\n"
     ]
    },
    {
     "data": {
      "text/plain": [
       "{'rasburicase': None,\n",
       " 'eptifibatide': 'C1C[C@H]2C(=O)N[C@@H](CSSCCC(=O)N[C@H](C(=O)NCC(=O)N[C@H](C(=O)N[C@H](C(=O)N2C1)CC3=CNC4=CC=CC=C43)CC(=O)O)CCCCN=C(N)N)C(=O)N',\n",
       " 'porfimer sodium': None,\n",
       " 'ofatumumab': None,\n",
       " 'oxaliplatin': 'C1CC[C@H]([C@@H](C1)[NH-])[NH-].C(=O)(C(=O)O)O.[Pt+2]',\n",
       " 'insulin aspart': None,\n",
       " 'ustekinumab': None,\n",
       " 'pentosan polysulfate sodium': None,\n",
       " 'lamivudine and abacavir': None,\n",
       " 'radium (223ra) dichloride': None,\n",
       " 'teduglutide': 'CC[C@H](C)[C@@H](C(=O)N[C@@H]([C@@H](C)O)C(=O)N[C@@H](CC(=O)O)C(=O)O)NC(=O)[C@H](CCCCN)NC(=O)[C@H]([C@@H](C)O)NC(=O)[C@H](CCC(=O)N)NC(=O)[C@H]([C@@H](C)CC)NC(=O)[C@H](CC(C)C)NC(=O)[C@H](CC1=CNC2=CC=CC=C21)NC(=O)[C@H](CC(=O)N)NC(=O)[C@H]([C@@H](C)CC)NC(=O)[C@H](CC3=CC=CC=C3)NC(=O)[C@H](CC(=O)O)NC(=O)[C@H](CCCNC(=N)N)NC(=O)[C@H](C)NC(=O)[C@H](C)NC(=O)[C@H](CC(C)C)NC(=O)[C@H](CC(=O)N)NC(=O)[C@H](CC(=O)O)NC(=O)[C@H](CC(C)C)NC(=O)[C@H]([C@@H](C)CC)NC(=O)[C@H]([C@@H](C)O)NC(=O)[C@H](CC(=O)N)NC(=O)[C@H](CCSC)NC(=O)[C@H](CCC(=O)O)NC(=O)[C@H](CC(=O)O)NC(=O)[C@H](CO)NC(=O)[C@H](CC4=CC=CC=C4)NC(=O)[C@H](CO)NC(=O)CNC(=O)[C@H](CC(=O)O)NC(=O)CNC(=O)[C@H](CC5=CN=CN5)N',\n",
       " 'heparin': None,\n",
       " 'muromonab-cd3': None,\n",
       " 'pegvisomant': None,\n",
       " 'albumin': None,\n",
       " 'carboplatin': 'C1CC(C1)(C(=O)O)C(=O)O.[NH2-].[NH2-].[Pt+2]',\n",
       " 'technetium (99mtc) exametazime': None,\n",
       " 'salmeterol and fluticasone': None,\n",
       " 'romiplostim': None,\n",
       " 'secretin': None,\n",
       " 'mesna': 'C(CS(=O)(=O)[O-])S.[Na+]',\n",
       " 'temoporfin': 'C1CC2=NC1=C(C3=CC=C(N3)C(=C4C=CC(=N4)C(=C5C=CC(=C2C6=CC(=CC=C6)O)N5)C7=CC(=CC=C7)O)C8=CC(=CC=C8)O)C9=CC(=CC=C9)O',\n",
       " 'paracetamol': 'CC(=O)NC1=CC=C(C=C1)O'}"
      ]
     },
     "execution_count": 28,
     "metadata": {},
     "output_type": "execute_result"
    }
   ],
   "source": [
    "print(len(miss_smile.values()))\n",
    "miss_smile"
   ]
  },
  {
   "cell_type": "code",
   "execution_count": 29,
   "metadata": {},
   "outputs": [
    {
     "data": {
      "text/plain": [
       "Index(['GenericName', 'dg_smile', 'dg_ATC', 'dg_smile_unif'], dtype='object')"
      ]
     },
     "execution_count": 29,
     "metadata": {},
     "output_type": "execute_result"
    }
   ],
   "source": [
    "drug32.columns"
   ]
  },
  {
   "cell_type": "code",
   "execution_count": 30,
   "metadata": {},
   "outputs": [
    {
     "data": {
      "text/plain": [
       "(16, 4)"
      ]
     },
     "execution_count": 30,
     "metadata": {},
     "output_type": "execute_result"
    }
   ],
   "source": [
    "#将更新的smiles合并到之前归一化失败的里面\n",
    "for i in range(drug32.shape[0]):\n",
    "    if pd.isna(drug32.iloc[i,3])== True:\n",
    "        drug32.iloc[i,3] = miss_smile[drug32.iloc[i,0]]\n",
    "drug32[drug32['dg_smile_unif'].isna()].shape"
   ]
  },
  {
   "cell_type": "markdown",
   "metadata": {},
   "source": [
    "再次进行规范化看是否是所有药物已经规范化"
   ]
  },
  {
   "cell_type": "code",
   "execution_count": 31,
   "metadata": {},
   "outputs": [
    {
     "data": {
      "text/plain": [
       "False    743\n",
       "True      16\n",
       "Name: dg_smile_unif, dtype: int64"
      ]
     },
     "execution_count": 31,
     "metadata": {},
     "output_type": "execute_result"
    }
   ],
   "source": [
    "drug_test = drug32['dg_smile_unif'].map(unify_smiles)\n",
    "pd.value_counts(drug_test.isna())"
   ]
  },
  {
   "cell_type": "code",
   "execution_count": 32,
   "metadata": {},
   "outputs": [
    {
     "data": {
      "text/plain": [
       "(743, 4)"
      ]
     },
     "execution_count": 32,
     "metadata": {},
     "output_type": "execute_result"
    }
   ],
   "source": [
    "drug_complete = drug32.dropna(subset=['dg_smile_unif'])\n",
    "drug_complete.shape"
   ]
  },
  {
   "cell_type": "code",
   "execution_count": 353,
   "metadata": {},
   "outputs": [
    {
     "data": {
      "text/plain": [
       "['aciclovir', 'heparin', 'podophyllotoxin', 'atracurium']"
      ]
     },
     "execution_count": 353,
     "metadata": {},
     "output_type": "execute_result"
    }
   ],
   "source": [
    "# error_drug"
   ]
  },
  {
   "cell_type": "code",
   "execution_count": 33,
   "metadata": {},
   "outputs": [
    {
     "name": "stdout",
     "output_type": "stream",
     "text": [
      "743\n"
     ]
    },
    {
     "data": {
      "text/plain": [
       "743"
      ]
     },
     "execution_count": 33,
     "metadata": {},
     "output_type": "execute_result"
    }
   ],
   "source": [
    "print(len(drug_complete['dg_smile_unif'].unique()))\n",
    "len(drug_complete['GenericName'].unique())"
   ]
  },
  {
   "cell_type": "code",
   "execution_count": 34,
   "metadata": {},
   "outputs": [
    {
     "data": {
      "text/html": [
       "<div>\n",
       "<style scoped>\n",
       "    .dataframe tbody tr th:only-of-type {\n",
       "        vertical-align: middle;\n",
       "    }\n",
       "\n",
       "    .dataframe tbody tr th {\n",
       "        vertical-align: top;\n",
       "    }\n",
       "\n",
       "    .dataframe thead th {\n",
       "        text-align: right;\n",
       "    }\n",
       "</style>\n",
       "<table border=\"1\" class=\"dataframe\">\n",
       "  <thead>\n",
       "    <tr style=\"text-align: right;\">\n",
       "      <th></th>\n",
       "      <th>GenericName</th>\n",
       "      <th>SideeffectTerm</th>\n",
       "      <th>FrequencyRatingValue</th>\n",
       "      <th>CID</th>\n",
       "      <th>ATC</th>\n",
       "    </tr>\n",
       "  </thead>\n",
       "  <tbody>\n",
       "    <tr>\n",
       "      <th>0</th>\n",
       "      <td>alfentanil</td>\n",
       "      <td>asthenia</td>\n",
       "      <td>4</td>\n",
       "      <td>51263</td>\n",
       "      <td>N01AH02</td>\n",
       "    </tr>\n",
       "    <tr>\n",
       "      <th>1</th>\n",
       "      <td>alfentanil</td>\n",
       "      <td>movement disorder</td>\n",
       "      <td>4</td>\n",
       "      <td>51263</td>\n",
       "      <td>N01AH02</td>\n",
       "    </tr>\n",
       "  </tbody>\n",
       "</table>\n",
       "</div>"
      ],
      "text/plain": [
       "  GenericName     SideeffectTerm  FrequencyRatingValue    CID      ATC\n",
       "0  alfentanil           asthenia                     4  51263  N01AH02\n",
       "1  alfentanil  movement disorder                     4  51263  N01AH02"
      ]
     },
     "execution_count": 34,
     "metadata": {},
     "output_type": "execute_result"
    }
   ],
   "source": [
    "data1['GenericName'] = data1['GenericName'].str.lower()\n",
    "data1['SideeffectTerm'] = data1['SideeffectTerm'].str.lower()\n",
    "data1.head(2)"
   ]
  },
  {
   "cell_type": "code",
   "execution_count": 35,
   "metadata": {},
   "outputs": [
    {
     "data": {
      "text/html": [
       "<div>\n",
       "<style scoped>\n",
       "    .dataframe tbody tr th:only-of-type {\n",
       "        vertical-align: middle;\n",
       "    }\n",
       "\n",
       "    .dataframe tbody tr th {\n",
       "        vertical-align: top;\n",
       "    }\n",
       "\n",
       "    .dataframe thead th {\n",
       "        text-align: right;\n",
       "    }\n",
       "</style>\n",
       "<table border=\"1\" class=\"dataframe\">\n",
       "  <thead>\n",
       "    <tr style=\"text-align: right;\">\n",
       "      <th></th>\n",
       "      <th>adr_name</th>\n",
       "      <th>adr_similar</th>\n",
       "    </tr>\n",
       "  </thead>\n",
       "  <tbody>\n",
       "    <tr>\n",
       "      <th>0</th>\n",
       "      <td>abdominal discomfort</td>\n",
       "      <td>[1.0, 0.2, 0.2, 0.2, 0.2, 0.0, 0.0, 0.2, 0.0, ...</td>\n",
       "    </tr>\n",
       "    <tr>\n",
       "      <th>1</th>\n",
       "      <td>abdominal distension</td>\n",
       "      <td>[0.2, 1.0, 0.2, 0.2, 0.2, 0.0, 0.0, 0.2, 0.0, ...</td>\n",
       "    </tr>\n",
       "    <tr>\n",
       "      <th>2</th>\n",
       "      <td>abdominal pain</td>\n",
       "      <td>[0.2, 0.2, 1.0, 0.4666666666666667, 0.46666666...</td>\n",
       "    </tr>\n",
       "    <tr>\n",
       "      <th>3</th>\n",
       "      <td>abdominal pain lower</td>\n",
       "      <td>[0.2, 0.2, 0.4666666666666667, 1.0, 0.46666666...</td>\n",
       "    </tr>\n",
       "  </tbody>\n",
       "</table>\n",
       "</div>"
      ],
      "text/plain": [
       "               adr_name                                        adr_similar\n",
       "0  abdominal discomfort  [1.0, 0.2, 0.2, 0.2, 0.2, 0.0, 0.0, 0.2, 0.0, ...\n",
       "1  abdominal distension  [0.2, 1.0, 0.2, 0.2, 0.2, 0.0, 0.0, 0.2, 0.0, ...\n",
       "2        abdominal pain  [0.2, 0.2, 1.0, 0.4666666666666667, 0.46666666...\n",
       "3  abdominal pain lower  [0.2, 0.2, 0.4666666666666667, 1.0, 0.46666666..."
      ]
     },
     "execution_count": 35,
     "metadata": {},
     "output_type": "execute_result"
    }
   ],
   "source": [
    "adr_similar_df1 = adr_similar_df.drop(labels=adr_similar_df.columns[0],axis=1)\n",
    "adr_similar_df1['adr_name'] =adr_similar_df1['adr_name'].str.lower() \n",
    "adr_similar_df1.head(4)"
   ]
  },
  {
   "cell_type": "code",
   "execution_count": 36,
   "metadata": {},
   "outputs": [
    {
     "name": "stderr",
     "output_type": "stream",
     "text": [
      "d:\\Sorftware\\Anaconda\\envs\\drug_ade_37\\lib\\site-packages\\ipykernel_launcher.py:1: SettingWithCopyWarning: \n",
      "A value is trying to be set on a copy of a slice from a DataFrame.\n",
      "Try using .loc[row_indexer,col_indexer] = value instead\n",
      "\n",
      "See the caveats in the documentation: https://pandas.pydata.org/pandas-docs/stable/user_guide/indexing.html#returning-a-view-versus-a-copy\n",
      "  \"\"\"Entry point for launching an IPython kernel.\n"
     ]
    },
    {
     "data": {
      "text/html": [
       "<div>\n",
       "<style scoped>\n",
       "    .dataframe tbody tr th:only-of-type {\n",
       "        vertical-align: middle;\n",
       "    }\n",
       "\n",
       "    .dataframe tbody tr th {\n",
       "        vertical-align: top;\n",
       "    }\n",
       "\n",
       "    .dataframe thead th {\n",
       "        text-align: right;\n",
       "    }\n",
       "</style>\n",
       "<table border=\"1\" class=\"dataframe\">\n",
       "  <thead>\n",
       "    <tr style=\"text-align: right;\">\n",
       "      <th></th>\n",
       "      <th>GenericName</th>\n",
       "      <th>dg_smile</th>\n",
       "      <th>dg_ATC</th>\n",
       "      <th>dg_smile_unif</th>\n",
       "    </tr>\n",
       "  </thead>\n",
       "  <tbody>\n",
       "    <tr>\n",
       "      <th>0</th>\n",
       "      <td>alfentanil</td>\n",
       "      <td>CCN1N=NN(CCN2CCC(COC)(CC2)N(C(=O)CC)C2=CC=CC=C...</td>\n",
       "      <td>N01AH02</td>\n",
       "      <td>CCC(=O)N(c1ccccc1)C1(COC)CCN(CCn2nnn(CC)c2=O)CC1</td>\n",
       "    </tr>\n",
       "    <tr>\n",
       "      <th>1</th>\n",
       "      <td>telithromycin</td>\n",
       "      <td>[H][C@@]12[C@@H](C)C(=O)[C@H](C)C[C@@](C)(OC)[...</td>\n",
       "      <td>J01FA15</td>\n",
       "      <td>CC[C@H]1OC(=O)[C@H](C)C(=O)[C@H](C)[C@@H](O[C@...</td>\n",
       "    </tr>\n",
       "    <tr>\n",
       "      <th>2</th>\n",
       "      <td>simeprevir</td>\n",
       "      <td>[H][C@]12C[C@]1(NC(=O)[C@]1([H])C[C@H](C[C@@]1...</td>\n",
       "      <td>G01AE10;J05AP05</td>\n",
       "      <td>COc1ccc2c(O[C@@H]3C[C@H]4C(=O)N[C@]5(C(=O)NS(=...</td>\n",
       "    </tr>\n",
       "  </tbody>\n",
       "</table>\n",
       "</div>"
      ],
      "text/plain": [
       "     GenericName                                           dg_smile  \\\n",
       "0     alfentanil  CCN1N=NN(CCN2CCC(COC)(CC2)N(C(=O)CC)C2=CC=CC=C...   \n",
       "1  telithromycin  [H][C@@]12[C@@H](C)C(=O)[C@H](C)C[C@@](C)(OC)[...   \n",
       "2     simeprevir  [H][C@]12C[C@]1(NC(=O)[C@]1([H])C[C@H](C[C@@]1...   \n",
       "\n",
       "            dg_ATC                                      dg_smile_unif  \n",
       "0          N01AH02   CCC(=O)N(c1ccccc1)C1(COC)CCN(CCn2nnn(CC)c2=O)CC1  \n",
       "1          J01FA15  CC[C@H]1OC(=O)[C@H](C)C(=O)[C@H](C)[C@@H](O[C@...  \n",
       "2  G01AE10;J05AP05  COc1ccc2c(O[C@@H]3C[C@H]4C(=O)N[C@]5(C(=O)NS(=...  "
      ]
     },
     "execution_count": 36,
     "metadata": {},
     "output_type": "execute_result"
    }
   ],
   "source": [
    "drug_complete['GenericName'] = drug_complete['GenericName'].str.lower()\n",
    "drug_complete.head(3)"
   ]
  },
  {
   "cell_type": "code",
   "execution_count": 37,
   "metadata": {},
   "outputs": [],
   "source": [
    "drug_complete.to_csv('drug_complete.csv',index=False)"
   ]
  },
  {
   "cell_type": "code",
   "execution_count": 38,
   "metadata": {},
   "outputs": [
    {
     "data": {
      "text/plain": [
       "Index(['GenericName', 'dg_smile', 'dg_ATC', 'dg_smile_unif'], dtype='object')"
      ]
     },
     "execution_count": 38,
     "metadata": {},
     "output_type": "execute_result"
    }
   ],
   "source": [
    "drug_complete.columns"
   ]
  },
  {
   "cell_type": "markdown",
   "metadata": {},
   "source": [
    "# 整理数据集，目标数据集\n",
    "\n",
    "# drug adr freq smile adr_similar_feature"
   ]
  },
  {
   "cell_type": "code",
   "execution_count": 39,
   "metadata": {},
   "outputs": [
    {
     "data": {
      "text/html": [
       "<div>\n",
       "<style scoped>\n",
       "    .dataframe tbody tr th:only-of-type {\n",
       "        vertical-align: middle;\n",
       "    }\n",
       "\n",
       "    .dataframe tbody tr th {\n",
       "        vertical-align: top;\n",
       "    }\n",
       "\n",
       "    .dataframe thead th {\n",
       "        text-align: right;\n",
       "    }\n",
       "</style>\n",
       "<table border=\"1\" class=\"dataframe\">\n",
       "  <thead>\n",
       "    <tr style=\"text-align: right;\">\n",
       "      <th></th>\n",
       "      <th>GenericName</th>\n",
       "      <th>SideeffectTerm</th>\n",
       "      <th>FrequencyRatingValue</th>\n",
       "      <th>dg_smile_unif</th>\n",
       "    </tr>\n",
       "  </thead>\n",
       "  <tbody>\n",
       "    <tr>\n",
       "      <th>0</th>\n",
       "      <td>alfentanil</td>\n",
       "      <td>asthenia</td>\n",
       "      <td>4</td>\n",
       "      <td>CCC(=O)N(c1ccccc1)C1(COC)CCN(CCn2nnn(CC)c2=O)CC1</td>\n",
       "    </tr>\n",
       "    <tr>\n",
       "      <th>1</th>\n",
       "      <td>alfentanil</td>\n",
       "      <td>movement disorder</td>\n",
       "      <td>4</td>\n",
       "      <td>CCC(=O)N(c1ccccc1)C1(COC)CCN(CCn2nnn(CC)c2=O)CC1</td>\n",
       "    </tr>\n",
       "    <tr>\n",
       "      <th>2</th>\n",
       "      <td>alfentanil</td>\n",
       "      <td>dyskinesia</td>\n",
       "      <td>4</td>\n",
       "      <td>CCC(=O)N(c1ccccc1)C1(COC)CCN(CCn2nnn(CC)c2=O)CC1</td>\n",
       "    </tr>\n",
       "  </tbody>\n",
       "</table>\n",
       "</div>"
      ],
      "text/plain": [
       "  GenericName     SideeffectTerm  FrequencyRatingValue  \\\n",
       "0  alfentanil           asthenia                     4   \n",
       "1  alfentanil  movement disorder                     4   \n",
       "2  alfentanil         dyskinesia                     4   \n",
       "\n",
       "                                      dg_smile_unif  \n",
       "0  CCC(=O)N(c1ccccc1)C1(COC)CCN(CCn2nnn(CC)c2=O)CC1  \n",
       "1  CCC(=O)N(c1ccccc1)C1(COC)CCN(CCn2nnn(CC)c2=O)CC1  \n",
       "2  CCC(=O)N(c1ccccc1)C1(COC)CCN(CCn2nnn(CC)c2=O)CC1  "
      ]
     },
     "execution_count": 39,
     "metadata": {},
     "output_type": "execute_result"
    }
   ],
   "source": [
    "data2 = pd.merge(data1.iloc[:,0:3], drug_complete.iloc[:,[0,3]],how='left',on='GenericName')\n",
    "data2.head(3)"
   ]
  },
  {
   "cell_type": "code",
   "execution_count": 41,
   "metadata": {},
   "outputs": [
    {
     "data": {
      "text/plain": [
       "Index(['SideeffectTerm', 'adr_similar'], dtype='object')"
      ]
     },
     "execution_count": 41,
     "metadata": {},
     "output_type": "execute_result"
    }
   ],
   "source": [
    "adr_similar_df1.rename(columns={'adr_name': 'SideeffectTerm'},inplace=True)\n",
    "adr_similar_df1.columns"
   ]
  },
  {
   "cell_type": "code",
   "execution_count": 42,
   "metadata": {},
   "outputs": [
    {
     "data": {
      "text/plain": [
       "Index(['GenericName', 'SideeffectTerm', 'FrequencyRatingValue',\n",
       "       'dg_smile_unif'],\n",
       "      dtype='object')"
      ]
     },
     "execution_count": 42,
     "metadata": {},
     "output_type": "execute_result"
    }
   ],
   "source": [
    "data2.columns"
   ]
  },
  {
   "cell_type": "code",
   "execution_count": 44,
   "metadata": {},
   "outputs": [],
   "source": [
    "data2 = pd.merge(data2, adr_similar_df1,how='left',on='SideeffectTerm')"
   ]
  },
  {
   "cell_type": "code",
   "execution_count": 45,
   "metadata": {},
   "outputs": [
    {
     "data": {
      "text/html": [
       "<div>\n",
       "<style scoped>\n",
       "    .dataframe tbody tr th:only-of-type {\n",
       "        vertical-align: middle;\n",
       "    }\n",
       "\n",
       "    .dataframe tbody tr th {\n",
       "        vertical-align: top;\n",
       "    }\n",
       "\n",
       "    .dataframe thead th {\n",
       "        text-align: right;\n",
       "    }\n",
       "</style>\n",
       "<table border=\"1\" class=\"dataframe\">\n",
       "  <thead>\n",
       "    <tr style=\"text-align: right;\">\n",
       "      <th></th>\n",
       "      <th>GenericName</th>\n",
       "      <th>SideeffectTerm</th>\n",
       "      <th>FrequencyRatingValue</th>\n",
       "      <th>dg_smile_unif</th>\n",
       "      <th>adr_similar</th>\n",
       "    </tr>\n",
       "  </thead>\n",
       "  <tbody>\n",
       "    <tr>\n",
       "      <th>0</th>\n",
       "      <td>alfentanil</td>\n",
       "      <td>asthenia</td>\n",
       "      <td>4</td>\n",
       "      <td>CCC(=O)N(c1ccccc1)C1(COC)CCN(CCn2nnn(CC)c2=O)CC1</td>\n",
       "      <td>[0.0, 0.0, 0.0, 0.0, 0.0, 0.0, 0.0, 0.0, 0.0, ...</td>\n",
       "    </tr>\n",
       "    <tr>\n",
       "      <th>1</th>\n",
       "      <td>alfentanil</td>\n",
       "      <td>movement disorder</td>\n",
       "      <td>4</td>\n",
       "      <td>CCC(=O)N(c1ccccc1)C1(COC)CCN(CCn2nnn(CC)c2=O)CC1</td>\n",
       "      <td>[0.0, 0.0, 0.0, 0.0, 0.0, 0.0, 0.0540540540540...</td>\n",
       "    </tr>\n",
       "    <tr>\n",
       "      <th>2</th>\n",
       "      <td>alfentanil</td>\n",
       "      <td>dyskinesia</td>\n",
       "      <td>4</td>\n",
       "      <td>CCC(=O)N(c1ccccc1)C1(COC)CCN(CCn2nnn(CC)c2=O)CC1</td>\n",
       "      <td>[0.0, 0.0, 0.0, 0.0, 0.0, 0.0, 0.0540540540540...</td>\n",
       "    </tr>\n",
       "  </tbody>\n",
       "</table>\n",
       "</div>"
      ],
      "text/plain": [
       "  GenericName     SideeffectTerm  FrequencyRatingValue  \\\n",
       "0  alfentanil           asthenia                     4   \n",
       "1  alfentanil  movement disorder                     4   \n",
       "2  alfentanil         dyskinesia                     4   \n",
       "\n",
       "                                      dg_smile_unif  \\\n",
       "0  CCC(=O)N(c1ccccc1)C1(COC)CCN(CCn2nnn(CC)c2=O)CC1   \n",
       "1  CCC(=O)N(c1ccccc1)C1(COC)CCN(CCn2nnn(CC)c2=O)CC1   \n",
       "2  CCC(=O)N(c1ccccc1)C1(COC)CCN(CCn2nnn(CC)c2=O)CC1   \n",
       "\n",
       "                                         adr_similar  \n",
       "0  [0.0, 0.0, 0.0, 0.0, 0.0, 0.0, 0.0, 0.0, 0.0, ...  \n",
       "1  [0.0, 0.0, 0.0, 0.0, 0.0, 0.0, 0.0540540540540...  \n",
       "2  [0.0, 0.0, 0.0, 0.0, 0.0, 0.0, 0.0540540540540...  "
      ]
     },
     "execution_count": 45,
     "metadata": {},
     "output_type": "execute_result"
    }
   ],
   "source": [
    "data2.head(3)"
   ]
  },
  {
   "cell_type": "code",
   "execution_count": 46,
   "metadata": {},
   "outputs": [
    {
     "data": {
      "text/plain": [
       "743"
      ]
     },
     "execution_count": 46,
     "metadata": {},
     "output_type": "execute_result"
    }
   ],
   "source": [
    "data3 = data2.dropna(subset=['dg_smile_unif'],axis=0)\n",
    "data3.shape\n",
    "len(data3['GenericName'].unique())"
   ]
  },
  {
   "cell_type": "code",
   "execution_count": 423,
   "metadata": {},
   "outputs": [],
   "source": [
    "data3.to_csv('data3.csv',index=False)"
   ]
  },
  {
   "cell_type": "code",
   "execution_count": 47,
   "metadata": {},
   "outputs": [
    {
     "data": {
      "text/plain": [
       "994"
      ]
     },
     "execution_count": 47,
     "metadata": {},
     "output_type": "execute_result"
    }
   ],
   "source": [
    "len(data3['GenericName'].unique())\n",
    "len(data3['SideeffectTerm'].unique())"
   ]
  },
  {
   "cell_type": "markdown",
   "metadata": {},
   "source": [
    "# 提取结构， 圆形， 拓扑指纹\n",
    "\n",
    "## 药效团指纹其中有许多药物无法获取，\n",
    "\n",
    "## 蛋白质配体相互作用指纹需要与蛋白质连用；形状指纹暂时没有找到方法使用"
   ]
  },
  {
   "cell_type": "code",
   "execution_count": 11,
   "metadata": {},
   "outputs": [
    {
     "name": "stdout",
     "output_type": "stream",
     "text": [
      "Index(['GenericName', 'SideeffectTerm', 'FrequencyRatingValue',\n",
      "       'dg_smile_unif', 'adr_similar'],\n",
      "      dtype='object')\n"
     ]
    },
    {
     "data": {
      "text/html": [
       "<div>\n",
       "<style scoped>\n",
       "    .dataframe tbody tr th:only-of-type {\n",
       "        vertical-align: middle;\n",
       "    }\n",
       "\n",
       "    .dataframe tbody tr th {\n",
       "        vertical-align: top;\n",
       "    }\n",
       "\n",
       "    .dataframe thead th {\n",
       "        text-align: right;\n",
       "    }\n",
       "</style>\n",
       "<table border=\"1\" class=\"dataframe\">\n",
       "  <thead>\n",
       "    <tr style=\"text-align: right;\">\n",
       "      <th></th>\n",
       "      <th>GenericName</th>\n",
       "      <th>SideeffectTerm</th>\n",
       "      <th>FrequencyRatingValue</th>\n",
       "      <th>dg_smile_unif</th>\n",
       "      <th>adr_similar</th>\n",
       "    </tr>\n",
       "  </thead>\n",
       "  <tbody>\n",
       "    <tr>\n",
       "      <th>15</th>\n",
       "      <td>alfentanil</td>\n",
       "      <td>hypotension</td>\n",
       "      <td>5</td>\n",
       "      <td>CCC(=O)N(c1ccccc1)C1(COC)CCN(CCn2nnn(CC)c2=O)CC1</td>\n",
       "      <td>[0.0, 0.0, 0.0, 0.0, 0.0, 0.0, 0.0, 0.0, 0.0, ...</td>\n",
       "    </tr>\n",
       "    <tr>\n",
       "      <th>16</th>\n",
       "      <td>alfentanil</td>\n",
       "      <td>muscle rigidity</td>\n",
       "      <td>5</td>\n",
       "      <td>CCC(=O)N(c1ccccc1)C1(COC)CCN(CCn2nnn(CC)c2=O)CC1</td>\n",
       "      <td>[0.0, 0.0, 0.0, 0.0, 0.0, 0.0, 0.0454545454545...</td>\n",
       "    </tr>\n",
       "    <tr>\n",
       "      <th>17</th>\n",
       "      <td>telithromycin</td>\n",
       "      <td>flatulence</td>\n",
       "      <td>4</td>\n",
       "      <td>CC[C@H]1OC(=O)[C@H](C)C(=O)[C@H](C)[C@@H](O[C@...</td>\n",
       "      <td>[0.2, 0.4666666666666667, 0.2, 0.2, 0.2, 0.0, ...</td>\n",
       "    </tr>\n",
       "    <tr>\n",
       "      <th>18</th>\n",
       "      <td>telithromycin</td>\n",
       "      <td>diarrhoea</td>\n",
       "      <td>4</td>\n",
       "      <td>CC[C@H]1OC(=O)[C@H](C)C(=O)[C@H](C)[C@@H](O[C@...</td>\n",
       "      <td>[0.06666666666666667, 0.06666666666666667, 0.0...</td>\n",
       "    </tr>\n",
       "    <tr>\n",
       "      <th>19</th>\n",
       "      <td>telithromycin</td>\n",
       "      <td>dysgeusia</td>\n",
       "      <td>4</td>\n",
       "      <td>CC[C@H]1OC(=O)[C@H](C)C(=O)[C@H](C)[C@@H](O[C@...</td>\n",
       "      <td>[0.05405405405405406, 0.05405405405405406, 0.0...</td>\n",
       "    </tr>\n",
       "  </tbody>\n",
       "</table>\n",
       "</div>"
      ],
      "text/plain": [
       "      GenericName   SideeffectTerm  FrequencyRatingValue  \\\n",
       "15     alfentanil      hypotension                     5   \n",
       "16     alfentanil  muscle rigidity                     5   \n",
       "17  telithromycin       flatulence                     4   \n",
       "18  telithromycin        diarrhoea                     4   \n",
       "19  telithromycin        dysgeusia                     4   \n",
       "\n",
       "                                        dg_smile_unif  \\\n",
       "15   CCC(=O)N(c1ccccc1)C1(COC)CCN(CCn2nnn(CC)c2=O)CC1   \n",
       "16   CCC(=O)N(c1ccccc1)C1(COC)CCN(CCn2nnn(CC)c2=O)CC1   \n",
       "17  CC[C@H]1OC(=O)[C@H](C)C(=O)[C@H](C)[C@@H](O[C@...   \n",
       "18  CC[C@H]1OC(=O)[C@H](C)C(=O)[C@H](C)[C@@H](O[C@...   \n",
       "19  CC[C@H]1OC(=O)[C@H](C)C(=O)[C@H](C)[C@@H](O[C@...   \n",
       "\n",
       "                                          adr_similar  \n",
       "15  [0.0, 0.0, 0.0, 0.0, 0.0, 0.0, 0.0, 0.0, 0.0, ...  \n",
       "16  [0.0, 0.0, 0.0, 0.0, 0.0, 0.0, 0.0454545454545...  \n",
       "17  [0.2, 0.4666666666666667, 0.2, 0.2, 0.2, 0.0, ...  \n",
       "18  [0.06666666666666667, 0.06666666666666667, 0.0...  \n",
       "19  [0.05405405405405406, 0.05405405405405406, 0.0...  "
      ]
     },
     "execution_count": 11,
     "metadata": {},
     "output_type": "execute_result"
    }
   ],
   "source": [
    "data3=pd.read_csv('./data3.csv',header=0)\n",
    "print(data3.columns)\n",
    "data3.iloc[15:20,]"
   ]
  },
  {
   "cell_type": "code",
   "execution_count": 12,
   "metadata": {},
   "outputs": [
    {
     "data": {
      "text/html": [
       "<div>\n",
       "<style scoped>\n",
       "    .dataframe tbody tr th:only-of-type {\n",
       "        vertical-align: middle;\n",
       "    }\n",
       "\n",
       "    .dataframe tbody tr th {\n",
       "        vertical-align: top;\n",
       "    }\n",
       "\n",
       "    .dataframe thead th {\n",
       "        text-align: right;\n",
       "    }\n",
       "</style>\n",
       "<table border=\"1\" class=\"dataframe\">\n",
       "  <thead>\n",
       "    <tr style=\"text-align: right;\">\n",
       "      <th></th>\n",
       "      <th>GenericName</th>\n",
       "      <th>dg_smile_unif</th>\n",
       "    </tr>\n",
       "  </thead>\n",
       "  <tbody>\n",
       "    <tr>\n",
       "      <th>0</th>\n",
       "      <td>alfentanil</td>\n",
       "      <td>CCC(=O)N(c1ccccc1)C1(COC)CCN(CCn2nnn(CC)c2=O)CC1</td>\n",
       "    </tr>\n",
       "    <tr>\n",
       "      <th>17</th>\n",
       "      <td>telithromycin</td>\n",
       "      <td>CC[C@H]1OC(=O)[C@H](C)C(=O)[C@H](C)[C@@H](O[C@...</td>\n",
       "    </tr>\n",
       "    <tr>\n",
       "      <th>29</th>\n",
       "      <td>simeprevir</td>\n",
       "      <td>COc1ccc2c(O[C@@H]3C[C@H]4C(=O)N[C@]5(C(=O)NS(=...</td>\n",
       "    </tr>\n",
       "    <tr>\n",
       "      <th>44</th>\n",
       "      <td>pentamidine isethionate</td>\n",
       "      <td>N=C(N)c1ccc(OCCCCCOc2ccc(C(=N)N)cc2)cc1.O=S(=O...</td>\n",
       "    </tr>\n",
       "  </tbody>\n",
       "</table>\n",
       "</div>"
      ],
      "text/plain": [
       "                GenericName                                      dg_smile_unif\n",
       "0                alfentanil   CCC(=O)N(c1ccccc1)C1(COC)CCN(CCn2nnn(CC)c2=O)CC1\n",
       "17            telithromycin  CC[C@H]1OC(=O)[C@H](C)C(=O)[C@H](C)[C@@H](O[C@...\n",
       "29               simeprevir  COc1ccc2c(O[C@@H]3C[C@H]4C(=O)N[C@]5(C(=O)NS(=...\n",
       "44  pentamidine isethionate  N=C(N)c1ccc(OCCCCCOc2ccc(C(=N)N)cc2)cc1.O=S(=O..."
      ]
     },
     "execution_count": 12,
     "metadata": {},
     "output_type": "execute_result"
    }
   ],
   "source": [
    "#获取smiles编码\n",
    "smiles_all=data3[['GenericName','dg_smile_unif']].drop_duplicates()\n",
    "# smiles_all=data3['dg_smile_unif'].drop_duplicates()\n",
    "smiles_all.head(4)"
   ]
  },
  {
   "cell_type": "code",
   "execution_count": null,
   "metadata": {},
   "outputs": [],
   "source": [
    "def getcompund(smiles,drugname):\n",
    "    try:\n",
    "        compound = pubchempy.get_compounds(drugname,'name')[0]\n",
    "    except:\n",
    "        compound = pubchempy.get_compounds(smiles,'smiles')[0]\n",
    "    pubchem = compound.cactvs_fingerprint\n",
    "    pubchem = np.array([int(i) for i in pubchem])\n",
    "    return list(pubchem)"
   ]
  },
  {
   "cell_type": "code",
   "execution_count": null,
   "metadata": {},
   "outputs": [],
   "source": [
    "pubchemfinger ={}\n",
    "for i in tqdm(range(smiles_all.shape[0])):\n",
    "    pubchemfinger[smiles_all.iloc[i,0]]= getcompund(smiles_all.iloc[i,1], smiles_all.iloc[i,0])"
   ]
  },
  {
   "cell_type": "code",
   "execution_count": null,
   "metadata": {},
   "outputs": [],
   "source": [
    "def fingerpint(smiles, drugname):\n",
    "    #Macc\n",
    "    mol = Chem.MolFromSmiles(smiles)\n",
    "    mol = Chem.AddHs(mol)\n",
    "    Macc = AllChem.GetMACCSKeysFingerprint(mol)\n",
    "    Macc = np.array(Macc)\n",
    "    \n",
    "    #pubchem 有部分药物没有查询到该指纹\n",
    "    # try:\n",
    "    #     compund = pubchempy.get_compounds(drugname,'name')\n",
    "    #     pubchem = compund[0].cactvs_fingerprint\n",
    "    #     pubchem = np.array([int(i) for i in pubchem])\n",
    "    # except:\n",
    "    #     pubchem = None\n",
    "\n",
    "    #Morgan\n",
    "    Morgan = AllChem.GetMorganFingerprintAsBitVect(mol, 2, 2048)\n",
    "    Morgan = np.array(Morgan)\n",
    "    \n",
    "    #rdkit(Topological)\n",
    "    #rdkit独有的灵感来源于daylight\n",
    "    Rtoplo = Chem.RDKFingerprint(mol)\n",
    "    Rtoplo = np.array(Rtoplo)\n",
    "    \n",
    "    # #pharmacophore\n",
    "    # AllChem.EmbedMolecule(mol)\n",
    "    # factory = Gobbi_Pharm2D.factory\n",
    "    # #calc 3d p4 fp\n",
    "    # phar = Generate.Gen2DFingerprint(mol, factory, dMat = Chem.Get3DDistanceMatrix(mol))\n",
    "    # phar = [int(i) for i in phar.ToBitString()]\n",
    "    # phar = np.array(phar)\n",
    "    return list(Macc), list(Morgan), list(Rtoplo)"
   ]
  },
  {
   "cell_type": "code",
   "execution_count": null,
   "metadata": {},
   "outputs": [],
   "source": [
    "Macc = {}\n",
    "Morgan = {}\n",
    "Rtoplo = {}\n",
    "for i in tqdm(range(0, smiles_all.shape[0])):\n",
    "    Macc[smiles_all.iloc[i,0]], Morgan[smiles_all.iloc[i,0]], Rtoplo[smiles_all.iloc[i,0]] = fingerpint(smiles=smiles_all.iloc[i,1],drugname=smiles_all.iloc[i,0])"
   ]
  },
  {
   "cell_type": "code",
   "execution_count": null,
   "metadata": {},
   "outputs": [],
   "source": [
    "smiles_all['Macc'] = smiles_all['GenericName'].map(lambda x: Macc[x])\n",
    "smiles_all['pubchem'] = smiles_all['GenericName'].map(lambda x: pubchemfinger[x])\n",
    "smiles_all['Morgan'] = smiles_all['GenericName'].map(lambda x: Morgan[x])\n",
    "smiles_all['Rtoplo'] = smiles_all['GenericName'].map(lambda x: Rtoplo[x])\n",
    "smiles_all.head(3)"
   ]
  },
  {
   "cell_type": "code",
   "execution_count": null,
   "metadata": {},
   "outputs": [],
   "source": [
    "data4 = pd.merge(data3, smiles_all.iloc[:,[0,2,3,4,5]], how='left', on='GenericName')\n",
    "data4.head(2)"
   ]
  },
  {
   "cell_type": "code",
   "execution_count": null,
   "metadata": {},
   "outputs": [],
   "source": [
    "data4.to_csv('data4.csv', index=False)"
   ]
  },
  {
   "cell_type": "code",
   "execution_count": null,
   "metadata": {},
   "outputs": [],
   "source": [
    "data4.isnull().apply(sum, axis=0)"
   ]
  },
  {
   "cell_type": "markdown",
   "metadata": {},
   "source": [
    "# 根据指纹计算药物的相似性\n",
    "\n",
    "## 根据相似性进行采样NSS数据集\n",
    "\n",
    "#### 这里计算可以计算所有药物的相似性，后面模型的时候只能计算所有训练集的药物的相似性"
   ]
  },
  {
   "cell_type": "code",
   "execution_count": 2,
   "metadata": {},
   "outputs": [
    {
     "name": "stdout",
     "output_type": "stream",
     "text": [
      "Index(['GenericName', 'SideeffectTerm', 'FrequencyRatingValue',\n",
      "       'dg_smile_unif', 'adr_similar', 'Macc', 'pubchem', 'Morgan', 'Rtoplo'],\n",
      "      dtype='object')\n"
     ]
    },
    {
     "data": {
      "text/html": [
       "<div>\n",
       "<style scoped>\n",
       "    .dataframe tbody tr th:only-of-type {\n",
       "        vertical-align: middle;\n",
       "    }\n",
       "\n",
       "    .dataframe tbody tr th {\n",
       "        vertical-align: top;\n",
       "    }\n",
       "\n",
       "    .dataframe thead th {\n",
       "        text-align: right;\n",
       "    }\n",
       "</style>\n",
       "<table border=\"1\" class=\"dataframe\">\n",
       "  <thead>\n",
       "    <tr style=\"text-align: right;\">\n",
       "      <th></th>\n",
       "      <th>GenericName</th>\n",
       "      <th>SideeffectTerm</th>\n",
       "      <th>FrequencyRatingValue</th>\n",
       "      <th>dg_smile_unif</th>\n",
       "      <th>adr_similar</th>\n",
       "      <th>Macc</th>\n",
       "      <th>pubchem</th>\n",
       "      <th>Morgan</th>\n",
       "      <th>Rtoplo</th>\n",
       "    </tr>\n",
       "  </thead>\n",
       "  <tbody>\n",
       "    <tr>\n",
       "      <th>0</th>\n",
       "      <td>alfentanil</td>\n",
       "      <td>asthenia</td>\n",
       "      <td>4</td>\n",
       "      <td>CCC(=O)N(c1ccccc1)C1(COC)CCN(CCn2nnn(CC)c2=O)CC1</td>\n",
       "      <td>[0.0, 0.0, 0.0, 0.0, 0.0, 0.0, 0.0, 0.0, 0.0, ...</td>\n",
       "      <td>[0, 0, 0, 0, 0, 0, 0, 0, 0, 0, 0, 0, 0, 0, 0, ...</td>\n",
       "      <td>[1, 1, 1, 1, 0, 0, 0, 0, 0, 1, 1, 1, 1, 0, 1, ...</td>\n",
       "      <td>[0, 0, 0, 0, 0, 0, 0, 0, 0, 0, 0, 0, 0, 0, 0, ...</td>\n",
       "      <td>[0, 1, 1, 1, 1, 1, 1, 1, 1, 1, 0, 1, 1, 1, 1, ...</td>\n",
       "    </tr>\n",
       "    <tr>\n",
       "      <th>1</th>\n",
       "      <td>alfentanil</td>\n",
       "      <td>movement disorder</td>\n",
       "      <td>4</td>\n",
       "      <td>CCC(=O)N(c1ccccc1)C1(COC)CCN(CCn2nnn(CC)c2=O)CC1</td>\n",
       "      <td>[0.0, 0.0, 0.0, 0.0, 0.0, 0.0, 0.0540540540540...</td>\n",
       "      <td>[0, 0, 0, 0, 0, 0, 0, 0, 0, 0, 0, 0, 0, 0, 0, ...</td>\n",
       "      <td>[1, 1, 1, 1, 0, 0, 0, 0, 0, 1, 1, 1, 1, 0, 1, ...</td>\n",
       "      <td>[0, 0, 0, 0, 0, 0, 0, 0, 0, 0, 0, 0, 0, 0, 0, ...</td>\n",
       "      <td>[0, 1, 1, 1, 1, 1, 1, 1, 1, 1, 0, 1, 1, 1, 1, ...</td>\n",
       "    </tr>\n",
       "    <tr>\n",
       "      <th>2</th>\n",
       "      <td>alfentanil</td>\n",
       "      <td>dyskinesia</td>\n",
       "      <td>4</td>\n",
       "      <td>CCC(=O)N(c1ccccc1)C1(COC)CCN(CCn2nnn(CC)c2=O)CC1</td>\n",
       "      <td>[0.0, 0.0, 0.0, 0.0, 0.0, 0.0, 0.0540540540540...</td>\n",
       "      <td>[0, 0, 0, 0, 0, 0, 0, 0, 0, 0, 0, 0, 0, 0, 0, ...</td>\n",
       "      <td>[1, 1, 1, 1, 0, 0, 0, 0, 0, 1, 1, 1, 1, 0, 1, ...</td>\n",
       "      <td>[0, 0, 0, 0, 0, 0, 0, 0, 0, 0, 0, 0, 0, 0, 0, ...</td>\n",
       "      <td>[0, 1, 1, 1, 1, 1, 1, 1, 1, 1, 0, 1, 1, 1, 1, ...</td>\n",
       "    </tr>\n",
       "  </tbody>\n",
       "</table>\n",
       "</div>"
      ],
      "text/plain": [
       "  GenericName     SideeffectTerm  FrequencyRatingValue  \\\n",
       "0  alfentanil           asthenia                     4   \n",
       "1  alfentanil  movement disorder                     4   \n",
       "2  alfentanil         dyskinesia                     4   \n",
       "\n",
       "                                      dg_smile_unif  \\\n",
       "0  CCC(=O)N(c1ccccc1)C1(COC)CCN(CCn2nnn(CC)c2=O)CC1   \n",
       "1  CCC(=O)N(c1ccccc1)C1(COC)CCN(CCn2nnn(CC)c2=O)CC1   \n",
       "2  CCC(=O)N(c1ccccc1)C1(COC)CCN(CCn2nnn(CC)c2=O)CC1   \n",
       "\n",
       "                                         adr_similar  \\\n",
       "0  [0.0, 0.0, 0.0, 0.0, 0.0, 0.0, 0.0, 0.0, 0.0, ...   \n",
       "1  [0.0, 0.0, 0.0, 0.0, 0.0, 0.0, 0.0540540540540...   \n",
       "2  [0.0, 0.0, 0.0, 0.0, 0.0, 0.0, 0.0540540540540...   \n",
       "\n",
       "                                                Macc  \\\n",
       "0  [0, 0, 0, 0, 0, 0, 0, 0, 0, 0, 0, 0, 0, 0, 0, ...   \n",
       "1  [0, 0, 0, 0, 0, 0, 0, 0, 0, 0, 0, 0, 0, 0, 0, ...   \n",
       "2  [0, 0, 0, 0, 0, 0, 0, 0, 0, 0, 0, 0, 0, 0, 0, ...   \n",
       "\n",
       "                                             pubchem  \\\n",
       "0  [1, 1, 1, 1, 0, 0, 0, 0, 0, 1, 1, 1, 1, 0, 1, ...   \n",
       "1  [1, 1, 1, 1, 0, 0, 0, 0, 0, 1, 1, 1, 1, 0, 1, ...   \n",
       "2  [1, 1, 1, 1, 0, 0, 0, 0, 0, 1, 1, 1, 1, 0, 1, ...   \n",
       "\n",
       "                                              Morgan  \\\n",
       "0  [0, 0, 0, 0, 0, 0, 0, 0, 0, 0, 0, 0, 0, 0, 0, ...   \n",
       "1  [0, 0, 0, 0, 0, 0, 0, 0, 0, 0, 0, 0, 0, 0, 0, ...   \n",
       "2  [0, 0, 0, 0, 0, 0, 0, 0, 0, 0, 0, 0, 0, 0, 0, ...   \n",
       "\n",
       "                                              Rtoplo  \n",
       "0  [0, 1, 1, 1, 1, 1, 1, 1, 1, 1, 0, 1, 1, 1, 1, ...  \n",
       "1  [0, 1, 1, 1, 1, 1, 1, 1, 1, 1, 0, 1, 1, 1, 1, ...  \n",
       "2  [0, 1, 1, 1, 1, 1, 1, 1, 1, 1, 0, 1, 1, 1, 1, ...  "
      ]
     },
     "execution_count": 2,
     "metadata": {},
     "output_type": "execute_result"
    }
   ],
   "source": [
    "data4 = pd.read_csv('./data4.csv',header=0)\n",
    "print(data4.columns)\n",
    "data4.head(3)"
   ]
  },
  {
   "cell_type": "code",
   "execution_count": 4,
   "metadata": {},
   "outputs": [
    {
     "name": "stdout",
     "output_type": "stream",
     "text": [
      "      GenericName                                      dg_smile_unif\n",
      "0      alfentanil   CCC(=O)N(c1ccccc1)C1(COC)CCN(CCn2nnn(CC)c2=O)CC1\n",
      "17  telithromycin  CC[C@H]1OC(=O)[C@H](C)C(=O)[C@H](C)[C@@H](O[C@...\n"
     ]
    },
    {
     "data": {
      "text/plain": [
       "(743, 2)"
      ]
     },
     "execution_count": 4,
     "metadata": {},
     "output_type": "execute_result"
    }
   ],
   "source": [
    "drug_smiles = data4[['GenericName','dg_smile_unif']].drop_duplicates()\n",
    "print(drug_smiles.head(2))\n",
    "drug_smiles.shape"
   ]
  },
  {
   "cell_type": "code",
   "execution_count": 5,
   "metadata": {},
   "outputs": [
    {
     "data": {
      "text/plain": [
       "True"
      ]
     },
     "execution_count": 5,
     "metadata": {},
     "output_type": "execute_result"
    }
   ],
   "source": [
    "len(drug_smiles.dg_smile_unif) == len(drug_smiles.GenericName)"
   ]
  },
  {
   "cell_type": "code",
   "execution_count": 24,
   "metadata": {},
   "outputs": [],
   "source": [
    "def fingersimilar(smiles1, smiles2):\n",
    "    n = 1\n",
    "    similar_macc = []\n",
    "    similar_morgan = []\n",
    "    similar_rtoplo = []\n",
    "    for sm in smiles1:\n",
    "        n = n+1\n",
    "        print(\"\\r\", end=\"\")\n",
    "        print(\"drug: {}: \".format(n), \"▋\" * (n // 2), end=\"\")\n",
    "        sm1 = sm\n",
    "        mol1 = Chem.MolFromSmiles(sm1)\n",
    "        sm1_similar_macc = []\n",
    "        sm1_similar_morgan = []\n",
    "        sm1_similar_rtoplo = []\n",
    "        smili_len = len(smiles2)\n",
    "        \n",
    "        fpgen_morgan = AllChem.GetMorganGenerator(radius=1, fpSize= 2048) #morgan\n",
    "        fpgen_rtoplo = AllChem.GetRDKitFPGenerator() #rdkit \n",
    "        fpmacc1,fpmrogan1,fptoplo1 = Chem.MACCSkeys.GenMACCSKeys(mol1), fpgen_morgan.GetSparseCountFingerprint(mol1), fpgen_rtoplo.GetFingerprint(mol1)\n",
    "        for i in range(smili_len):\n",
    "            sm2 = smiles2[i]\n",
    "            tem_mol = Chem.MolFromSmiles(sm2) #需要计算相似度的smiles集合\n",
    "            #从分子得到指纹\n",
    "            fpgen_morgan = AllChem.GetMorganGenerator(radius=1, fpSize= 2048)\n",
    "            fpgen_rtoplo = AllChem.GetRDKitFPGenerator()\n",
    "            fpmacc2,fpmrogan2,fptoplo2 = Chem.MACCSkeys.GenMACCSKeys(tem_mol), fpgen_morgan.GetSparseCountFingerprint(tem_mol), fpgen_rtoplo.GetFingerprint(tem_mol)\n",
    "            \n",
    "            #计算相似性\n",
    "            smililar_macc = DataStructs.TanimotoSimilarity(fpmacc1,fpmacc2)\n",
    "            smililar_morgan = DataStructs.TanimotoSimilarity(fpmrogan1,fpmrogan2)\n",
    "            smililar_rtoplo = DataStructs.TanimotoSimilarity(fptoplo1,fptoplo2)\n",
    "            sm1_similar_macc.append(smililar_macc)\n",
    "            sm1_similar_morgan.append(smililar_morgan)\n",
    "            sm1_similar_rtoplo.append(smililar_rtoplo)\n",
    "        similar_macc.append(sm1_similar_macc), similar_morgan.append(sm1_similar_morgan), similar_rtoplo.append(sm1_similar_rtoplo)\n",
    "    return similar_macc, similar_morgan, similar_rtoplo"
   ]
  },
  {
   "cell_type": "code",
   "execution_count": 6,
   "metadata": {},
   "outputs": [
    {
     "name": "stdout",
     "output_type": "stream",
     "text": [
      "----1----\n"
     ]
    }
   ],
   "source": [
    "# def parallel_fingersimilar(x, drug_smiles_list):\n",
    "#     return fingersimilar(x, drug_smiles_list)\n",
    "\n",
    "# def apply_parallel(df):\n",
    "#     with Pool() as pool:\n",
    "#         print(\"----1----\")\n",
    "#         result = pool.starmap(parallel_fingersimilar, zip(df, [df.tolist()]*len(df)))\n",
    "#     return result\n",
    "\n",
    "# # 假设 drug_smiles 是你的 DataFrame\n",
    "# drug_smiles = pd.DataFrame({'dg_smile_unif': ['smile1', 'smile2', 'smile3', 'smile4', 'smile5']})\n",
    "\n",
    "# ttt, ttt1, ttt2 = apply_parallel(drug_smiles['dg_smile_unif'])\n"
   ]
  },
  {
   "cell_type": "code",
   "execution_count": 25,
   "metadata": {},
   "outputs": [
    {
     "name": "stdout",
     "output_type": "stream",
     "text": [
      "drug: 744:  ▋▋▋▋▋▋▋▋▋▋▋▋▋▋▋▋▋▋▋▋▋▋▋▋▋▋▋▋▋▋▋▋▋▋▋▋▋▋▋▋▋▋▋▋▋▋▋▋▋▋▋▋▋▋▋▋▋▋▋▋▋▋▋▋▋▋▋▋▋▋▋▋▋▋▋▋▋▋▋▋▋▋▋▋▋▋▋▋▋▋▋▋▋▋▋▋▋▋▋▋▋▋▋▋▋▋▋▋▋▋▋▋▋▋▋▋▋▋▋▋▋▋▋▋▋▋▋▋▋▋▋▋▋▋▋▋▋▋▋▋▋▋▋▋▋▋▋▋▋▋▋▋▋▋▋▋▋▋▋▋▋▋▋▋▋▋▋▋▋▋▋▋▋▋▋▋▋▋▋▋▋▋▋▋▋▋▋▋▋▋▋▋▋▋▋▋▋▋▋▋▋▋▋▋▋▋▋▋▋▋▋▋▋▋▋▋▋▋▋▋▋▋▋▋▋▋▋▋▋▋▋▋▋▋▋▋▋▋▋▋▋▋▋▋▋▋▋▋▋▋▋▋▋▋▋▋▋▋▋▋▋▋▋▋▋▋▋▋▋▋▋▋▋▋▋▋▋▋▋▋▋▋▋▋▋▋▋▋▋▋▋▋▋▋▋▋▋▋▋▋▋▋▋▋▋▋▋▋▋▋▋▋▋▋▋▋▋▋▋▋▋▋▋▋▋▋▋▋▋▋▋▋▋▋▋▋▋▋▋▋▋▋▋▋▋▋▋▋▋▋▋▋▋▋▋▋▋▋▋▋▋▋▋▋▋▋▋▋▋▋▋▋"
     ]
    }
   ],
   "source": [
    "ttt,ttt1,ttt2 =fingersimilar(drug_smiles['dg_smile_unif'].tolist(), drug_smiles['dg_smile_unif'].tolist())\n",
    "print(\"耗时38m\")"
   ]
  },
  {
   "cell_type": "code",
   "execution_count": 52,
   "metadata": {},
   "outputs": [],
   "source": [
    "com_similar = [np.mean(x, axis=0) for x in zip(ttt ,ttt1, ttt2)]"
   ]
  },
  {
   "cell_type": "code",
   "execution_count": 59,
   "metadata": {},
   "outputs": [
    {
     "name": "stdout",
     "output_type": "stream",
     "text": [
      "Index(['GenericName', 'dg_smile_unif', 'macc_simi', 'morgan_simi',\n",
      "       'rtoplo_simi', 'com_simi'],\n",
      "      dtype='object')\n"
     ]
    },
    {
     "data": {
      "text/html": [
       "<div>\n",
       "<style scoped>\n",
       "    .dataframe tbody tr th:only-of-type {\n",
       "        vertical-align: middle;\n",
       "    }\n",
       "\n",
       "    .dataframe tbody tr th {\n",
       "        vertical-align: top;\n",
       "    }\n",
       "\n",
       "    .dataframe thead th {\n",
       "        text-align: right;\n",
       "    }\n",
       "</style>\n",
       "<table border=\"1\" class=\"dataframe\">\n",
       "  <thead>\n",
       "    <tr style=\"text-align: right;\">\n",
       "      <th></th>\n",
       "      <th>GenericName</th>\n",
       "      <th>dg_smile_unif</th>\n",
       "      <th>macc_simi</th>\n",
       "      <th>morgan_simi</th>\n",
       "      <th>rtoplo_simi</th>\n",
       "      <th>com_simi</th>\n",
       "    </tr>\n",
       "  </thead>\n",
       "  <tbody>\n",
       "    <tr>\n",
       "      <th>0</th>\n",
       "      <td>alfentanil</td>\n",
       "      <td>CCC(=O)N(c1ccccc1)C1(COC)CCN(CCn2nnn(CC)c2=O)CC1</td>\n",
       "      <td>[1.0, 0.6904761904761905, 0.5784313725490197, ...</td>\n",
       "      <td>[1.0, 0.23076923076923078, 0.20588235294117646...</td>\n",
       "      <td>[1.0, 0.38391224862888484, 0.40382387022016225...</td>\n",
       "      <td>[1.0, 0.4350525566247687, 0.39604586523678614,...</td>\n",
       "    </tr>\n",
       "    <tr>\n",
       "      <th>17</th>\n",
       "      <td>telithromycin</td>\n",
       "      <td>CC[C@H]1OC(=O)[C@H](C)C(=O)[C@H](C)[C@@H](O[C@...</td>\n",
       "      <td>[0.6904761904761905, 1.0, 0.5980392156862745, ...</td>\n",
       "      <td>[0.23076923076923078, 1.0, 0.22905027932960895...</td>\n",
       "      <td>[0.38391224862888484, 1.0, 0.5787211176786674,...</td>\n",
       "      <td>[0.4350525566247687, 1.0, 0.4686035375648503, ...</td>\n",
       "    </tr>\n",
       "    <tr>\n",
       "      <th>29</th>\n",
       "      <td>simeprevir</td>\n",
       "      <td>COc1ccc2c(O[C@@H]3C[C@H]4C(=O)N[C@]5(C(=O)NS(=...</td>\n",
       "      <td>[0.5784313725490197, 0.5980392156862745, 1.0, ...</td>\n",
       "      <td>[0.20588235294117646, 0.22905027932960895, 1.0...</td>\n",
       "      <td>[0.40382387022016225, 0.5787211176786674, 1.0,...</td>\n",
       "      <td>[0.39604586523678614, 0.4686035375648503, 1.0,...</td>\n",
       "    </tr>\n",
       "  </tbody>\n",
       "</table>\n",
       "</div>"
      ],
      "text/plain": [
       "      GenericName                                      dg_smile_unif  \\\n",
       "0      alfentanil   CCC(=O)N(c1ccccc1)C1(COC)CCN(CCn2nnn(CC)c2=O)CC1   \n",
       "17  telithromycin  CC[C@H]1OC(=O)[C@H](C)C(=O)[C@H](C)[C@@H](O[C@...   \n",
       "29     simeprevir  COc1ccc2c(O[C@@H]3C[C@H]4C(=O)N[C@]5(C(=O)NS(=...   \n",
       "\n",
       "                                            macc_simi  \\\n",
       "0   [1.0, 0.6904761904761905, 0.5784313725490197, ...   \n",
       "17  [0.6904761904761905, 1.0, 0.5980392156862745, ...   \n",
       "29  [0.5784313725490197, 0.5980392156862745, 1.0, ...   \n",
       "\n",
       "                                          morgan_simi  \\\n",
       "0   [1.0, 0.23076923076923078, 0.20588235294117646...   \n",
       "17  [0.23076923076923078, 1.0, 0.22905027932960895...   \n",
       "29  [0.20588235294117646, 0.22905027932960895, 1.0...   \n",
       "\n",
       "                                          rtoplo_simi  \\\n",
       "0   [1.0, 0.38391224862888484, 0.40382387022016225...   \n",
       "17  [0.38391224862888484, 1.0, 0.5787211176786674,...   \n",
       "29  [0.40382387022016225, 0.5787211176786674, 1.0,...   \n",
       "\n",
       "                                             com_simi  \n",
       "0   [1.0, 0.4350525566247687, 0.39604586523678614,...  \n",
       "17  [0.4350525566247687, 1.0, 0.4686035375648503, ...  \n",
       "29  [0.39604586523678614, 0.4686035375648503, 1.0,...  "
      ]
     },
     "execution_count": 59,
     "metadata": {},
     "output_type": "execute_result"
    }
   ],
   "source": [
    "drug_smiles['macc_simi'], drug_smiles['morgan_simi'], drug_smiles['rtoplo_simi'],  drug_smiles['com_simi']  = ttt, ttt1, ttt2, com_similar\n",
    "print(drug_smiles.columns) \n",
    "drug_smiles.head(3)"
   ]
  },
  {
   "cell_type": "code",
   "execution_count": 194,
   "metadata": {},
   "outputs": [],
   "source": [
    "data5 = pd.merge(data4, drug_smiles.iloc[:,[0,2,3,4,5]], how='left', on='GenericName')\n",
    "data5.to_csv('data5.csv', index=False)"
   ]
  },
  {
   "cell_type": "code",
   "execution_count": 193,
   "metadata": {},
   "outputs": [
    {
     "data": {
      "text/plain": [
       "GenericName             0\n",
       "SideeffectTerm          0\n",
       "FrequencyRatingValue    0\n",
       "dg_smile_unif           0\n",
       "adr_similar             0\n",
       "Macc                    0\n",
       "pubchem                 0\n",
       "Morgan                  0\n",
       "Rtoplo                  0\n",
       "macc_simi               0\n",
       "morgan_simi             0\n",
       "rtoplo_simi             0\n",
       "com_simi                0\n",
       "dtype: int64"
      ]
     },
     "execution_count": 193,
     "metadata": {},
     "output_type": "execute_result"
    }
   ],
   "source": [
    "data5.isnull().apply(sum, axis=0)"
   ]
  },
  {
   "cell_type": "code",
   "execution_count": 74,
   "metadata": {},
   "outputs": [
    {
     "data": {
      "text/plain": [
       "Index(['GenericName', 'SideeffectTerm', 'FrequencyRatingValue',\n",
       "       'dg_smile_unif_x', 'adr_similar', 'Macc', 'pubchem', 'Morgan', 'Rtoplo',\n",
       "       'dg_smile_unif_y', 'macc_simi', 'morgan_simi', 'rtoplo_simi',\n",
       "       'com_simi'],\n",
       "      dtype='object')"
      ]
     },
     "execution_count": 74,
     "metadata": {},
     "output_type": "execute_result"
    }
   ],
   "source": [
    "data5.columns"
   ]
  },
  {
   "cell_type": "markdown",
   "metadata": {},
   "source": [
    "# 构建PPS集"
   ]
  },
  {
   "cell_type": "code",
   "execution_count": 195,
   "metadata": {},
   "outputs": [
    {
     "data": {
      "text/html": [
       "<div>\n",
       "<style scoped>\n",
       "    .dataframe tbody tr th:only-of-type {\n",
       "        vertical-align: middle;\n",
       "    }\n",
       "\n",
       "    .dataframe tbody tr th {\n",
       "        vertical-align: top;\n",
       "    }\n",
       "\n",
       "    .dataframe thead th {\n",
       "        text-align: right;\n",
       "    }\n",
       "</style>\n",
       "<table border=\"1\" class=\"dataframe\">\n",
       "  <thead>\n",
       "    <tr style=\"text-align: right;\">\n",
       "      <th></th>\n",
       "      <th>GenericName</th>\n",
       "      <th>SideeffectTerm</th>\n",
       "      <th>FrequencyRatingValue</th>\n",
       "      <th>dg_smile_unif</th>\n",
       "      <th>adr_similar</th>\n",
       "      <th>Macc</th>\n",
       "      <th>pubchem</th>\n",
       "      <th>Morgan</th>\n",
       "      <th>Rtoplo</th>\n",
       "      <th>macc_simi</th>\n",
       "      <th>morgan_simi</th>\n",
       "      <th>rtoplo_simi</th>\n",
       "      <th>com_simi</th>\n",
       "      <th>association</th>\n",
       "    </tr>\n",
       "  </thead>\n",
       "  <tbody>\n",
       "    <tr>\n",
       "      <th>0</th>\n",
       "      <td>alfentanil</td>\n",
       "      <td>asthenia</td>\n",
       "      <td>4</td>\n",
       "      <td>CCC(=O)N(c1ccccc1)C1(COC)CCN(CCn2nnn(CC)c2=O)CC1</td>\n",
       "      <td>[0.0, 0.0, 0.0, 0.0, 0.0, 0.0, 0.0, 0.0, 0.0, ...</td>\n",
       "      <td>[0, 0, 0, 0, 0, 0, 0, 0, 0, 0, 0, 0, 0, 0, 0, ...</td>\n",
       "      <td>[1, 1, 1, 1, 0, 0, 0, 0, 0, 1, 1, 1, 1, 0, 1, ...</td>\n",
       "      <td>[0, 0, 0, 0, 0, 0, 0, 0, 0, 0, 0, 0, 0, 0, 0, ...</td>\n",
       "      <td>[0, 1, 1, 1, 1, 1, 1, 1, 1, 1, 0, 1, 1, 1, 1, ...</td>\n",
       "      <td>[1.0, 0.6904761904761905, 0.5784313725490197, ...</td>\n",
       "      <td>[1.0, 0.23076923076923078, 0.20588235294117646...</td>\n",
       "      <td>[1.0, 0.38391224862888484, 0.40382387022016225...</td>\n",
       "      <td>[1.0, 0.4350525566247687, 0.39604586523678614,...</td>\n",
       "      <td>1</td>\n",
       "    </tr>\n",
       "  </tbody>\n",
       "</table>\n",
       "</div>"
      ],
      "text/plain": [
       "  GenericName SideeffectTerm  FrequencyRatingValue  \\\n",
       "0  alfentanil       asthenia                     4   \n",
       "\n",
       "                                      dg_smile_unif  \\\n",
       "0  CCC(=O)N(c1ccccc1)C1(COC)CCN(CCn2nnn(CC)c2=O)CC1   \n",
       "\n",
       "                                         adr_similar  \\\n",
       "0  [0.0, 0.0, 0.0, 0.0, 0.0, 0.0, 0.0, 0.0, 0.0, ...   \n",
       "\n",
       "                                                Macc  \\\n",
       "0  [0, 0, 0, 0, 0, 0, 0, 0, 0, 0, 0, 0, 0, 0, 0, ...   \n",
       "\n",
       "                                             pubchem  \\\n",
       "0  [1, 1, 1, 1, 0, 0, 0, 0, 0, 1, 1, 1, 1, 0, 1, ...   \n",
       "\n",
       "                                              Morgan  \\\n",
       "0  [0, 0, 0, 0, 0, 0, 0, 0, 0, 0, 0, 0, 0, 0, 0, ...   \n",
       "\n",
       "                                              Rtoplo  \\\n",
       "0  [0, 1, 1, 1, 1, 1, 1, 1, 1, 1, 0, 1, 1, 1, 1, ...   \n",
       "\n",
       "                                           macc_simi  \\\n",
       "0  [1.0, 0.6904761904761905, 0.5784313725490197, ...   \n",
       "\n",
       "                                         morgan_simi  \\\n",
       "0  [1.0, 0.23076923076923078, 0.20588235294117646...   \n",
       "\n",
       "                                         rtoplo_simi  \\\n",
       "0  [1.0, 0.38391224862888484, 0.40382387022016225...   \n",
       "\n",
       "                                            com_simi  association  \n",
       "0  [1.0, 0.4350525566247687, 0.39604586523678614,...            1  "
      ]
     },
     "execution_count": 195,
     "metadata": {},
     "output_type": "execute_result"
    }
   ],
   "source": [
    "PPS = data5.copy()\n",
    "PPS['association'] = 1\n",
    "PPS.head(1)"
   ]
  },
  {
   "cell_type": "code",
   "execution_count": 202,
   "metadata": {},
   "outputs": [
    {
     "data": {
      "text/plain": [
       "(36895, 14)"
      ]
     },
     "execution_count": 202,
     "metadata": {},
     "output_type": "execute_result"
    }
   ],
   "source": [
    "PPS.shape"
   ]
  },
  {
   "cell_type": "markdown",
   "metadata": {},
   "source": [
    "# 构建NNS集"
   ]
  },
  {
   "cell_type": "markdown",
   "metadata": {},
   "source": [
    "#### 先构造一个all数据集"
   ]
  },
  {
   "cell_type": "code",
   "execution_count": 211,
   "metadata": {},
   "outputs": [
    {
     "data": {
      "text/plain": [
       "994"
      ]
     },
     "execution_count": 211,
     "metadata": {},
     "output_type": "execute_result"
    }
   ],
   "source": [
    "drug_smiles.GenericName\n",
    "adr_all = data5.SideeffectTerm.unique()\n",
    "len(adr_all)"
   ]
  },
  {
   "cell_type": "code",
   "execution_count": 223,
   "metadata": {},
   "outputs": [
    {
     "data": {
      "text/html": [
       "<div>\n",
       "<style scoped>\n",
       "    .dataframe tbody tr th:only-of-type {\n",
       "        vertical-align: middle;\n",
       "    }\n",
       "\n",
       "    .dataframe tbody tr th {\n",
       "        vertical-align: top;\n",
       "    }\n",
       "\n",
       "    .dataframe thead th {\n",
       "        text-align: right;\n",
       "    }\n",
       "</style>\n",
       "<table border=\"1\" class=\"dataframe\">\n",
       "  <thead>\n",
       "    <tr style=\"text-align: right;\">\n",
       "      <th></th>\n",
       "      <th>GenericName</th>\n",
       "      <th>SideeffectTerm</th>\n",
       "    </tr>\n",
       "  </thead>\n",
       "  <tbody>\n",
       "    <tr>\n",
       "      <th>0</th>\n",
       "      <td>alfentanil</td>\n",
       "      <td>asthenia</td>\n",
       "    </tr>\n",
       "    <tr>\n",
       "      <th>1</th>\n",
       "      <td>alfentanil</td>\n",
       "      <td>movement disorder</td>\n",
       "    </tr>\n",
       "  </tbody>\n",
       "</table>\n",
       "</div>"
      ],
      "text/plain": [
       "  GenericName     SideeffectTerm\n",
       "0  alfentanil           asthenia\n",
       "1  alfentanil  movement disorder"
      ]
     },
     "execution_count": 223,
     "metadata": {},
     "output_type": "execute_result"
    }
   ],
   "source": [
    "all_drug_adr_paire = pd.DataFrame((list(itertools.product(drug_smiles.GenericName, adr_all))))\n",
    "all_drug_adr_paire.rename(columns={0 : 'GenericName',\n",
    "                                   1: 'SideeffectTerm'}, inplace=True)\n",
    "all_drug_adr_paire.head(2)"
   ]
  },
  {
   "cell_type": "code",
   "execution_count": 244,
   "metadata": {},
   "outputs": [
    {
     "name": "stdout",
     "output_type": "stream",
     "text": [
      "(701647, 14)\n"
     ]
    },
    {
     "data": {
      "text/plain": [
       "Index(['GenericName', 'SideeffectTerm', 'FrequencyRatingValue',\n",
       "       'dg_smile_unif', 'adr_similar', 'Macc', 'pubchem', 'Morgan', 'Rtoplo',\n",
       "       'macc_simi', 'morgan_simi', 'rtoplo_simi', 'com_simi', 'association'],\n",
       "      dtype='object')"
      ]
     },
     "execution_count": 244,
     "metadata": {},
     "output_type": "execute_result"
    }
   ],
   "source": [
    "# 将 all_drug_adr_pair 数据集和 pps_data 数据集按照药物和ADR列进行合并，并排除掉重复的行\n",
    "filtered_drug_adr_pair = all_drug_adr_paire.merge(PPS, on=['GenericName', 'SideeffectTerm'], how='left', indicator=True)\n",
    "NNS_all = filtered_drug_adr_pair[filtered_drug_adr_pair['_merge'] == 'left_only']\n",
    "del filtered_drug_adr_pair\n",
    "NNS_all['association'] = 0\n",
    "NNS_all.drop(columns='_merge', axis=0, inplace=True)\n",
    "print(NNS_all.shape)\n",
    "NNS_all.columns"
   ]
  },
  {
   "cell_type": "code",
   "execution_count": 245,
   "metadata": {},
   "outputs": [],
   "source": [
    "NNS_all.to_csv('NNS_all.csv', index=False)\n",
    "PPS.to_csv('PPS.csv', index=False)"
   ]
  },
  {
   "cell_type": "code",
   "execution_count": 231,
   "metadata": {},
   "outputs": [
    {
     "name": "stdout",
     "output_type": "stream",
     "text": [
      "(701647, 15)\n",
      "(36895, 14)\n"
     ]
    },
    {
     "data": {
      "text/plain": [
       "(738542, 2)"
      ]
     },
     "execution_count": 231,
     "metadata": {},
     "output_type": "execute_result"
    }
   ],
   "source": [
    "print(NNS_all.shape)\n",
    "print(PPS.shape)\n",
    "all_drug_adr_paire.shape"
   ]
  },
  {
   "cell_type": "code",
   "execution_count": 196,
   "metadata": {},
   "outputs": [
    {
     "data": {
      "text/plain": [
       "pregabalin              536\n",
       "paroxetine              408\n",
       "venlafaxine             400\n",
       "ropinirole              396\n",
       "escitalopram            383\n",
       "                       ... \n",
       "umeclidinium bromide      5\n",
       "alprostadil               5\n",
       "allopurinol               5\n",
       "tofacitinib               5\n",
       "clevidipine               4\n",
       "Name: GenericName, Length: 743, dtype: int64"
      ]
     },
     "execution_count": 196,
     "metadata": {},
     "output_type": "execute_result"
    }
   ],
   "source": [
    "pd.value_counts(PPS.GenericName)"
   ]
  },
  {
   "cell_type": "markdown",
   "metadata": {},
   "source": [
    "# 计算药效团指纹"
   ]
  },
  {
   "cell_type": "code",
   "execution_count": 14,
   "metadata": {},
   "outputs": [
    {
     "data": {
      "text/html": [
       "<div>\n",
       "<style scoped>\n",
       "    .dataframe tbody tr th:only-of-type {\n",
       "        vertical-align: middle;\n",
       "    }\n",
       "\n",
       "    .dataframe tbody tr th {\n",
       "        vertical-align: top;\n",
       "    }\n",
       "\n",
       "    .dataframe thead th {\n",
       "        text-align: right;\n",
       "    }\n",
       "</style>\n",
       "<table border=\"1\" class=\"dataframe\">\n",
       "  <thead>\n",
       "    <tr style=\"text-align: right;\">\n",
       "      <th></th>\n",
       "      <th>GenericName</th>\n",
       "      <th>SideeffectTerm</th>\n",
       "      <th>FrequencyRatingValue</th>\n",
       "      <th>dg_smile_unif</th>\n",
       "      <th>adr_similar</th>\n",
       "      <th>Macc</th>\n",
       "      <th>pubchem</th>\n",
       "      <th>Morgan</th>\n",
       "      <th>Rtoplo</th>\n",
       "      <th>macc_simi</th>\n",
       "      <th>morgan_simi</th>\n",
       "      <th>rtoplo_simi</th>\n",
       "      <th>com_simi</th>\n",
       "    </tr>\n",
       "  </thead>\n",
       "  <tbody>\n",
       "    <tr>\n",
       "      <th>0</th>\n",
       "      <td>alfentanil</td>\n",
       "      <td>asthenia</td>\n",
       "      <td>4</td>\n",
       "      <td>CCC(=O)N(c1ccccc1)C1(COC)CCN(CCn2nnn(CC)c2=O)CC1</td>\n",
       "      <td>[0.0, 0.0, 0.0, 0.0, 0.0, 0.0, 0.0, 0.0, 0.0, ...</td>\n",
       "      <td>[0, 0, 0, 0, 0, 0, 0, 0, 0, 0, 0, 0, 0, 0, 0, ...</td>\n",
       "      <td>[1, 1, 1, 1, 0, 0, 0, 0, 0, 1, 1, 1, 1, 0, 1, ...</td>\n",
       "      <td>[0, 0, 0, 0, 0, 0, 0, 0, 0, 0, 0, 0, 0, 0, 0, ...</td>\n",
       "      <td>[0, 1, 1, 1, 1, 1, 1, 1, 1, 1, 0, 1, 1, 1, 1, ...</td>\n",
       "      <td>[1.0, 0.6904761904761905, 0.5784313725490197, ...</td>\n",
       "      <td>[1.0, 0.23076923076923078, 0.20588235294117646...</td>\n",
       "      <td>[1.0, 0.38391224862888484, 0.40382387022016225...</td>\n",
       "      <td>[1.         0.43505256 0.39604587 0.20957798 0...</td>\n",
       "    </tr>\n",
       "  </tbody>\n",
       "</table>\n",
       "</div>"
      ],
      "text/plain": [
       "  GenericName SideeffectTerm  FrequencyRatingValue  \\\n",
       "0  alfentanil       asthenia                     4   \n",
       "\n",
       "                                      dg_smile_unif  \\\n",
       "0  CCC(=O)N(c1ccccc1)C1(COC)CCN(CCn2nnn(CC)c2=O)CC1   \n",
       "\n",
       "                                         adr_similar  \\\n",
       "0  [0.0, 0.0, 0.0, 0.0, 0.0, 0.0, 0.0, 0.0, 0.0, ...   \n",
       "\n",
       "                                                Macc  \\\n",
       "0  [0, 0, 0, 0, 0, 0, 0, 0, 0, 0, 0, 0, 0, 0, 0, ...   \n",
       "\n",
       "                                             pubchem  \\\n",
       "0  [1, 1, 1, 1, 0, 0, 0, 0, 0, 1, 1, 1, 1, 0, 1, ...   \n",
       "\n",
       "                                              Morgan  \\\n",
       "0  [0, 0, 0, 0, 0, 0, 0, 0, 0, 0, 0, 0, 0, 0, 0, ...   \n",
       "\n",
       "                                              Rtoplo  \\\n",
       "0  [0, 1, 1, 1, 1, 1, 1, 1, 1, 1, 0, 1, 1, 1, 1, ...   \n",
       "\n",
       "                                           macc_simi  \\\n",
       "0  [1.0, 0.6904761904761905, 0.5784313725490197, ...   \n",
       "\n",
       "                                         morgan_simi  \\\n",
       "0  [1.0, 0.23076923076923078, 0.20588235294117646...   \n",
       "\n",
       "                                         rtoplo_simi  \\\n",
       "0  [1.0, 0.38391224862888484, 0.40382387022016225...   \n",
       "\n",
       "                                            com_simi  \n",
       "0  [1.         0.43505256 0.39604587 0.20957798 0...  "
      ]
     },
     "execution_count": 14,
     "metadata": {},
     "output_type": "execute_result"
    }
   ],
   "source": [
    "data5 = pd.read_csv('data5.csv', header=0)\n",
    "data5.head(1)"
   ]
  },
  {
   "cell_type": "code",
   "execution_count": 15,
   "metadata": {},
   "outputs": [
    {
     "data": {
      "text/plain": [
       "(743, 13)"
      ]
     },
     "execution_count": 15,
     "metadata": {},
     "output_type": "execute_result"
    }
   ],
   "source": [
    "_drug_complete = data5.drop_duplicates(subset=['GenericName'])\n",
    "_drug_complete.shape"
   ]
  },
  {
   "cell_type": "code",
   "execution_count": 16,
   "metadata": {},
   "outputs": [],
   "source": [
    "def phamfp(smiles):\n",
    "    #Macc\n",
    "    mol = Chem.MolFromSmiles(smiles)\n",
    "    mol = Chem.AddHs(mol)\n",
    "    #pharmacophore\n",
    "    phar = AllChem.GetErGFingerprint(mol,fuzzIncrement=0.3,maxPath=21,minPath=1)\n",
    "    return list(phar)"
   ]
  },
  {
   "cell_type": "code",
   "execution_count": 17,
   "metadata": {},
   "outputs": [
    {
     "name": "stderr",
     "output_type": "stream",
     "text": [
      "d:\\Sorftware\\Anaconda\\envs\\drug_ade_37\\lib\\site-packages\\ipykernel_launcher.py:1: SettingWithCopyWarning: \n",
      "A value is trying to be set on a copy of a slice from a DataFrame.\n",
      "Try using .loc[row_indexer,col_indexer] = value instead\n",
      "\n",
      "See the caveats in the documentation: https://pandas.pydata.org/pandas-docs/stable/user_guide/indexing.html#returning-a-view-versus-a-copy\n",
      "  \"\"\"Entry point for launching an IPython kernel.\n"
     ]
    },
    {
     "data": {
      "text/html": [
       "<div>\n",
       "<style scoped>\n",
       "    .dataframe tbody tr th:only-of-type {\n",
       "        vertical-align: middle;\n",
       "    }\n",
       "\n",
       "    .dataframe tbody tr th {\n",
       "        vertical-align: top;\n",
       "    }\n",
       "\n",
       "    .dataframe thead th {\n",
       "        text-align: right;\n",
       "    }\n",
       "</style>\n",
       "<table border=\"1\" class=\"dataframe\">\n",
       "  <thead>\n",
       "    <tr style=\"text-align: right;\">\n",
       "      <th></th>\n",
       "      <th>GenericName</th>\n",
       "      <th>SideeffectTerm</th>\n",
       "      <th>FrequencyRatingValue</th>\n",
       "      <th>dg_smile_unif</th>\n",
       "      <th>adr_similar</th>\n",
       "      <th>Macc</th>\n",
       "      <th>pubchem</th>\n",
       "      <th>Morgan</th>\n",
       "      <th>Rtoplo</th>\n",
       "      <th>macc_simi</th>\n",
       "      <th>morgan_simi</th>\n",
       "      <th>rtoplo_simi</th>\n",
       "      <th>com_simi</th>\n",
       "      <th>pharmfp</th>\n",
       "    </tr>\n",
       "  </thead>\n",
       "  <tbody>\n",
       "    <tr>\n",
       "      <th>0</th>\n",
       "      <td>alfentanil</td>\n",
       "      <td>asthenia</td>\n",
       "      <td>4</td>\n",
       "      <td>CCC(=O)N(c1ccccc1)C1(COC)CCN(CCn2nnn(CC)c2=O)CC1</td>\n",
       "      <td>[0.0, 0.0, 0.0, 0.0, 0.0, 0.0, 0.0, 0.0, 0.0, ...</td>\n",
       "      <td>[0, 0, 0, 0, 0, 0, 0, 0, 0, 0, 0, 0, 0, 0, 0, ...</td>\n",
       "      <td>[1, 1, 1, 1, 0, 0, 0, 0, 0, 1, 1, 1, 1, 0, 1, ...</td>\n",
       "      <td>[0, 0, 0, 0, 0, 0, 0, 0, 0, 0, 0, 0, 0, 0, 0, ...</td>\n",
       "      <td>[0, 1, 1, 1, 1, 1, 1, 1, 1, 1, 0, 1, 1, 1, 1, ...</td>\n",
       "      <td>[1.0, 0.6904761904761905, 0.5784313725490197, ...</td>\n",
       "      <td>[1.0, 0.23076923076923078, 0.20588235294117646...</td>\n",
       "      <td>[1.0, 0.38391224862888484, 0.40382387022016225...</td>\n",
       "      <td>[1.         0.43505256 0.39604587 0.20957798 0...</td>\n",
       "      <td>[0.0, 0.0, 0.0, 0.0, 0.0, 0.0, 0.0, 0.0, 0.0, ...</td>\n",
       "    </tr>\n",
       "    <tr>\n",
       "      <th>17</th>\n",
       "      <td>telithromycin</td>\n",
       "      <td>flatulence</td>\n",
       "      <td>4</td>\n",
       "      <td>CC[C@H]1OC(=O)[C@H](C)C(=O)[C@H](C)[C@@H](O[C@...</td>\n",
       "      <td>[0.2, 0.4666666666666667, 0.2, 0.2, 0.2, 0.0, ...</td>\n",
       "      <td>[0, 0, 0, 0, 0, 0, 0, 0, 0, 0, 0, 0, 0, 0, 0, ...</td>\n",
       "      <td>[1, 1, 1, 1, 0, 0, 0, 0, 0, 1, 1, 1, 1, 1, 1, ...</td>\n",
       "      <td>[0, 0, 0, 0, 0, 0, 0, 0, 0, 0, 0, 0, 0, 0, 0, ...</td>\n",
       "      <td>[1, 1, 1, 1, 1, 1, 1, 1, 1, 1, 1, 1, 1, 1, 1, ...</td>\n",
       "      <td>[0.6904761904761905, 1.0, 0.5980392156862745, ...</td>\n",
       "      <td>[0.23076923076923078, 1.0, 0.22905027932960895...</td>\n",
       "      <td>[0.38391224862888484, 1.0, 0.5787211176786674,...</td>\n",
       "      <td>[0.43505256 1.         0.46860354 0.20399441 0...</td>\n",
       "      <td>[0.0, 0.0, 0.0, 0.0, 0.0, 0.0, 0.0, 0.0, 0.0, ...</td>\n",
       "    </tr>\n",
       "    <tr>\n",
       "      <th>29</th>\n",
       "      <td>simeprevir</td>\n",
       "      <td>asthenia</td>\n",
       "      <td>5</td>\n",
       "      <td>COc1ccc2c(O[C@@H]3C[C@H]4C(=O)N[C@]5(C(=O)NS(=...</td>\n",
       "      <td>[0.0, 0.0, 0.0, 0.0, 0.0, 0.0, 0.0, 0.0, 0.0, ...</td>\n",
       "      <td>[0, 0, 0, 0, 0, 0, 0, 0, 0, 0, 0, 0, 0, 0, 0, ...</td>\n",
       "      <td>[1, 1, 1, 1, 0, 0, 0, 0, 0, 1, 1, 1, 1, 1, 1, ...</td>\n",
       "      <td>[0, 1, 0, 0, 0, 1, 0, 0, 0, 0, 0, 0, 0, 0, 0, ...</td>\n",
       "      <td>[1, 1, 1, 1, 1, 1, 1, 1, 1, 1, 1, 1, 1, 1, 1, ...</td>\n",
       "      <td>[0.5784313725490197, 0.5980392156862745, 1.0, ...</td>\n",
       "      <td>[0.20588235294117646, 0.22905027932960895, 1.0...</td>\n",
       "      <td>[0.40382387022016225, 0.5787211176786674, 1.0,...</td>\n",
       "      <td>[0.39604587 0.46860354 1.         0.24229096 0...</td>\n",
       "      <td>[0.0, 0.3, 1.0, 0.3, 0.0, 0.0, 0.0, 0.0, 0.0, ...</td>\n",
       "    </tr>\n",
       "    <tr>\n",
       "      <th>44</th>\n",
       "      <td>pentamidine isethionate</td>\n",
       "      <td>asthenia</td>\n",
       "      <td>5</td>\n",
       "      <td>N=C(N)c1ccc(OCCCCCOc2ccc(C(=N)N)cc2)cc1.O=S(=O...</td>\n",
       "      <td>[0.0, 0.0, 0.0, 0.0, 0.0, 0.0, 0.0, 0.0, 0.0, ...</td>\n",
       "      <td>[0, 0, 0, 0, 0, 0, 0, 0, 0, 0, 0, 0, 0, 0, 0, ...</td>\n",
       "      <td>[1, 1, 1, 1, 0, 0, 0, 0, 0, 1, 1, 1, 1, 0, 1, ...</td>\n",
       "      <td>[0, 0, 0, 0, 0, 0, 0, 0, 0, 0, 0, 0, 0, 0, 0, ...</td>\n",
       "      <td>[1, 0, 0, 1, 1, 1, 0, 0, 1, 1, 1, 0, 1, 1, 1, ...</td>\n",
       "      <td>[0.3333333333333333, 0.32673267326732675, 0.42...</td>\n",
       "      <td>[0.15, 0.14792899408284024, 0.1375, 1.0, 0.043...</td>\n",
       "      <td>[0.14540059347181009, 0.1373215499660095, 0.15...</td>\n",
       "      <td>[0.20957798 0.20399441 0.24229096 1.         0...</td>\n",
       "      <td>[0.6, 2.0, 1.2, 2.0, 0.6, 0.0, 0.0, 0.0, 0.0, ...</td>\n",
       "    </tr>\n",
       "    <tr>\n",
       "      <th>53</th>\n",
       "      <td>penicillamine</td>\n",
       "      <td>leukopenia</td>\n",
       "      <td>4</td>\n",
       "      <td>CC(C)(S)[C@@H](N)C(=O)O</td>\n",
       "      <td>[0.0, 0.0, 0.0, 0.0, 0.0, 0.0, 0.0, 0.0, 0.0, ...</td>\n",
       "      <td>[0, 0, 0, 0, 0, 0, 0, 0, 0, 0, 0, 0, 0, 0, 0, ...</td>\n",
       "      <td>[1, 1, 0, 0, 0, 0, 0, 0, 0, 1, 1, 0, 0, 0, 1, ...</td>\n",
       "      <td>[0, 1, 0, 0, 0, 0, 0, 0, 0, 0, 0, 0, 0, 0, 0, ...</td>\n",
       "      <td>[0, 1, 0, 1, 1, 0, 1, 1, 0, 1, 0, 0, 0, 1, 0, ...</td>\n",
       "      <td>[0.15, 0.189873417721519, 0.18947368421052632,...</td>\n",
       "      <td>[0.0684931506849315, 0.03076923076923077, 0.05...</td>\n",
       "      <td>[0.08244111349036402, 0.0784452296819788, 0.07...</td>\n",
       "      <td>[0.10031142 0.09969596 0.10423921 0.10542887 1...</td>\n",
       "      <td>[0.0, 0.6, 2.3, 1.6, 0.3, 0.0, 0.0, 0.0, 0.0, ...</td>\n",
       "    </tr>\n",
       "  </tbody>\n",
       "</table>\n",
       "</div>"
      ],
      "text/plain": [
       "                GenericName SideeffectTerm  FrequencyRatingValue  \\\n",
       "0                alfentanil       asthenia                     4   \n",
       "17            telithromycin     flatulence                     4   \n",
       "29               simeprevir       asthenia                     5   \n",
       "44  pentamidine isethionate       asthenia                     5   \n",
       "53            penicillamine     leukopenia                     4   \n",
       "\n",
       "                                        dg_smile_unif  \\\n",
       "0    CCC(=O)N(c1ccccc1)C1(COC)CCN(CCn2nnn(CC)c2=O)CC1   \n",
       "17  CC[C@H]1OC(=O)[C@H](C)C(=O)[C@H](C)[C@@H](O[C@...   \n",
       "29  COc1ccc2c(O[C@@H]3C[C@H]4C(=O)N[C@]5(C(=O)NS(=...   \n",
       "44  N=C(N)c1ccc(OCCCCCOc2ccc(C(=N)N)cc2)cc1.O=S(=O...   \n",
       "53                            CC(C)(S)[C@@H](N)C(=O)O   \n",
       "\n",
       "                                          adr_similar  \\\n",
       "0   [0.0, 0.0, 0.0, 0.0, 0.0, 0.0, 0.0, 0.0, 0.0, ...   \n",
       "17  [0.2, 0.4666666666666667, 0.2, 0.2, 0.2, 0.0, ...   \n",
       "29  [0.0, 0.0, 0.0, 0.0, 0.0, 0.0, 0.0, 0.0, 0.0, ...   \n",
       "44  [0.0, 0.0, 0.0, 0.0, 0.0, 0.0, 0.0, 0.0, 0.0, ...   \n",
       "53  [0.0, 0.0, 0.0, 0.0, 0.0, 0.0, 0.0, 0.0, 0.0, ...   \n",
       "\n",
       "                                                 Macc  \\\n",
       "0   [0, 0, 0, 0, 0, 0, 0, 0, 0, 0, 0, 0, 0, 0, 0, ...   \n",
       "17  [0, 0, 0, 0, 0, 0, 0, 0, 0, 0, 0, 0, 0, 0, 0, ...   \n",
       "29  [0, 0, 0, 0, 0, 0, 0, 0, 0, 0, 0, 0, 0, 0, 0, ...   \n",
       "44  [0, 0, 0, 0, 0, 0, 0, 0, 0, 0, 0, 0, 0, 0, 0, ...   \n",
       "53  [0, 0, 0, 0, 0, 0, 0, 0, 0, 0, 0, 0, 0, 0, 0, ...   \n",
       "\n",
       "                                              pubchem  \\\n",
       "0   [1, 1, 1, 1, 0, 0, 0, 0, 0, 1, 1, 1, 1, 0, 1, ...   \n",
       "17  [1, 1, 1, 1, 0, 0, 0, 0, 0, 1, 1, 1, 1, 1, 1, ...   \n",
       "29  [1, 1, 1, 1, 0, 0, 0, 0, 0, 1, 1, 1, 1, 1, 1, ...   \n",
       "44  [1, 1, 1, 1, 0, 0, 0, 0, 0, 1, 1, 1, 1, 0, 1, ...   \n",
       "53  [1, 1, 0, 0, 0, 0, 0, 0, 0, 1, 1, 0, 0, 0, 1, ...   \n",
       "\n",
       "                                               Morgan  \\\n",
       "0   [0, 0, 0, 0, 0, 0, 0, 0, 0, 0, 0, 0, 0, 0, 0, ...   \n",
       "17  [0, 0, 0, 0, 0, 0, 0, 0, 0, 0, 0, 0, 0, 0, 0, ...   \n",
       "29  [0, 1, 0, 0, 0, 1, 0, 0, 0, 0, 0, 0, 0, 0, 0, ...   \n",
       "44  [0, 0, 0, 0, 0, 0, 0, 0, 0, 0, 0, 0, 0, 0, 0, ...   \n",
       "53  [0, 1, 0, 0, 0, 0, 0, 0, 0, 0, 0, 0, 0, 0, 0, ...   \n",
       "\n",
       "                                               Rtoplo  \\\n",
       "0   [0, 1, 1, 1, 1, 1, 1, 1, 1, 1, 0, 1, 1, 1, 1, ...   \n",
       "17  [1, 1, 1, 1, 1, 1, 1, 1, 1, 1, 1, 1, 1, 1, 1, ...   \n",
       "29  [1, 1, 1, 1, 1, 1, 1, 1, 1, 1, 1, 1, 1, 1, 1, ...   \n",
       "44  [1, 0, 0, 1, 1, 1, 0, 0, 1, 1, 1, 0, 1, 1, 1, ...   \n",
       "53  [0, 1, 0, 1, 1, 0, 1, 1, 0, 1, 0, 0, 0, 1, 0, ...   \n",
       "\n",
       "                                            macc_simi  \\\n",
       "0   [1.0, 0.6904761904761905, 0.5784313725490197, ...   \n",
       "17  [0.6904761904761905, 1.0, 0.5980392156862745, ...   \n",
       "29  [0.5784313725490197, 0.5980392156862745, 1.0, ...   \n",
       "44  [0.3333333333333333, 0.32673267326732675, 0.42...   \n",
       "53  [0.15, 0.189873417721519, 0.18947368421052632,...   \n",
       "\n",
       "                                          morgan_simi  \\\n",
       "0   [1.0, 0.23076923076923078, 0.20588235294117646...   \n",
       "17  [0.23076923076923078, 1.0, 0.22905027932960895...   \n",
       "29  [0.20588235294117646, 0.22905027932960895, 1.0...   \n",
       "44  [0.15, 0.14792899408284024, 0.1375, 1.0, 0.043...   \n",
       "53  [0.0684931506849315, 0.03076923076923077, 0.05...   \n",
       "\n",
       "                                          rtoplo_simi  \\\n",
       "0   [1.0, 0.38391224862888484, 0.40382387022016225...   \n",
       "17  [0.38391224862888484, 1.0, 0.5787211176786674,...   \n",
       "29  [0.40382387022016225, 0.5787211176786674, 1.0,...   \n",
       "44  [0.14540059347181009, 0.1373215499660095, 0.15...   \n",
       "53  [0.08244111349036402, 0.0784452296819788, 0.07...   \n",
       "\n",
       "                                             com_simi  \\\n",
       "0   [1.         0.43505256 0.39604587 0.20957798 0...   \n",
       "17  [0.43505256 1.         0.46860354 0.20399441 0...   \n",
       "29  [0.39604587 0.46860354 1.         0.24229096 0...   \n",
       "44  [0.20957798 0.20399441 0.24229096 1.         0...   \n",
       "53  [0.10031142 0.09969596 0.10423921 0.10542887 1...   \n",
       "\n",
       "                                              pharmfp  \n",
       "0   [0.0, 0.0, 0.0, 0.0, 0.0, 0.0, 0.0, 0.0, 0.0, ...  \n",
       "17  [0.0, 0.0, 0.0, 0.0, 0.0, 0.0, 0.0, 0.0, 0.0, ...  \n",
       "29  [0.0, 0.3, 1.0, 0.3, 0.0, 0.0, 0.0, 0.0, 0.0, ...  \n",
       "44  [0.6, 2.0, 1.2, 2.0, 0.6, 0.0, 0.0, 0.0, 0.0, ...  \n",
       "53  [0.0, 0.6, 2.3, 1.6, 0.3, 0.0, 0.0, 0.0, 0.0, ...  "
      ]
     },
     "execution_count": 17,
     "metadata": {},
     "output_type": "execute_result"
    }
   ],
   "source": [
    "_drug_complete['pharmfp'] = _drug_complete.iloc[:,3].apply(phamfp)\n",
    "_drug_complete.head(5)"
   ]
  },
  {
   "cell_type": "code",
   "execution_count": 18,
   "metadata": {},
   "outputs": [
    {
     "data": {
      "text/html": [
       "<div>\n",
       "<style scoped>\n",
       "    .dataframe tbody tr th:only-of-type {\n",
       "        vertical-align: middle;\n",
       "    }\n",
       "\n",
       "    .dataframe tbody tr th {\n",
       "        vertical-align: top;\n",
       "    }\n",
       "\n",
       "    .dataframe thead th {\n",
       "        text-align: right;\n",
       "    }\n",
       "</style>\n",
       "<table border=\"1\" class=\"dataframe\">\n",
       "  <thead>\n",
       "    <tr style=\"text-align: right;\">\n",
       "      <th></th>\n",
       "      <th>GenericName</th>\n",
       "      <th>SideeffectTerm</th>\n",
       "      <th>FrequencyRatingValue</th>\n",
       "      <th>dg_smile_unif</th>\n",
       "      <th>adr_similar</th>\n",
       "      <th>Macc</th>\n",
       "      <th>pubchem</th>\n",
       "      <th>Morgan</th>\n",
       "      <th>Rtoplo</th>\n",
       "      <th>macc_simi</th>\n",
       "      <th>morgan_simi</th>\n",
       "      <th>rtoplo_simi</th>\n",
       "      <th>com_simi</th>\n",
       "      <th>pharmfp</th>\n",
       "    </tr>\n",
       "  </thead>\n",
       "  <tbody>\n",
       "    <tr>\n",
       "      <th>0</th>\n",
       "      <td>alfentanil</td>\n",
       "      <td>asthenia</td>\n",
       "      <td>4</td>\n",
       "      <td>CCC(=O)N(c1ccccc1)C1(COC)CCN(CCn2nnn(CC)c2=O)CC1</td>\n",
       "      <td>[0.0, 0.0, 0.0, 0.0, 0.0, 0.0, 0.0, 0.0, 0.0, ...</td>\n",
       "      <td>[0, 0, 0, 0, 0, 0, 0, 0, 0, 0, 0, 0, 0, 0, 0, ...</td>\n",
       "      <td>[1, 1, 1, 1, 0, 0, 0, 0, 0, 1, 1, 1, 1, 0, 1, ...</td>\n",
       "      <td>[0, 0, 0, 0, 0, 0, 0, 0, 0, 0, 0, 0, 0, 0, 0, ...</td>\n",
       "      <td>[0, 1, 1, 1, 1, 1, 1, 1, 1, 1, 0, 1, 1, 1, 1, ...</td>\n",
       "      <td>[1.0, 0.6904761904761905, 0.5784313725490197, ...</td>\n",
       "      <td>[1.0, 0.23076923076923078, 0.20588235294117646...</td>\n",
       "      <td>[1.0, 0.38391224862888484, 0.40382387022016225...</td>\n",
       "      <td>[1.         0.43505256 0.39604587 0.20957798 0...</td>\n",
       "      <td>[0.0, 0.0, 0.0, 0.0, 0.0, 0.0, 0.0, 0.0, 0.0, ...</td>\n",
       "    </tr>\n",
       "    <tr>\n",
       "      <th>1</th>\n",
       "      <td>alfentanil</td>\n",
       "      <td>movement disorder</td>\n",
       "      <td>4</td>\n",
       "      <td>CCC(=O)N(c1ccccc1)C1(COC)CCN(CCn2nnn(CC)c2=O)CC1</td>\n",
       "      <td>[0.0, 0.0, 0.0, 0.0, 0.0, 0.0, 0.0540540540540...</td>\n",
       "      <td>[0, 0, 0, 0, 0, 0, 0, 0, 0, 0, 0, 0, 0, 0, 0, ...</td>\n",
       "      <td>[1, 1, 1, 1, 0, 0, 0, 0, 0, 1, 1, 1, 1, 0, 1, ...</td>\n",
       "      <td>[0, 0, 0, 0, 0, 0, 0, 0, 0, 0, 0, 0, 0, 0, 0, ...</td>\n",
       "      <td>[0, 1, 1, 1, 1, 1, 1, 1, 1, 1, 0, 1, 1, 1, 1, ...</td>\n",
       "      <td>[1.0, 0.6904761904761905, 0.5784313725490197, ...</td>\n",
       "      <td>[1.0, 0.23076923076923078, 0.20588235294117646...</td>\n",
       "      <td>[1.0, 0.38391224862888484, 0.40382387022016225...</td>\n",
       "      <td>[1.         0.43505256 0.39604587 0.20957798 0...</td>\n",
       "      <td>[0.0, 0.0, 0.0, 0.0, 0.0, 0.0, 0.0, 0.0, 0.0, ...</td>\n",
       "    </tr>\n",
       "  </tbody>\n",
       "</table>\n",
       "</div>"
      ],
      "text/plain": [
       "  GenericName     SideeffectTerm  FrequencyRatingValue  \\\n",
       "0  alfentanil           asthenia                     4   \n",
       "1  alfentanil  movement disorder                     4   \n",
       "\n",
       "                                      dg_smile_unif  \\\n",
       "0  CCC(=O)N(c1ccccc1)C1(COC)CCN(CCn2nnn(CC)c2=O)CC1   \n",
       "1  CCC(=O)N(c1ccccc1)C1(COC)CCN(CCn2nnn(CC)c2=O)CC1   \n",
       "\n",
       "                                         adr_similar  \\\n",
       "0  [0.0, 0.0, 0.0, 0.0, 0.0, 0.0, 0.0, 0.0, 0.0, ...   \n",
       "1  [0.0, 0.0, 0.0, 0.0, 0.0, 0.0, 0.0540540540540...   \n",
       "\n",
       "                                                Macc  \\\n",
       "0  [0, 0, 0, 0, 0, 0, 0, 0, 0, 0, 0, 0, 0, 0, 0, ...   \n",
       "1  [0, 0, 0, 0, 0, 0, 0, 0, 0, 0, 0, 0, 0, 0, 0, ...   \n",
       "\n",
       "                                             pubchem  \\\n",
       "0  [1, 1, 1, 1, 0, 0, 0, 0, 0, 1, 1, 1, 1, 0, 1, ...   \n",
       "1  [1, 1, 1, 1, 0, 0, 0, 0, 0, 1, 1, 1, 1, 0, 1, ...   \n",
       "\n",
       "                                              Morgan  \\\n",
       "0  [0, 0, 0, 0, 0, 0, 0, 0, 0, 0, 0, 0, 0, 0, 0, ...   \n",
       "1  [0, 0, 0, 0, 0, 0, 0, 0, 0, 0, 0, 0, 0, 0, 0, ...   \n",
       "\n",
       "                                              Rtoplo  \\\n",
       "0  [0, 1, 1, 1, 1, 1, 1, 1, 1, 1, 0, 1, 1, 1, 1, ...   \n",
       "1  [0, 1, 1, 1, 1, 1, 1, 1, 1, 1, 0, 1, 1, 1, 1, ...   \n",
       "\n",
       "                                           macc_simi  \\\n",
       "0  [1.0, 0.6904761904761905, 0.5784313725490197, ...   \n",
       "1  [1.0, 0.6904761904761905, 0.5784313725490197, ...   \n",
       "\n",
       "                                         morgan_simi  \\\n",
       "0  [1.0, 0.23076923076923078, 0.20588235294117646...   \n",
       "1  [1.0, 0.23076923076923078, 0.20588235294117646...   \n",
       "\n",
       "                                         rtoplo_simi  \\\n",
       "0  [1.0, 0.38391224862888484, 0.40382387022016225...   \n",
       "1  [1.0, 0.38391224862888484, 0.40382387022016225...   \n",
       "\n",
       "                                            com_simi  \\\n",
       "0  [1.         0.43505256 0.39604587 0.20957798 0...   \n",
       "1  [1.         0.43505256 0.39604587 0.20957798 0...   \n",
       "\n",
       "                                             pharmfp  \n",
       "0  [0.0, 0.0, 0.0, 0.0, 0.0, 0.0, 0.0, 0.0, 0.0, ...  \n",
       "1  [0.0, 0.0, 0.0, 0.0, 0.0, 0.0, 0.0, 0.0, 0.0, ...  "
      ]
     },
     "execution_count": 18,
     "metadata": {},
     "output_type": "execute_result"
    }
   ],
   "source": [
    "data6 = data5.copy()\n",
    "data6 = pd.merge(data5, _drug_complete[['GenericName','pharmfp']], how='left', on='GenericName')\n",
    "data6.head(2)"
   ]
  },
  {
   "cell_type": "markdown",
   "metadata": {},
   "source": [
    "### 计算pharmfp的余弦相似度"
   ]
  },
  {
   "cell_type": "code",
   "execution_count": 19,
   "metadata": {},
   "outputs": [],
   "source": [
    "def caculate_cos_sim(fp, fp_list):\n",
    "    _fp = [fp for i in range(len(fp_list))]\n",
    "    _dot = [np.dot(i,j) for i,j in zip(_fp, fp_list)]\n",
    "    _norm1 = [np.linalg.norm(i) for i in _fp]\n",
    "    _norm2 = [np.linalg.norm(i) for i in fp_list]\n",
    "    _div = [i*j for i,j in zip(_norm1, _norm2)]\n",
    "    _result = [i/j for i,j in zip(_dot, _div)]\n",
    "    return _result"
   ]
  },
  {
   "cell_type": "code",
   "execution_count": 21,
   "metadata": {},
   "outputs": [
    {
     "name": "stdout",
     "output_type": "stream",
     "text": [
      "Index(['GenericName', 'SideeffectTerm', 'FrequencyRatingValue',\n",
      "       'dg_smile_unif', 'adr_similar', 'Macc', 'pubchem', 'Morgan', 'Rtoplo',\n",
      "       'pharmfp'],\n",
      "      dtype='object')\n"
     ]
    },
    {
     "data": {
      "text/plain": [
       "(36895, 10)"
      ]
     },
     "execution_count": 21,
     "metadata": {},
     "output_type": "execute_result"
    }
   ],
   "source": [
    "data6 = data6[['GenericName', 'SideeffectTerm', 'FrequencyRatingValue','dg_smile_unif', 'adr_similar', 'Macc', 'pubchem', 'Morgan', 'Rtoplo', 'pharmfp']]\n",
    "print(data6.columns)\n",
    "data6.shape"
   ]
  },
  {
   "cell_type": "code",
   "execution_count": 22,
   "metadata": {},
   "outputs": [],
   "source": [
    "data6.to_csv('data6.csv', index=False)"
   ]
  },
  {
   "cell_type": "markdown",
   "metadata": {},
   "source": [
    "# 计算药物的已知ADR相似性"
   ]
  },
  {
   "cell_type": "markdown",
   "metadata": {},
   "source": [
    "# bilstm提取药物的smiles字符特征"
   ]
  },
  {
   "cell_type": "markdown",
   "metadata": {},
   "source": [
    "# 重构神经网络提取ADR的特征"
   ]
  },
  {
   "cell_type": "markdown",
   "metadata": {},
   "source": [
    "草稿"
   ]
  },
  {
   "cell_type": "code",
   "execution_count": 17,
   "metadata": {},
   "outputs": [],
   "source": [
    "mol = Chem.MolFromSmiles(smiles_all.iloc[36,1])\n",
    "AllChem.EmbedMolecule(mol)\n",
    "factory = Gobbi_Pharm2D.factory\n",
    "#calc 3d p4 fp\n",
    "phar = Generate.Gen2DFingerprint(mol, factory, dMat = Chem.Get3DDistanceMatrix(mol))\n",
    "phar = [int(i) for i in phar.ToBitString()]\n",
    "phar = np.array(phar)"
   ]
  },
  {
   "cell_type": "code",
   "execution_count": 16,
   "metadata": {},
   "outputs": [
    {
     "data": {
      "image/png": "[encoded data removed]",
      "text/plain": [
       "<rdkit.Chem.rdchem.Mol at 0x2ae9712a920>"
      ]
     },
     "execution_count": 16,
     "metadata": {},
     "output_type": "execute_result"
    }
   ],
   "source": [
    "mol = Chem.MolFromSmiles(smiles_all.iloc[37,1])\n",
    "mol"
   ]
  },
  {
   "cell_type": "code",
   "execution_count": 374,
   "metadata": {},
   "outputs": [
    {
     "name": "stdout",
     "output_type": "stream",
     "text": [
      "[H][C@]12CN(C[C@@]1([H])NCCC2)C1=C(F)C=C2C(=O)C(=CN(C3CC3)C2=C1OC)C(O)=O\n"
     ]
    },
    {
     "data": {
      "text/plain": [
       "'COc1c(N2C[C@@H]3CCCN[C@@H]3C2)c(F)cc2c(=O)c(C(=O)O)cn(C3CC3)c12'"
      ]
     },
     "execution_count": 374,
     "metadata": {},
     "output_type": "execute_result"
    }
   ],
   "source": [
    "print(drug_complete.iloc[99,1])\n",
    "drug_complete.iloc[99,3]"
   ]
  },
  {
   "cell_type": "code",
   "execution_count": 375,
   "metadata": {},
   "outputs": [
    {
     "data": {
      "text/plain": [
       "'COc1c(N2C[C@@H]3CCCN[C@@H]3C2)c(F)cc2c(=O)c(C(=O)O)cn(C3CC3)c12'"
      ]
     },
     "execution_count": 375,
     "metadata": {},
     "output_type": "execute_result"
    }
   ],
   "source": [
    "mol = Chem.MolFromSmiles('[H][C@]12CN(C[C@@]1([H])NCCC2)C1=C(F)C=C2C(=O)C(=CN(C3CC3)C2=C1OC)C(O)=O')\n",
    "Chem.MolToSmiles(mol, isomericSmiles=True)"
   ]
  },
  {
   "cell_type": "code",
   "execution_count": 242,
   "metadata": {},
   "outputs": [
    {
     "data": {
      "text/html": [
       "<div>\n",
       "<style scoped>\n",
       "    .dataframe tbody tr th:only-of-type {\n",
       "        vertical-align: middle;\n",
       "    }\n",
       "\n",
       "    .dataframe tbody tr th {\n",
       "        vertical-align: top;\n",
       "    }\n",
       "\n",
       "    .dataframe thead th {\n",
       "        text-align: right;\n",
       "    }\n",
       "</style>\n",
       "<table border=\"1\" class=\"dataframe\">\n",
       "  <thead>\n",
       "    <tr style=\"text-align: right;\">\n",
       "      <th></th>\n",
       "      <th>GenericName</th>\n",
       "      <th>dg_smile</th>\n",
       "      <th>dg_ATC</th>\n",
       "      <th>dg_smile_unif</th>\n",
       "    </tr>\n",
       "  </thead>\n",
       "  <tbody>\n",
       "    <tr>\n",
       "      <th>153</th>\n",
       "      <td>oxaliplatin</td>\n",
       "      <td>[H][N]1([H])[C@@H]2CCCC[C@H]2[N]([H])([H])[Pt]...</td>\n",
       "      <td>L01XA03</td>\n",
       "      <td>None</td>\n",
       "    </tr>\n",
       "    <tr>\n",
       "      <th>549</th>\n",
       "      <td>carboplatin</td>\n",
       "      <td>[H][N]([H])([H])[Pt]1(OC(=O)C2(CCC2)C(=O)O1)[N...</td>\n",
       "      <td>L01XA02</td>\n",
       "      <td>None</td>\n",
       "    </tr>\n",
       "    <tr>\n",
       "      <th>672</th>\n",
       "      <td>temoporfin</td>\n",
       "      <td>OC1=CC=CC(=C1)C-1=C2\\CCC(=N2)\\C(=C2/N\\C(\\C=C2)...</td>\n",
       "      <td>L01XD05</td>\n",
       "      <td>None</td>\n",
       "    </tr>\n",
       "  </tbody>\n",
       "</table>\n",
       "</div>"
      ],
      "text/plain": [
       "     GenericName                                           dg_smile   dg_ATC  \\\n",
       "153  oxaliplatin  [H][N]1([H])[C@@H]2CCCC[C@H]2[N]([H])([H])[Pt]...  L01XA03   \n",
       "549  carboplatin  [H][N]([H])([H])[Pt]1(OC(=O)C2(CCC2)C(=O)O1)[N...  L01XA02   \n",
       "672   temoporfin  OC1=CC=CC(=C1)C-1=C2\\CCC(=N2)\\C(=C2/N\\C(\\C=C2)...  L01XD05   \n",
       "\n",
       "    dg_smile_unif  \n",
       "153          None  \n",
       "549          None  \n",
       "672          None  "
      ]
     },
     "execution_count": 242,
     "metadata": {},
     "output_type": "execute_result"
    }
   ],
   "source": [
    "#规范化的列缺失，而原始的smiles有值\n",
    "drug32[drug32['dg_smile_unif'].isna() & ~drug32['dg_smile'].isna()]\n",
    "# drug32[drug32['dg_smile_unif'].isna() & ~drug32['dg_smile'].isna()].iloc[1,1]"
   ]
  },
  {
   "cell_type": "code",
   "execution_count": 255,
   "metadata": {},
   "outputs": [
    {
     "data": {
      "text/plain": [
       "(15, 4)"
      ]
     },
     "execution_count": 255,
     "metadata": {},
     "output_type": "execute_result"
    }
   ],
   "source": [
    "drug32[drug32['dg_smile_unif'].isna()].shape"
   ]
  },
  {
   "cell_type": "code",
   "execution_count": 206,
   "metadata": {},
   "outputs": [
    {
     "data": {
      "text/plain": [
       "Index(['GenericName', 'dg_smile', 'dg_ATC', 'dg_smile_unif'], dtype='object')"
      ]
     },
     "execution_count": 206,
     "metadata": {},
     "output_type": "execute_result"
    }
   ],
   "source": [
    "drug32.columns"
   ]
  },
  {
   "cell_type": "code",
   "execution_count": 248,
   "metadata": {},
   "outputs": [
    {
     "data": {
      "text/plain": [
       "(744, 4)"
      ]
     },
     "execution_count": 248,
     "metadata": {},
     "output_type": "execute_result"
    }
   ],
   "source": [
    "drug_complete = drug32.dropna(subset=['dg_smile_unif'])\n",
    "drug_complete.shape"
   ]
  },
  {
   "cell_type": "code",
   "execution_count": 251,
   "metadata": {},
   "outputs": [
    {
     "data": {
      "text/plain": [
       "(81, 3)"
      ]
     },
     "execution_count": 251,
     "metadata": {},
     "output_type": "execute_result"
    }
   ],
   "source": [
    "miss_drug.shape"
   ]
  },
  {
   "cell_type": "code",
   "execution_count": 249,
   "metadata": {},
   "outputs": [],
   "source": [
    "#再利用同义词进行匹配的时候出现问题的药物\n",
    "err_durg=['octreotide','corticotropin','heparin','atracurium','oxytocin','sodium phosphate','aciclovir','podophyllotoxin']"
   ]
  },
  {
   "cell_type": "code",
   "execution_count": 250,
   "metadata": {},
   "outputs": [
    {
     "data": {
      "text/plain": [
       "'C[C@H]([C@H]1C(=O)N[C@@H](CSSC[C@@H](C(=O)N[C@H](C(=O)N[C@@H](C(=O)N[C@H](C(=O)N1)CCCCN)CC2=CNC3=CC=CC=C32)CC4=CC=CC=C4)NC(=O)[C@@H](CC5=CC=CC=C5)N)C(=O)N[C@H](CO)[C@@H](C)O)O'"
      ]
     },
     "execution_count": 250,
     "metadata": {},
     "output_type": "execute_result"
    }
   ],
   "source": [
    "search_from_Pubchem(err_durg[0])"
   ]
  },
  {
   "cell_type": "code",
   "execution_count": null,
   "metadata": {},
   "outputs": [],
   "source": [
    "\n",
    "drug_complete[drug_complete['GenericName']=='aciclovir']#.iloc[0,1]"
   ]
  },
  {
   "cell_type": "code",
   "execution_count": 77,
   "metadata": {},
   "outputs": [
    {
     "data": {
      "text/html": [
       "<div>\n",
       "<style scoped>\n",
       "    .dataframe tbody tr th:only-of-type {\n",
       "        vertical-align: middle;\n",
       "    }\n",
       "\n",
       "    .dataframe tbody tr th {\n",
       "        vertical-align: top;\n",
       "    }\n",
       "\n",
       "    .dataframe thead th {\n",
       "        text-align: right;\n",
       "    }\n",
       "</style>\n",
       "<table border=\"1\" class=\"dataframe\">\n",
       "  <thead>\n",
       "    <tr style=\"text-align: right;\">\n",
       "      <th></th>\n",
       "      <th>dg_id</th>\n",
       "      <th>GenericName</th>\n",
       "      <th>dg_smile</th>\n",
       "      <th>dg_ATC</th>\n",
       "      <th>dg_synonyms</th>\n",
       "    </tr>\n",
       "  </thead>\n",
       "  <tbody>\n",
       "    <tr>\n",
       "      <th>431</th>\n",
       "      <td>DB00444</td>\n",
       "      <td>teniposide</td>\n",
       "      <td>[H][C@]12COC(=O)[C@]1([H])[C@H](C1=CC(OC)=C(O)...</td>\n",
       "      <td>L01CB02</td>\n",
       "      <td>4'-demethylepipodophyllotoxin 9-(4,6-o-(r)-2-t...</td>\n",
       "    </tr>\n",
       "    <tr>\n",
       "      <th>550</th>\n",
       "      <td>DB00565</td>\n",
       "      <td>cisatracurium</td>\n",
       "      <td>COC1=CC2=C(C=C1OC)[C@@H](CC1=CC(OC)=C(OC)C=C1)...</td>\n",
       "      <td>M03AC11</td>\n",
       "      <td>(1r,2r,1'r,2'r)-2,2'-{pentane-1,5-diylbis[oxy(...</td>\n",
       "    </tr>\n",
       "    <tr>\n",
       "      <th>554</th>\n",
       "      <td>DB00569</td>\n",
       "      <td>fondaparinux</td>\n",
       "      <td>CO[C@H]1O[C@H](COS(O)(=O)=O)[C@@H](O[C@@H]2O[C...</td>\n",
       "      <td>B01AX05</td>\n",
       "      <td>natural heparin pentasaccharide</td>\n",
       "    </tr>\n",
       "    <tr>\n",
       "      <th>562</th>\n",
       "      <td>DB00577</td>\n",
       "      <td>valaciclovir</td>\n",
       "      <td>CC(C)[C@H](N)C(=O)OCCOCN1C=NC2=C1NC(N)=NC2=O</td>\n",
       "      <td>J05AB11</td>\n",
       "      <td>l-valine ester with 9-((2-hydroxyethoxy)methyl...</td>\n",
       "    </tr>\n",
       "    <tr>\n",
       "      <th>1088</th>\n",
       "      <td>DB01109</td>\n",
       "      <td>heparin</td>\n",
       "      <td>NaN</td>\n",
       "      <td>B01AB51;C05BA03;S01XA14;C05BA53;B01AB01</td>\n",
       "      <td>eparina,heparina,heparine,heparinic acid,hepar...</td>\n",
       "    </tr>\n",
       "    <tr>\n",
       "      <th>11270</th>\n",
       "      <td>DB13295</td>\n",
       "      <td>atracurium</td>\n",
       "      <td>NaN</td>\n",
       "      <td>M03AC04</td>\n",
       "      <td>NaN</td>\n",
       "    </tr>\n",
       "  </tbody>\n",
       "</table>\n",
       "</div>"
      ],
      "text/plain": [
       "         dg_id    GenericName  \\\n",
       "431    DB00444     teniposide   \n",
       "550    DB00565  cisatracurium   \n",
       "554    DB00569   fondaparinux   \n",
       "562    DB00577   valaciclovir   \n",
       "1088   DB01109        heparin   \n",
       "11270  DB13295     atracurium   \n",
       "\n",
       "                                                dg_smile  \\\n",
       "431    [H][C@]12COC(=O)[C@]1([H])[C@H](C1=CC(OC)=C(O)...   \n",
       "550    COC1=CC2=C(C=C1OC)[C@@H](CC1=CC(OC)=C(OC)C=C1)...   \n",
       "554    CO[C@H]1O[C@H](COS(O)(=O)=O)[C@@H](O[C@@H]2O[C...   \n",
       "562         CC(C)[C@H](N)C(=O)OCCOCN1C=NC2=C1NC(N)=NC2=O   \n",
       "1088                                                 NaN   \n",
       "11270                                                NaN   \n",
       "\n",
       "                                        dg_ATC  \\\n",
       "431                                    L01CB02   \n",
       "550                                    M03AC11   \n",
       "554                                    B01AX05   \n",
       "562                                    J05AB11   \n",
       "1088   B01AB51;C05BA03;S01XA14;C05BA53;B01AB01   \n",
       "11270                                  M03AC04   \n",
       "\n",
       "                                             dg_synonyms  \n",
       "431    4'-demethylepipodophyllotoxin 9-(4,6-o-(r)-2-t...  \n",
       "550    (1r,2r,1'r,2'r)-2,2'-{pentane-1,5-diylbis[oxy(...  \n",
       "554                      natural heparin pentasaccharide  \n",
       "562    l-valine ester with 9-((2-hydroxyethoxy)methyl...  \n",
       "1088   eparina,heparina,heparine,heparinic acid,hepar...  \n",
       "11270                                                NaN  "
      ]
     },
     "execution_count": 77,
     "metadata": {},
     "output_type": "execute_result"
    }
   ],
   "source": [
    "drug_smiles_drugbank[drug_smiles_drugbank['GenericName'].isin(['aciclovir','valaciclovir','fondaparinux','heparin','teniposide','podophyllotoxin','cisatracurium','atracurium'])]"
   ]
  },
  {
   "cell_type": "code",
   "execution_count": 78,
   "metadata": {},
   "outputs": [],
   "source": [
    "drug_complete[drug_complete['dg_smile_unif'].duplicated(keep=False)].sort_values('dg_smile_unif')\n",
    "#错误匹配的药物列表\n",
    "error_drug = ['aciclovir','heparin','podophyllotoxin','atracurium']"
   ]
  },
  {
   "cell_type": "code",
   "execution_count": 82,
   "metadata": {},
   "outputs": [
    {
     "data": {
      "text/html": [
       "<div>\n",
       "<style scoped>\n",
       "    .dataframe tbody tr th:only-of-type {\n",
       "        vertical-align: middle;\n",
       "    }\n",
       "\n",
       "    .dataframe tbody tr th {\n",
       "        vertical-align: top;\n",
       "    }\n",
       "\n",
       "    .dataframe thead th {\n",
       "        text-align: right;\n",
       "    }\n",
       "</style>\n",
       "<table border=\"1\" class=\"dataframe\">\n",
       "  <thead>\n",
       "    <tr style=\"text-align: right;\">\n",
       "      <th></th>\n",
       "      <th>GenericName</th>\n",
       "      <th>dg_smile</th>\n",
       "      <th>dg_ATC</th>\n",
       "    </tr>\n",
       "  </thead>\n",
       "  <tbody>\n",
       "    <tr>\n",
       "      <th>449</th>\n",
       "      <td>aciclovir</td>\n",
       "      <td>NaN</td>\n",
       "      <td>NaN</td>\n",
       "    </tr>\n",
       "    <tr>\n",
       "      <th>455</th>\n",
       "      <td>heparin</td>\n",
       "      <td>NaN</td>\n",
       "      <td>B01AB51;C05BA03;S01XA14;C05BA53;B01AB01</td>\n",
       "    </tr>\n",
       "    <tr>\n",
       "      <th>482</th>\n",
       "      <td>atracurium</td>\n",
       "      <td>NaN</td>\n",
       "      <td>M03AC04</td>\n",
       "    </tr>\n",
       "    <tr>\n",
       "      <th>730</th>\n",
       "      <td>podophyllotoxin</td>\n",
       "      <td>NaN</td>\n",
       "      <td>NaN</td>\n",
       "    </tr>\n",
       "  </tbody>\n",
       "</table>\n",
       "</div>"
      ],
      "text/plain": [
       "         GenericName dg_smile                                   dg_ATC\n",
       "449        aciclovir      NaN                                      NaN\n",
       "455          heparin      NaN  B01AB51;C05BA03;S01XA14;C05BA53;B01AB01\n",
       "482       atracurium      NaN                                  M03AC04\n",
       "730  podophyllotoxin      NaN                                      NaN"
      ]
     },
     "execution_count": 82,
     "metadata": {},
     "output_type": "execute_result"
    }
   ],
   "source": [
    "drug31[drug31['GenericName'].isin(error_drug)]"
   ]
  },
  {
   "cell_type": "code",
   "execution_count": 79,
   "metadata": {},
   "outputs": [
    {
     "data": {
      "text/html": [
       "<div>\n",
       "<style scoped>\n",
       "    .dataframe tbody tr th:only-of-type {\n",
       "        vertical-align: middle;\n",
       "    }\n",
       "\n",
       "    .dataframe tbody tr th {\n",
       "        vertical-align: top;\n",
       "    }\n",
       "\n",
       "    .dataframe thead th {\n",
       "        text-align: right;\n",
       "    }\n",
       "</style>\n",
       "<table border=\"1\" class=\"dataframe\">\n",
       "  <thead>\n",
       "    <tr style=\"text-align: right;\">\n",
       "      <th></th>\n",
       "      <th>GenericName</th>\n",
       "      <th>dg_smile_unif</th>\n",
       "      <th>dg_ATC_drugbank</th>\n",
       "    </tr>\n",
       "  </thead>\n",
       "  <tbody>\n",
       "    <tr>\n",
       "      <th>0</th>\n",
       "      <td>alfentanil</td>\n",
       "      <td>CCC(=O)N(c1ccccc1)C1(COC)CCN(CCn2nnn(CC)c2=O)CC1</td>\n",
       "      <td>N01AH02</td>\n",
       "    </tr>\n",
       "    <tr>\n",
       "      <th>1</th>\n",
       "      <td>telithromycin</td>\n",
       "      <td>CC[C@H]1OC(=O)[C@H](C)C(=O)[C@H](C)[C@@H](O[C@...</td>\n",
       "      <td>J01FA15</td>\n",
       "    </tr>\n",
       "  </tbody>\n",
       "</table>\n",
       "</div>"
      ],
      "text/plain": [
       "     GenericName                                      dg_smile_unif  \\\n",
       "0     alfentanil   CCC(=O)N(c1ccccc1)C1(COC)CCN(CCn2nnn(CC)c2=O)CC1   \n",
       "1  telithromycin  CC[C@H]1OC(=O)[C@H](C)C(=O)[C@H](C)[C@@H](O[C@...   \n",
       "\n",
       "  dg_ATC_drugbank  \n",
       "0         N01AH02  \n",
       "1         J01FA15  "
      ]
     },
     "execution_count": 79,
     "metadata": {},
     "output_type": "execute_result"
    }
   ],
   "source": [
    "drug33 = drug32.iloc[:,[0,3,2]]\n",
    "drug33.columns = ['GenericName','dg_smile_unif','dg_ATC_drugbank']\n",
    "drug33.head(2)"
   ]
  },
  {
   "cell_type": "code",
   "execution_count": 85,
   "metadata": {},
   "outputs": [
    {
     "data": {
      "text/plain": [
       "'C1=CC(=CC=C1C(=N)N)OCCCCCOC2=CC=C(C=C2)C(=N)N.C(CS(=O)(=O)O)O.C(CS(=O)(=O)O)O'"
      ]
     },
     "execution_count": 85,
     "metadata": {},
     "output_type": "execute_result"
    }
   ],
   "source": [
    "drug33.dropna(subset=['GenericName','dg_smile_unif']).iloc[3,1]"
   ]
  },
  {
   "cell_type": "code",
   "execution_count": 93,
   "metadata": {},
   "outputs": [
    {
     "data": {
      "text/html": [
       "<div>\n",
       "<style scoped>\n",
       "    .dataframe tbody tr th:only-of-type {\n",
       "        vertical-align: middle;\n",
       "    }\n",
       "\n",
       "    .dataframe tbody tr th {\n",
       "        vertical-align: top;\n",
       "    }\n",
       "\n",
       "    .dataframe thead th {\n",
       "        text-align: right;\n",
       "    }\n",
       "</style>\n",
       "<table border=\"1\" class=\"dataframe\">\n",
       "  <thead>\n",
       "    <tr style=\"text-align: right;\">\n",
       "      <th></th>\n",
       "      <th>GenericName</th>\n",
       "      <th>dg_smile</th>\n",
       "      <th>dg_ATC</th>\n",
       "      <th>dg_smile_unif</th>\n",
       "    </tr>\n",
       "  </thead>\n",
       "  <tbody>\n",
       "    <tr>\n",
       "      <th>0</th>\n",
       "      <td>alfentanil</td>\n",
       "      <td>CCN1N=NN(CCN2CCC(COC)(CC2)N(C(=O)CC)C2=CC=CC=C...</td>\n",
       "      <td>N01AH02</td>\n",
       "      <td>CCC(=O)N(c1ccccc1)C1(COC)CCN(CCn2nnn(CC)c2=O)CC1</td>\n",
       "    </tr>\n",
       "    <tr>\n",
       "      <th>1</th>\n",
       "      <td>telithromycin</td>\n",
       "      <td>[H][C@@]12[C@@H](C)C(=O)[C@H](C)C[C@@](C)(OC)[...</td>\n",
       "      <td>J01FA15</td>\n",
       "      <td>CC[C@H]1OC(=O)[C@H](C)C(=O)[C@H](C)[C@@H](O[C@...</td>\n",
       "    </tr>\n",
       "    <tr>\n",
       "      <th>2</th>\n",
       "      <td>simeprevir</td>\n",
       "      <td>[H][C@]12C[C@]1(NC(=O)[C@]1([H])C[C@H](C[C@@]1...</td>\n",
       "      <td>G01AE10;J05AP05</td>\n",
       "      <td>COc1ccc2c(O[C@@H]3C[C@H]4C(=O)N[C@]5(C(=O)NS(=...</td>\n",
       "    </tr>\n",
       "    <tr>\n",
       "      <th>3</th>\n",
       "      <td>pentamidine isethionate</td>\n",
       "      <td>NaN</td>\n",
       "      <td>NaN</td>\n",
       "      <td>C1=CC(=CC=C1C(=N)N)OCCCCCOC2=CC=C(C=C2)C(=N)N....</td>\n",
       "    </tr>\n",
       "    <tr>\n",
       "      <th>4</th>\n",
       "      <td>penicillamine</td>\n",
       "      <td>[H][C@](N)(C(O)=O)C(C)(C)S</td>\n",
       "      <td>M01CC01</td>\n",
       "      <td>CC(C)(S)[C@@H](N)C(=O)O</td>\n",
       "    </tr>\n",
       "    <tr>\n",
       "      <th>...</th>\n",
       "      <td>...</td>\n",
       "      <td>...</td>\n",
       "      <td>...</td>\n",
       "      <td>...</td>\n",
       "    </tr>\n",
       "    <tr>\n",
       "      <th>754</th>\n",
       "      <td>rufinamide</td>\n",
       "      <td>NC(=O)C1=CN(CC2=C(F)C=CC=C2F)N=N1</td>\n",
       "      <td>N03AF03</td>\n",
       "      <td>NC(=O)c1cn(Cc2c(F)cccc2F)nn1</td>\n",
       "    </tr>\n",
       "    <tr>\n",
       "      <th>755</th>\n",
       "      <td>tafluprost</td>\n",
       "      <td>CC(C)OC(=O)CCC\\C=C/C[C@H]1[C@@H](O)C[C@@H](O)[...</td>\n",
       "      <td>S01EE05</td>\n",
       "      <td>CC(C)OC(=O)CCC/C=C\\C[C@@H]1[C@@H](/C=C/C(F)(F)...</td>\n",
       "    </tr>\n",
       "    <tr>\n",
       "      <th>756</th>\n",
       "      <td>cabazitaxel</td>\n",
       "      <td>[H][C@]12[C@H](OC(=O)C3=CC=CC=C3)[C@]3(O)C[C@H...</td>\n",
       "      <td>L01CD04</td>\n",
       "      <td>CO[C@H]1C(=O)[C@]2(C)[C@@H](OC)C[C@H]3OC[C@@]3...</td>\n",
       "    </tr>\n",
       "    <tr>\n",
       "      <th>757</th>\n",
       "      <td>aclidinium bromide</td>\n",
       "      <td>NaN</td>\n",
       "      <td>NaN</td>\n",
       "      <td>C1C[N+]2(CCC1[C@H](C2)OC(=O)C(C3=CC=CS3)(C4=CC...</td>\n",
       "    </tr>\n",
       "    <tr>\n",
       "      <th>758</th>\n",
       "      <td>ciclosporin</td>\n",
       "      <td>CC[C@@H]1NC(=O)[C@H]([C@H](O)[C@H](C)C\\C=C\\C)N...</td>\n",
       "      <td>NaN</td>\n",
       "      <td>C/C=C/C[C@@H](C)[C@@H](O)[C@H]1C(=O)N[C@@H](CC...</td>\n",
       "    </tr>\n",
       "  </tbody>\n",
       "</table>\n",
       "<p>759 rows × 4 columns</p>\n",
       "</div>"
      ],
      "text/plain": [
       "                 GenericName  \\\n",
       "0                 alfentanil   \n",
       "1              telithromycin   \n",
       "2                 simeprevir   \n",
       "3    pentamidine isethionate   \n",
       "4              penicillamine   \n",
       "..                       ...   \n",
       "754               rufinamide   \n",
       "755               tafluprost   \n",
       "756              cabazitaxel   \n",
       "757       aclidinium bromide   \n",
       "758              ciclosporin   \n",
       "\n",
       "                                              dg_smile           dg_ATC  \\\n",
       "0    CCN1N=NN(CCN2CCC(COC)(CC2)N(C(=O)CC)C2=CC=CC=C...          N01AH02   \n",
       "1    [H][C@@]12[C@@H](C)C(=O)[C@H](C)C[C@@](C)(OC)[...          J01FA15   \n",
       "2    [H][C@]12C[C@]1(NC(=O)[C@]1([H])C[C@H](C[C@@]1...  G01AE10;J05AP05   \n",
       "3                                                  NaN              NaN   \n",
       "4                           [H][C@](N)(C(O)=O)C(C)(C)S          M01CC01   \n",
       "..                                                 ...              ...   \n",
       "754                  NC(=O)C1=CN(CC2=C(F)C=CC=C2F)N=N1          N03AF03   \n",
       "755  CC(C)OC(=O)CCC\\C=C/C[C@H]1[C@@H](O)C[C@@H](O)[...          S01EE05   \n",
       "756  [H][C@]12[C@H](OC(=O)C3=CC=CC=C3)[C@]3(O)C[C@H...          L01CD04   \n",
       "757                                                NaN              NaN   \n",
       "758  CC[C@@H]1NC(=O)[C@H]([C@H](O)[C@H](C)C\\C=C\\C)N...              NaN   \n",
       "\n",
       "                                         dg_smile_unif  \n",
       "0     CCC(=O)N(c1ccccc1)C1(COC)CCN(CCn2nnn(CC)c2=O)CC1  \n",
       "1    CC[C@H]1OC(=O)[C@H](C)C(=O)[C@H](C)[C@@H](O[C@...  \n",
       "2    COc1ccc2c(O[C@@H]3C[C@H]4C(=O)N[C@]5(C(=O)NS(=...  \n",
       "3    C1=CC(=CC=C1C(=N)N)OCCCCCOC2=CC=C(C=C2)C(=N)N....  \n",
       "4                              CC(C)(S)[C@@H](N)C(=O)O  \n",
       "..                                                 ...  \n",
       "754                       NC(=O)c1cn(Cc2c(F)cccc2F)nn1  \n",
       "755  CC(C)OC(=O)CCC/C=C\\C[C@@H]1[C@@H](/C=C/C(F)(F)...  \n",
       "756  CO[C@H]1C(=O)[C@]2(C)[C@@H](OC)C[C@H]3OC[C@@]3...  \n",
       "757  C1C[N+]2(CCC1[C@H](C2)OC(=O)C(C3=CC=CS3)(C4=CC...  \n",
       "758  C/C=C/C[C@@H](C)[C@@H](O)[C@H]1C(=O)N[C@@H](CC...  \n",
       "\n",
       "[759 rows x 4 columns]"
      ]
     },
     "execution_count": 93,
     "metadata": {},
     "output_type": "execute_result"
    }
   ],
   "source": [
    "drug32"
   ]
  },
  {
   "cell_type": "code",
   "execution_count": 87,
   "metadata": {},
   "outputs": [
    {
     "data": {
      "text/html": [
       "<div>\n",
       "<style scoped>\n",
       "    .dataframe tbody tr th:only-of-type {\n",
       "        vertical-align: middle;\n",
       "    }\n",
       "\n",
       "    .dataframe tbody tr th {\n",
       "        vertical-align: top;\n",
       "    }\n",
       "\n",
       "    .dataframe thead th {\n",
       "        text-align: right;\n",
       "    }\n",
       "</style>\n",
       "<table border=\"1\" class=\"dataframe\">\n",
       "  <thead>\n",
       "    <tr style=\"text-align: right;\">\n",
       "      <th></th>\n",
       "      <th>GenericName</th>\n",
       "      <th>dg_smile_unif</th>\n",
       "      <th>dg_ATC_drugbank</th>\n",
       "    </tr>\n",
       "  </thead>\n",
       "  <tbody>\n",
       "    <tr>\n",
       "      <th>0</th>\n",
       "      <td>alfentanil</td>\n",
       "      <td>CCC(=O)N(c1ccccc1)C1(COC)CCN(CCn2nnn(CC)c2=O)CC1</td>\n",
       "      <td>N01AH02</td>\n",
       "    </tr>\n",
       "    <tr>\n",
       "      <th>1</th>\n",
       "      <td>telithromycin</td>\n",
       "      <td>CC[C@H]1OC(=O)[C@H](C)C(=O)[C@H](C)[C@@H](O[C@...</td>\n",
       "      <td>J01FA15</td>\n",
       "    </tr>\n",
       "    <tr>\n",
       "      <th>2</th>\n",
       "      <td>simeprevir</td>\n",
       "      <td>COc1ccc2c(O[C@@H]3C[C@H]4C(=O)N[C@]5(C(=O)NS(=...</td>\n",
       "      <td>G01AE10;J05AP05</td>\n",
       "    </tr>\n",
       "    <tr>\n",
       "      <th>3</th>\n",
       "      <td>pentamidine isethionate</td>\n",
       "      <td>C1=CC(=CC=C1C(=N)N)OCCCCCOC2=CC=C(C=C2)C(=N)N....</td>\n",
       "      <td>NaN</td>\n",
       "    </tr>\n",
       "    <tr>\n",
       "      <th>4</th>\n",
       "      <td>penicillamine</td>\n",
       "      <td>CC(C)(S)[C@@H](N)C(=O)O</td>\n",
       "      <td>M01CC01</td>\n",
       "    </tr>\n",
       "    <tr>\n",
       "      <th>...</th>\n",
       "      <td>...</td>\n",
       "      <td>...</td>\n",
       "      <td>...</td>\n",
       "    </tr>\n",
       "    <tr>\n",
       "      <th>754</th>\n",
       "      <td>rufinamide</td>\n",
       "      <td>NC(=O)c1cn(Cc2c(F)cccc2F)nn1</td>\n",
       "      <td>N03AF03</td>\n",
       "    </tr>\n",
       "    <tr>\n",
       "      <th>755</th>\n",
       "      <td>tafluprost</td>\n",
       "      <td>CC(C)OC(=O)CCC/C=C\\C[C@@H]1[C@@H](/C=C/C(F)(F)...</td>\n",
       "      <td>S01EE05</td>\n",
       "    </tr>\n",
       "    <tr>\n",
       "      <th>756</th>\n",
       "      <td>cabazitaxel</td>\n",
       "      <td>CO[C@H]1C(=O)[C@]2(C)[C@@H](OC)C[C@H]3OC[C@@]3...</td>\n",
       "      <td>L01CD04</td>\n",
       "    </tr>\n",
       "    <tr>\n",
       "      <th>757</th>\n",
       "      <td>aclidinium bromide</td>\n",
       "      <td>C1C[N+]2(CCC1[C@H](C2)OC(=O)C(C3=CC=CS3)(C4=CC...</td>\n",
       "      <td>NaN</td>\n",
       "    </tr>\n",
       "    <tr>\n",
       "      <th>758</th>\n",
       "      <td>ciclosporin</td>\n",
       "      <td>C/C=C/C[C@@H](C)[C@@H](O)[C@H]1C(=O)N[C@@H](CC...</td>\n",
       "      <td>NaN</td>\n",
       "    </tr>\n",
       "  </tbody>\n",
       "</table>\n",
       "<p>712 rows × 3 columns</p>\n",
       "</div>"
      ],
      "text/plain": [
       "                 GenericName  \\\n",
       "0                 alfentanil   \n",
       "1              telithromycin   \n",
       "2                 simeprevir   \n",
       "3    pentamidine isethionate   \n",
       "4              penicillamine   \n",
       "..                       ...   \n",
       "754               rufinamide   \n",
       "755               tafluprost   \n",
       "756              cabazitaxel   \n",
       "757       aclidinium bromide   \n",
       "758              ciclosporin   \n",
       "\n",
       "                                         dg_smile_unif  dg_ATC_drugbank  \n",
       "0     CCC(=O)N(c1ccccc1)C1(COC)CCN(CCn2nnn(CC)c2=O)CC1          N01AH02  \n",
       "1    CC[C@H]1OC(=O)[C@H](C)C(=O)[C@H](C)[C@@H](O[C@...          J01FA15  \n",
       "2    COc1ccc2c(O[C@@H]3C[C@H]4C(=O)N[C@]5(C(=O)NS(=...  G01AE10;J05AP05  \n",
       "3    C1=CC(=CC=C1C(=N)N)OCCCCCOC2=CC=C(C=C2)C(=N)N....              NaN  \n",
       "4                              CC(C)(S)[C@@H](N)C(=O)O          M01CC01  \n",
       "..                                                 ...              ...  \n",
       "754                       NC(=O)c1cn(Cc2c(F)cccc2F)nn1          N03AF03  \n",
       "755  CC(C)OC(=O)CCC/C=C\\C[C@@H]1[C@@H](/C=C/C(F)(F)...          S01EE05  \n",
       "756  CO[C@H]1C(=O)[C@]2(C)[C@@H](OC)C[C@H]3OC[C@@]3...          L01CD04  \n",
       "757  C1C[N+]2(CCC1[C@H](C2)OC(=O)C(C3=CC=CS3)(C4=CC...              NaN  \n",
       "758  C/C=C/C[C@@H](C)[C@@H](O)[C@H]1C(=O)N[C@@H](CC...              NaN  \n",
       "\n",
       "[712 rows x 3 columns]"
      ]
     },
     "execution_count": 87,
     "metadata": {},
     "output_type": "execute_result"
    }
   ],
   "source": [
    "drug33.dropna(subset=['GenericName','dg_smile_unif'])"
   ]
  },
  {
   "cell_type": "code",
   "execution_count": 86,
   "metadata": {},
   "outputs": [
    {
     "data": {
      "image/png": "[encoded data removed]",
      "text/plain": [
       "<PIL.PngImagePlugin.PngImageFile image mode=RGB size=300x300>"
      ]
     },
     "execution_count": 86,
     "metadata": {},
     "output_type": "execute_result"
    }
   ],
   "source": [
    "mol = Chem.MolFromSmiles('C1=CC(=CC=C1C(=N)N)OCCCCCOC2=CC=C(C=C2)C(=N)N.C(CS(=O)(=O)O)O.C(CS(=O)(=O)O)O')\n",
    "Chem.Draw.MolToImage(mol)"
   ]
  },
  {
   "cell_type": "code",
   "execution_count": 88,
   "metadata": {},
   "outputs": [
    {
     "data": {
      "text/plain": [
       "'N=C(N)c1ccc(OCCCCCOc2ccc(C(=N)N)cc2)cc1.O=S(=O)(O)CCO.O=S(=O)(O)CCO'"
      ]
     },
     "execution_count": 88,
     "metadata": {},
     "output_type": "execute_result"
    }
   ],
   "source": [
    "Chem.MolToSmiles(mol, isomericSmiles=True)"
   ]
  },
  {
   "cell_type": "code",
   "execution_count": 61,
   "metadata": {},
   "outputs": [
    {
     "data": {
      "text/plain": [
       "{'pentamidine isethionate': 'C1=CC(=CC=C1C(=N)N)OCCCCCOC2=CC=C(C=C2)C(=N)N.C(CS(=O)(=O)O)O.C(CS(=O)(=O)O)O',\n",
       " 'octreotide': None,\n",
       " 'rasburicase': None,\n",
       " 'insulin glargine': None,\n",
       " 'tiotropium bromide': 'C[N+]1([C@@H]2CC(C[C@H]1[C@H]3[C@@H]2O3)OC(=O)C(C4=CC=CS4)(C5=CC=CS5)O)C.[Br-]',\n",
       " 'ipratropium bromide': None,\n",
       " 'eptifibatide': None,\n",
       " 'exenatide': None,\n",
       " 'porfimer sodium': None,\n",
       " 'erythropoietin': 'CCCCC1=NC(=C(N1CC2=CC=C(C=C2)C3=CC=CC=C3C4=NN=N[N-]4)CO)Cl.[K+]',\n",
       " 'colesevelam': 'CCCCCCCCCCNCC=C.C[N+](C)(C)CCCCCCNCC=C.C=CCN.C1C(O1)CCl.Cl.[Cl-]',\n",
       " 'colestyramine': None,\n",
       " 'ofatumumab': None,\n",
       " 'colestilan': 'CC1=NC=CN1.C1C(O1)CCl',\n",
       " 'oxaliplatin': 'C1CC[C@H]([C@@H](C1)[NH-])[NH-].C(=O)(C(=O)O)O.[Pt+2]',\n",
       " 'liraglutide': None,\n",
       " 'desirudin': None,\n",
       " 'calcium folinate': None,\n",
       " 'enfuvirtide': None,\n",
       " 'sodium phenylbutyrate': None,\n",
       " 'insulin aspart': None,\n",
       " 'glatiramer acetate': None,\n",
       " 'dalteparin': 'CC(=O)NC1C(C(C(OC1O)COS(=O)(=O)O)OC2C(C(C(C(O2)C(=O)O)OC3C(C(C(C(O3)CO)OC4C(C(C(C(O4)C(=O)O)O)O)OS(=O)(=O)O)OS(=O)(=O)O)NS(=O)(=O)O)O)OS(=O)(=O)O)O',\n",
       " 'tesamorelin': None,\n",
       " 'ustekinumab': None,\n",
       " 'sodium phosphate': None,\n",
       " 'glycopyrronium bromide': None,\n",
       " 'lepirudin': None,\n",
       " 'pentosan polysulfate sodium': None,\n",
       " 'interferon alfa-2b': None,\n",
       " 'insulin detemir': None,\n",
       " 'insulin lispro': None,\n",
       " 'lamivudine and abacavir': None,\n",
       " 'umeclidinium bromide': None,\n",
       " 'olmesartan medoxomil': None,\n",
       " 'radium (223ra) dichloride': None,\n",
       " 'teduglutide': None,\n",
       " 'ecallantide': None,\n",
       " 'teriparatide': None,\n",
       " 'muromonab-cd3': None,\n",
       " 'sulfamethoxazole and trimethoprim': None,\n",
       " 'urofollitropin': None,\n",
       " 'pegvisomant': None,\n",
       " 'nesiritide': None,\n",
       " 'albumin': None,\n",
       " 'carboplatin': 'C1CC(C1)(C(=O)O)C(=O)O.[NH2-].[NH2-].[Pt+2]',\n",
       " 'technetium (99mtc) exametazime': None,\n",
       " 'salmeterol and fluticasone': None,\n",
       " 'romiplostim': None,\n",
       " 'secretin': None,\n",
       " 'mesna': 'C(CS(=O)(=O)[O-])S.[Na+]',\n",
       " 'oxytocin': None,\n",
       " 'mipomersen': None,\n",
       " 'dalbavancin': None,\n",
       " 'temoporfin': 'C1CC2=NC1=C(C3=CC=C(N3)C(=C4C=CC(=N4)C(=C5C=CC(=C2C6=CC(=CC=C6)O)N5)C7=CC(=CC=C7)O)C8=CC(=CC=C8)O)C9=CC(=CC=C9)O',\n",
       " 'methylnaltrexone bromide': None,\n",
       " 'conjugated estrogens': None,\n",
       " 'aclidinium bromide': 'C1C[N+]2(CCC1[C@H](C2)OC(=O)C(C3=CC=CS3)(C4=CC=CS4)O)CCCOC5=CC=CC=C5.[Br-]'}"
      ]
     },
     "execution_count": 61,
     "metadata": {},
     "output_type": "execute_result"
    }
   ],
   "source": [
    "miss_smile"
   ]
  },
  {
   "cell_type": "code",
   "execution_count": 261,
   "metadata": {},
   "outputs": [
    {
     "data": {
      "text/plain": [
       "(47, 3)"
      ]
     },
     "execution_count": 261,
     "metadata": {},
     "output_type": "execute_result"
    }
   ],
   "source": [
    "drug31['dg_ATC'].isna()"
   ]
  },
  {
   "cell_type": "code",
   "execution_count": 185,
   "metadata": {},
   "outputs": [
    {
     "data": {
      "text/html": [
       "<div>\n",
       "<style scoped>\n",
       "    .dataframe tbody tr th:only-of-type {\n",
       "        vertical-align: middle;\n",
       "    }\n",
       "\n",
       "    .dataframe tbody tr th {\n",
       "        vertical-align: top;\n",
       "    }\n",
       "\n",
       "    .dataframe thead th {\n",
       "        text-align: right;\n",
       "    }\n",
       "</style>\n",
       "<table border=\"1\" class=\"dataframe\">\n",
       "  <thead>\n",
       "    <tr style=\"text-align: right;\">\n",
       "      <th></th>\n",
       "      <th>GenericName</th>\n",
       "      <th>dg_smile</th>\n",
       "      <th>dg_ATC</th>\n",
       "    </tr>\n",
       "  </thead>\n",
       "  <tbody>\n",
       "    <tr>\n",
       "      <th>0</th>\n",
       "      <td>alfentanil</td>\n",
       "      <td>CCN1N=NN(CCN2CCC(COC)(CC2)N(C(=O)CC)C2=CC=CC=C...</td>\n",
       "      <td>N01AH02</td>\n",
       "    </tr>\n",
       "    <tr>\n",
       "      <th>1</th>\n",
       "      <td>telithromycin</td>\n",
       "      <td>[H][C@@]12[C@@H](C)C(=O)[C@H](C)C[C@@](C)(OC)[...</td>\n",
       "      <td>J01FA15</td>\n",
       "    </tr>\n",
       "    <tr>\n",
       "      <th>2</th>\n",
       "      <td>simeprevir</td>\n",
       "      <td>[H][C@]12C[C@]1(NC(=O)[C@]1([H])C[C@H](C[C@@]1...</td>\n",
       "      <td>G01AE10;J05AP05</td>\n",
       "    </tr>\n",
       "    <tr>\n",
       "      <th>3</th>\n",
       "      <td>pentamidine isethionate</td>\n",
       "      <td>NaN</td>\n",
       "      <td>NaN</td>\n",
       "    </tr>\n",
       "    <tr>\n",
       "      <th>4</th>\n",
       "      <td>penicillamine</td>\n",
       "      <td>[H][C@](N)(C(O)=O)C(C)(C)S</td>\n",
       "      <td>M01CC01</td>\n",
       "    </tr>\n",
       "  </tbody>\n",
       "</table>\n",
       "</div>"
      ],
      "text/plain": [
       "               GenericName                                           dg_smile  \\\n",
       "0               alfentanil  CCN1N=NN(CCN2CCC(COC)(CC2)N(C(=O)CC)C2=CC=CC=C...   \n",
       "1            telithromycin  [H][C@@]12[C@@H](C)C(=O)[C@H](C)C[C@@](C)(OC)[...   \n",
       "2               simeprevir  [H][C@]12C[C@]1(NC(=O)[C@]1([H])C[C@H](C[C@@]1...   \n",
       "3  pentamidine isethionate                                                NaN   \n",
       "4            penicillamine                         [H][C@](N)(C(O)=O)C(C)(C)S   \n",
       "\n",
       "            dg_ATC  \n",
       "0          N01AH02  \n",
       "1          J01FA15  \n",
       "2  G01AE10;J05AP05  \n",
       "3              NaN  \n",
       "4          M01CC01  "
      ]
     },
     "execution_count": 185,
     "metadata": {},
     "output_type": "execute_result"
    }
   ],
   "source": [
    "drug31.head()"
   ]
  },
  {
   "cell_type": "code",
   "execution_count": null,
   "metadata": {},
   "outputs": [],
   "source": [
    "#用以从pubchem找寻smiles的函数\n",
    "# \treturn maccs_str\n",
    "def search_from_Pubchem(name):\n",
    "    time.sleep(1)\n",
    "    if name == None:\n",
    "        pass\n",
    "    else:\n",
    "        try:\n",
    "            pubresu = get_compounds(name, 'name')[0]\n",
    "        except:\n",
    "            # row['activesubstancename'] = drug\n",
    "            smiles=None\n",
    "        else:\n",
    "            # row['activesubstancename'] = drug\n",
    "            if pubresu.isomeric_smiles is not None:\n",
    "                smiles = pubresu.isomeric_smiles\n",
    "            elif pubresu.canonical_smiles is not None:\n",
    "                smiles = pubresu.canonical_smiles\n",
    "            else:\n",
    "                smiles=None\n",
    "        return smiles"
   ]
  }
 ],
 "metadata": {
  "kernelspec": {
   "display_name": "drug_ade_37",
   "language": "python",
   "name": "python3"
  },
  "language_info": {
   "codemirror_mode": {
    "name": "ipython",
    "version": 3
   },
   "file_extension": ".py",
   "mimetype": "text/x-python",
   "name": "python",
   "nbconvert_exporter": "python",
   "pygments_lexer": "ipython3",
   "version": "3.7.1"
  }
 },
 "nbformat": 4,
 "nbformat_minor": 2
}
