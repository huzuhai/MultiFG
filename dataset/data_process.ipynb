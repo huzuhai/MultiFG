{
 "cells": [
  {
   "cell_type": "code",
   "execution_count": 10,
   "metadata": {},
   "outputs": [],
   "source": [
    "import xml.etree.ElementTree as ET\n",
    "import pandas as pd\n",
    "\n",
    "\n",
    "# from multiprocessing import Pool\n",
    "from utils_data import *\n",
    "from tqdm import tqdm"
   ]
  },
  {
   "cell_type": "markdown",
   "metadata": {},
   "source": [
    "Load and merge the dataset from previous studies."
   ]
  },
  {
   "cell_type": "code",
   "execution_count": 2,
   "metadata": {},
   "outputs": [
    {
     "name": "stderr",
     "output_type": "stream",
     "text": [
      "d:\\Sorftware\\Anaconda\\envs\\drug_ade_37\\lib\\site-packages\\ipykernel_launcher.py:8: FutureWarning: The default value of regex will change from True to False in a future version. In addition, single character regular expressions will *not* be treated as literal strings when regex=True.\n",
      "  \n"
     ]
    }
   ],
   "source": [
    "drug_adr = pd.read_csv('original data/Supplementary Data 1.txt', \\\n",
    "                   sep='\\t', header=0)\n",
    "drug_adr = drug_adr.drop(drug_adr.columns[-1], axis=1)\n",
    "drug_atc = pd.read_csv(\"original data/Supplementary Data 4.txt\",sep='\\t',header=0)\n",
    "adr_similar_df = pd.read_csv('adr_similar_df.csv')\n",
    "data1 = pd.merge(drug_adr,drug_atc,how='left',on='GenericName')\n",
    "data1['GenericName'] = data1['GenericName'].str.lower()\n",
    "data1['GenericName'] = data1['GenericName'].str.replace('.',' ')\n",
    "drug3 = data1[['GenericName']].drop_duplicates()"
   ]
  },
  {
   "cell_type": "markdown",
   "metadata": {},
   "source": [
    "Parse and merge the DrugBank dataset."
   ]
  },
  {
   "cell_type": "code",
   "execution_count": 3,
   "metadata": {},
   "outputs": [
    {
     "name": "stderr",
     "output_type": "stream",
     "text": [
      "100%|██████████| 15235/15235 [00:01<00:00, 11345.27it/s]\n"
     ]
    }
   ],
   "source": [
    "tree = ET.parse(\"original data/full database.xml\") \n",
    "root = tree.getroot()\n",
    "drug_dict = {\"dg_id\": \"\",\n",
    "             \"dg_name\": \"\",\n",
    "             \"dg_smile\": \"\",\n",
    "             \"dg_ATC\": \"\",\n",
    "             \"dg_synonyms\": \"\"\n",
    "             }\n",
    "\n",
    "with open('pareGrug_drugbank.txt', 'w', encoding='utf-8') as writer:\n",
    "\twriter.write('|'.join(e for e in drug_dict) + '\\n') #write key\n",
    "\n",
    "\txmlns = '{http://www.drugbank.ca}'\n",
    "\tfor drug in tqdm(root):\n",
    "\t\t# parse dg_id\n",
    "\t\tdrug_bank_iter = xmlns + 'drugbank-id'\n",
    "\t\tdg_id = drug.find(drug_bank_iter)\n",
    "\t\tdrug_dict['dg_id'] = dg_id.text\n",
    "\n",
    "\t\t# parse dg_name\n",
    "\t\tdrug_name_iter = xmlns + 'name'\n",
    "\t\tdg_name = drug.find(drug_name_iter)\n",
    "\t\tdrug_dict['dg_name'] = dg_name.text\n",
    "\n",
    "\t\t# parse SMILES\n",
    "\t\tsmiles_property = drug.find(\".//{http://www.drugbank.ca}property[{http://www.drugbank.ca}kind='SMILES']\")\n",
    "\t\tif smiles_property is not None:\n",
    "\t\t\tdg_smile = smiles_property.find(\"{http://www.drugbank.ca}value\").text\n",
    "\t\t\tdrug_dict['dg_smile'] = dg_smile\n",
    "\n",
    "\t\t# parse ATC\n",
    "\t\tatc_iter = xmlns + 'atc-codes'\n",
    "\t\tdg_atcs = drug.find(\".//\" + atc_iter).findall(\"{http://www.drugbank.ca}atc-code\")\n",
    "\t\tif dg_atcs is not None:\n",
    "\t\t\tdg_atc_tem=[i.attrib['code'] for i in dg_atcs]\n",
    "\n",
    "\t\tdrug_dict['dg_ATC'] = \";\".join(dg_atc_tem)\n",
    "\n",
    "\n",
    "\t\t# parse synonyms\n",
    "\t\tdrug_synms_iter = xmlns + 'synonyms'\n",
    "\t\tdg_synms = drug.find(drug_synms_iter)\n",
    "\t\tdg_synm_ = dg_synms.findall(xmlns + 'synonym')\n",
    "\t\tdg_synm = ','.join(e.text for e in dg_synm_)\n",
    "\t\tdrug_dict['dg_synonyms'] = dg_synm\n",
    "\n",
    "\n",
    "\t\twriter.write('|'.join(drug_dict[tt] for tt in drug_dict) + '\\n') #write value\n",
    "\t\t#reset\n",
    "\t\tdrug_dict = {\"dg_id\": \"\",\n",
    "             \"dg_name\": \"\",\n",
    "             \"dg_smile\": \"\",\n",
    "             \"dg_ATC\": \"\",\n",
    "             \"dg_synonyms\": \"\"\n",
    "             }\n",
    "\n",
    "\n",
    "drug_smiles_drugbank = pd.read_csv(\"pareGrug_drugbank.txt\",sep='|',header=0)\n",
    "drug_smiles_drugbank.rename(columns={'dg_name':'GenericName'},inplace=True)\n",
    "drug_smiles_drugbank['GenericName'] = drug_smiles_drugbank['GenericName'].str.lower()\n",
    "drug_smiles_drugbank['dg_synonyms'] = drug_smiles_drugbank['dg_synonyms'].str.lower()\n",
    "drug31 = pd.merge(drug3,drug_smiles_drugbank[['GenericName','dg_smile','dg_ATC']],how='left' ,on='GenericName')\n",
    "\n",
    "#81 drugs that failed to match with DrugBank.\n",
    "miss_drug = drug31[drug31['dg_smile'].isna()]\n",
    "drug32 = drug31.copy()"
   ]
  },
  {
   "cell_type": "markdown",
   "metadata": {},
   "source": [
    "Search for drugs with failed SMILES encoding matches in the PubChem database."
   ]
  },
  {
   "cell_type": "code",
   "execution_count": 8,
   "metadata": {},
   "outputs": [
    {
     "name": "stderr",
     "output_type": "stream",
     "text": [
      "100%|██████████| 81/81 [11:49<00:00,  8.76s/it]\n"
     ]
    },
    {
     "data": {
      "text/plain": [
       "(17, 3)"
      ]
     },
     "execution_count": 8,
     "metadata": {},
     "output_type": "execute_result"
    }
   ],
   "source": [
    "miss_smile={}\n",
    "for i in tqdm(miss_drug['GenericName']):\n",
    "\tmiss_smile[i]=search_from_Pubchem(i)\n",
    " \n",
    "for i in range(drug32.shape[0]):\n",
    "    if pd.isna(drug32.iloc[i,1])== True:\n",
    "        drug32.iloc[i,1] = miss_smile[drug32.iloc[i,0]]\n",
    "drug32[drug32['dg_smile'].isna()].shape"
   ]
  },
  {
   "cell_type": "markdown",
   "metadata": {},
   "source": [
    "Standardize SMILES encoding."
   ]
  },
  {
   "cell_type": "code",
   "execution_count": 1,
   "metadata": {},
   "outputs": [],
   "source": [
    "drug32['dg_smile_unif'] = drug32['dg_smile'].map(unify_smiles)\n",
    "miss_smile={}\n",
    "for i in tqdm(drug32[drug32['dg_smile_unif'].isna()]['GenericName']):\n",
    "\tmiss_smile[i]=search_from_Pubchem(i)\n",
    " \n",
    "for i in range(drug32.shape[0]):\n",
    "    if pd.isna(drug32.iloc[i,3])== True:\n",
    "        drug32.iloc[i,3] = miss_smile[drug32.iloc[i,0]]\n",
    "\n",
    "#743 drugs\n",
    "drug_complete = drug32.dropna(subset=['dg_smile_unif'])\n",
    "drug_complete['GenericName'] = drug_complete['GenericName'].str.lower()\n",
    "\n",
    "# drug_complete.to_csv('drug_complete.csv',index=False)"
   ]
  },
  {
   "cell_type": "code",
   "execution_count": 10,
   "metadata": {},
   "outputs": [],
   "source": [
    "data1['GenericName'] = data1['GenericName'].str.lower()\n",
    "data1['SideeffectTerm'] = data1['SideeffectTerm'].str.lower()\n",
    "adr_similar_df1 = adr_similar_df.drop(labels=adr_similar_df.columns[0],axis=1)\n",
    "adr_similar_df1['adr_name'] =adr_similar_df1['adr_name'].str.lower() \n",
    "adr_similar_df1.rename(columns={'adr_name': 'SideeffectTerm'},inplace=True)\n",
    "\n",
    "#merging drug and side effective information\n",
    "data2 = pd.merge(data1.iloc[:,0:3], drug_complete.iloc[:,[0,3]],how='left',on='GenericName') \n",
    "data2 = pd.merge(data2, adr_similar_df1,how='left',on='SideeffectTerm')\n",
    "data3 = data2.dropna(subset=['dg_smile_unif'],axis=0)\n",
    "# data3.to_csv('data3.csv',index=False)\n"
   ]
  },
  {
   "cell_type": "markdown",
   "metadata": {},
   "source": [
    "Extract the fingerprint features of the drug."
   ]
  },
  {
   "cell_type": "code",
   "execution_count": 11,
   "metadata": {},
   "outputs": [],
   "source": [
    "#get smile code\n",
    "smiles_all=data3[['GenericName','dg_smile_unif']].drop_duplicates()\n",
    "pubchemfinger ={}\n",
    "Macc = {}\n",
    "Morgan = {}\n",
    "Rtoplo = {}\n",
    "#pubchem fingerprint\n",
    "for i in tqdm(range(smiles_all.shape[0])):\n",
    "    pubchemfinger[smiles_all.iloc[i,0]]= getcompund(smiles_all.iloc[i,1], smiles_all.iloc[i,0])\n",
    "#maccs, morgan, rtoplo fringerprint    \n",
    "for i in tqdm(range(0, smiles_all.shape[0])):\n",
    "    Macc[smiles_all.iloc[i,0]], Morgan[smiles_all.iloc[i,0]], Rtoplo[smiles_all.iloc[i,0]] = fingerpint(smiles=smiles_all.iloc[i,1],drugname=smiles_all.iloc[i,0])\n",
    "\n",
    "smiles_all['Macc'] = smiles_all['GenericName'].map(lambda x: Macc[x])\n",
    "smiles_all['pubchem'] = smiles_all['GenericName'].map(lambda x: pubchemfinger[x])\n",
    "smiles_all['Morgan'] = smiles_all['GenericName'].map(lambda x: Morgan[x])\n",
    "smiles_all['Rtoplo'] = smiles_all['GenericName'].map(lambda x: Rtoplo[x])\n",
    "smiles_all['pharmfp'] = smiles_all.iloc[:,1].apply(phamfp) #Pharmacophore fingerprints.\n",
    "\n",
    "data4 = pd.merge(data3, smiles_all.iloc[:,[0,2,3,4,5,6]], how='left', on='GenericName')\n",
    "# data4.to_csv('analysis_data.csv', index=False)"
   ]
  }
 ],
 "metadata": {
  "kernelspec": {
   "display_name": "drug_ade_37",
   "language": "python",
   "name": "python3"
  },
  "language_info": {
   "codemirror_mode": {
    "name": "ipython",
    "version": 3
   },
   "file_extension": ".py",
   "mimetype": "text/x-python",
   "name": "python",
   "nbconvert_exporter": "python",
   "pygments_lexer": "ipython3",
   "version": "3.7.1"
  }
 },
 "nbformat": 4,
 "nbformat_minor": 2
}
